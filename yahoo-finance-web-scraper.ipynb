{
 "cells": [
  {
   "cell_type": "code",
   "execution_count": null,
   "metadata": {
    "id": "VUU_94gDRYWm"
   },
   "outputs": [],
   "source": [
    "# Jovian Commit Essentials\n",
    "# Please retain and execute this cell without modifying the contents for `jovian.commit` to work\n",
    "!pip install jovian -q\n",
    "import jovian\n",
    "jovian.set_project('yahoo-finance-web-scraper')\n",
    "jovian.set_colab_id('1BRmuZI_aFQWd62cRys6QUgaxAnGrLT6U')"
   ]
  },
  {
   "cell_type": "markdown",
   "metadata": {
    "id": "pF8beWv0lrgc"
   },
   "source": [
    "# Web Scraping Yahoo! Finance using multiple techniques in Python\n",
    "\n",
    "A detailed guide for scraping https://finance.yahoo.com/ using ***requests***, ***BeautifulSoup***, ***selenium***, ***HTML tags*** & existing available data in ***json*** format.\n",
    "\n",
    "![](https://imgur.com/7jMFOcE.png)"
   ]
  },
  {
   "cell_type": "markdown",
   "metadata": {
    "id": "5FULGhEjlrge"
   },
   "source": [
    "**What is Web scraping?**\n",
    "\n",
    "Web scraping is the process of extracting and parsing data from websites in an automated fashion using a computer program. It's a useful technique for creating datasets for research and learning.\n",
    "\n",
    "**Introduction**\n",
    "\n",
    "The main objective of this tutorial is to showcase different web scraping methods which can be applied to any web page. \n",
    "This is for educational purposes only. Please read the Terms & Conditions carefully for any website whether you can legally use the data. \n",
    "\n",
    "In this Project we will perform web scraping using following 3 techniques based on the problem statement.\n",
    "* use `BeautifulSoup` and `HTML tags` to extract web page\n",
    "* use `selenium` to scrape data from dynamically loading websites \n",
    "* scrape data using existing data available in `json` format\n",
    "\n"
   ]
  },
  {
   "cell_type": "markdown",
   "metadata": {
    "id": "7CFXNNENlrgf"
   },
   "source": [
    "**The problem statement**\n",
    "\n",
    "1. Scrape **Stock Market News** (url : https://finance.yahoo.com/topic/stock-market-news/) :<br>\n",
    "    This web page shows latest **news** related to **stock market**, we will try to extract data from this web page and store it in `CSV` (comma-separated values) file. The file layout would be as mentioned below.\n",
    "    ```\n",
    "    source,headline,url,content,image\n",
    "    <source of the news>,<news head line>,<news url>,<news content>,<news thumbnail image>\n",
    "    ```\n",
    "\n",
    "## TODO change this ##\n",
    "2. Scrape **Trending Tickers** (url : https://finance.yahoo.com/trending-tickers) :<br>\n",
    "    This yahoo finance web page is showing list of trending **Tickers** in tabular format, we will perform the web scraping to retrieve first 8 columns for all available **Tickers** in `CSV` format.\n",
    "    ```\n",
    "    Symbol,Name,Last Price,Market Time,Change,% Change,Volume,Market Cap\n",
    "    COKE,\"Coca-Cola Consolidated, Inc.\",446.66,4:00PM EST,-136.98,-23.47%,\"100,345\",4.187B\n",
    "    ```\n",
    "        \n",
    "3. Scrape **Market Events Calendar** (url : https://finance.yahoo.com/calendar) :<br> \n",
    "    This page is showing **date-wise market events**, user have option to select the date and choose any one of the following market event **Earnings**, **Stock Splits**, **Economic Events** & **IPO**. Our aim is to create script which can be run for any single date and market event which grabs the data and load it in `CSV` format. If there is no data found then just create file with column headers.\n",
    "    \n",
    "\n",
    "\n",
    "**Future Work**\n",
    "\n",
    "Automate this process to get daily calendar , trending tickers & news in CSV files\n",
    "- create daily 6 files \n",
    "- move the old files in to archive folder with time stamp \n",
    "- delete older files files older than 2 weeks"
   ]
  },
  {
   "cell_type": "markdown",
   "metadata": {
    "id": "5Z9UQZf8lrgg"
   },
   "source": [
    "**Prerequisites**\n",
    "\n",
    "* Knowledge of Python\n",
    "* Basic knowledge of HTML although it is not necessary\n"
   ]
  },
  {
   "cell_type": "markdown",
   "metadata": {
    "id": "kbMRHIhblrgh"
   },
   "source": [
    "**How to run the Code**\n",
    "\n",
    "You can execute the code using \"Run\" button on the top of this page and selecting **\"Run on Colab\"** or **\"Run Locally\"** \n",
    "<br>\n",
    "<br>\n",
    "**Setup and Tools**\n",
    "\n",
    "<u>Run on Colab :</u> \n",
    "    You will need to provide the Google login to run this notebook on Colab.<br>\n",
    "\n",
    "<u>Run Locally :</u> Download and install [Anaconda](https://www.anaconda.com/) framework, We will be using Jupyter Notebook for writing the & executing code\n",
    "\n"
   ]
  },
  {
   "cell_type": "markdown",
   "metadata": {
    "id": "-YjeIdedlrgh"
   },
   "source": [
    "**Code Re-usability & Version control**\n",
    "\n",
    "You can make changes and save your version of the notebook to [Jovian](https://jovian.ai/) by executing following cells."
   ]
  },
  {
   "cell_type": "code",
   "execution_count": 1,
   "metadata": {
    "id": "iLLVpn2olrgi"
   },
   "outputs": [],
   "source": [
    "!pip install jovian --upgrade --quiet"
   ]
  },
  {
   "cell_type": "code",
   "execution_count": 2,
   "metadata": {
    "id": "iTKJFEYglrgj"
   },
   "outputs": [
    {
     "data": {
      "application/javascript": [
       "if (window.IPython && IPython.notebook.kernel) IPython.notebook.kernel.execute('jovian.utils.jupyter.get_notebook_name_saved = lambda: \"' + IPython.notebook.notebook_name + '\"')"
      ],
      "text/plain": [
       "<IPython.core.display.Javascript object>"
      ]
     },
     "metadata": {},
     "output_type": "display_data"
    }
   ],
   "source": [
    "import jovian"
   ]
  },
  {
   "cell_type": "code",
   "execution_count": 3,
   "metadata": {
    "id": "AxYOBC1xlrgj"
   },
   "outputs": [
    {
     "data": {
      "application/javascript": [
       "window.require && require([\"base/js/namespace\"],function(Jupyter){Jupyter.notebook.save_checkpoint()})"
      ],
      "text/plain": [
       "<IPython.core.display.Javascript object>"
      ]
     },
     "metadata": {},
     "output_type": "display_data"
    },
    {
     "name": "stdout",
     "output_type": "stream",
     "text": [
      "[jovian] Updating notebook \"vinodvidhole/yahoo-finance-web-scraper\" on https://jovian.ai/\u001b[0m\n",
      "[jovian] Committed successfully! https://jovian.ai/vinodvidhole/yahoo-finance-web-scraper\u001b[0m\n"
     ]
    },
    {
     "data": {
      "text/plain": [
       "'https://jovian.ai/vinodvidhole/yahoo-finance-web-scraper'"
      ]
     },
     "execution_count": 3,
     "metadata": {},
     "output_type": "execute_result"
    }
   ],
   "source": [
    "# Execute this to save new versions of the notebook\n",
    "jovian.commit(project=\"yahoo-finance-web-scraper\")"
   ]
  },
  {
   "cell_type": "markdown",
   "metadata": {
    "id": "_SWl2eoMlrgk"
   },
   "source": [
    "## 1. Scrape Stock Market News \n",
    "\n",
    "## TODO Add image ?\n",
    "Lets kick start with the first objective. Here's an outline of the steps we'll follow<br>\n",
    "\n",
    "**1.1 Download & Parse webpage using `requests` and `BeautifulSoup`**<br>\n",
    "**1.2 Exploring and locating Elements**<br>\n",
    "**1.3 Extract & Compile the information into python list**<br>\n",
    "**1.4 Save the extracted information to a CSV file**<br>\n"
   ]
  },
  {
   "cell_type": "markdown",
   "metadata": {
    "id": "eSis_3UJlrgl"
   },
   "source": [
    "### 1.1 Download & Parse webpage using requests and BeautifulSoup\n",
    "\n",
    "First step is to install [`requests`](https://docs.python-requests.org/en/latest/) & [`beautifulsoup4`](https://www.crummy.com/software/BeautifulSoup/bs4/doc/) Libraries using `pip`."
   ]
  },
  {
   "cell_type": "code",
   "execution_count": 4,
   "metadata": {
    "id": "zXJKsNyQlrgl"
   },
   "outputs": [],
   "source": [
    "!pip install requests --upgrade --quiet\n",
    "!pip install beautifulsoup4 --upgrade --quiet"
   ]
  },
  {
   "cell_type": "code",
   "execution_count": 5,
   "metadata": {
    "id": "L_gdMI8llrgm"
   },
   "outputs": [],
   "source": [
    "import requests\n",
    "from bs4 import BeautifulSoup"
   ]
  },
  {
   "cell_type": "markdown",
   "metadata": {
    "id": "C1d4YUeDlrgm"
   },
   "source": [
    "The library is now installed and imported.<br>\n",
    "\n",
    "To download the page, we can use `requests.get`, which returns a response object. the HTML information of web page is captured in `response.text`.<br>\n",
    "`response.ok` & [`response.status_code`](https://developer.mozilla.org/en-US/docs/Web/HTTP/Status) can be used for error trapping &  tracking.<br> \n",
    "Finally we can use `BeautifulSoup` to parse the HTML data, this will return `bs4.BeautifulSoup` object  "
   ]
  },
  {
   "cell_type": "markdown",
   "metadata": {
    "id": "rD6E93Trlrgm"
   },
   "source": [
    "Lets create a function to perform this step "
   ]
  },
  {
   "cell_type": "code",
   "execution_count": 6,
   "metadata": {
    "id": "-FIURHiqlrgm"
   },
   "outputs": [],
   "source": [
    "def get_page(url):\n",
    "    \"\"\"Download a webpage and return a beautiful soup doc\"\"\"\n",
    "    response = requests.get(url)\n",
    "    if not response.ok:\n",
    "        print('Status code:', response.status_code)\n",
    "        raise Exception('Failed to load page {}'.format(url))\n",
    "    doc = BeautifulSoup(response.text, 'html.parser')\n",
    "    return doc"
   ]
  },
  {
   "cell_type": "markdown",
   "metadata": {
    "id": "susW06Hwlrgn"
   },
   "source": [
    "calling function `get_page` and analyze the output."
   ]
  },
  {
   "cell_type": "code",
   "execution_count": 7,
   "metadata": {
    "id": "cGWBiRCJlrgn"
   },
   "outputs": [],
   "source": [
    "my_url = 'https://finance.yahoo.com/topic/stock-market-news/' #Global variable \n",
    "doc = get_page(my_url)"
   ]
  },
  {
   "cell_type": "code",
   "execution_count": 8,
   "metadata": {
    "colab": {
     "base_uri": "https://localhost:8080/"
    },
    "id": "jvwJU_ULlrgn",
    "outputId": "a8117e45-6ae0-4f24-9748-c6693a3a24eb"
   },
   "outputs": [
    {
     "name": "stdout",
     "output_type": "stream",
     "text": [
      "Type of doc:  <class 'bs4.BeautifulSoup'>\n"
     ]
    }
   ],
   "source": [
    "print('Type of doc: ',type(doc))"
   ]
  },
  {
   "cell_type": "markdown",
   "metadata": {
    "id": "EqEwtKgTlrgn"
   },
   "source": [
    "You can access different properties of HTML web page from doc, following example will display Title of the web page.  "
   ]
  },
  {
   "cell_type": "code",
   "execution_count": 9,
   "metadata": {
    "colab": {
     "base_uri": "https://localhost:8080/"
    },
    "id": "S0xvsoyelrgo",
    "outputId": "811e7de4-9fed-4226-8f23-50864df3750b"
   },
   "outputs": [
    {
     "data": {
      "text/plain": [
       "<title>Latest Stock Market News</title>"
      ]
     },
     "execution_count": 9,
     "metadata": {},
     "output_type": "execute_result"
    }
   ],
   "source": [
    "doc.find('title')"
   ]
  },
  {
   "cell_type": "markdown",
   "metadata": {
    "id": "Hbs8VJS9lrgo"
   },
   "source": [
    "**Summary** : We can now use the function `get_page` to download any web page and parse it using beautiful soup."
   ]
  },
  {
   "cell_type": "markdown",
   "metadata": {
    "id": "DvSMJZeClrgo"
   },
   "source": [
    "### 1.2 Exploring and locating Elements\n",
    "Now its time to explore the elements to find the required data point from the web page. Web pages are written in a language called HTML (Hyper Text Markup Language).  HTML is a fairly simple language comprised of *tags*  (also called *nodes* or *elements*) e.g. `<a href=\"https://finance.yahoo.com/\" target=\"_blank\">Go to Yahoo! Finance</a>`. An HTML tag has three parts:\n",
    "\n",
    "\n",
    "\n",
    "1. **Name**: (`html`, `head`, `body`, `div`, etc.) Indicates what the tag represents and how a browser should interpret the information inside it.\n",
    "2. **Attributes**: (`href`, `target`, `class`, `id`, etc.) Properties of tag used by the browser to customize how a tag is displayed and decide what happens on user interactions.\n",
    "3. **Children**: A tag can contain some text or other tags or both between the opening and closing segments, e.g., `<div>Some content</div>`."
   ]
  },
  {
   "cell_type": "markdown",
   "metadata": {
    "id": "hAFbXWN2lrgo"
   },
   "source": [
    "Now lets inspect the webpage source code by right-click and select the \"Inspect\" option. First we need to identify the tag which represents the news listing.\n",
    "\n",
    "## TODO FIX BELOW "
   ]
  },
  {
   "cell_type": "markdown",
   "metadata": {
    "id": "C97r1w_5lrgo"
   },
   "source": [
    "![](https://media.giphy.com/media/RQpW64jdiQG8LNCGsZ/giphy.gif)\n"
   ]
  },
  {
   "cell_type": "markdown",
   "metadata": {
    "id": "Fr5ofFpFlrgo"
   },
   "source": [
    "In this case we can see the `<div>` tag having class name `\"Ov(h) Pend(44px) Pstart(25px)\"` is representing news listing, we can apply `find_all` method to grab this information "
   ]
  },
  {
   "cell_type": "code",
   "execution_count": 10,
   "metadata": {
    "id": "WF_cAVptlrgo"
   },
   "outputs": [],
   "source": [
    "div_tags = doc.find_all('div', {'class': \"Ov(h) Pend(44px) Pstart(25px)\"})"
   ]
  },
  {
   "cell_type": "markdown",
   "metadata": {
    "id": "I_Y4L3Kglrgp"
   },
   "source": [
    "Total elements in the `<div>` tag list is matching with the numbers of news displaying in the webpage , so we are heading towards right direction."
   ]
  },
  {
   "cell_type": "code",
   "execution_count": 11,
   "metadata": {
    "colab": {
     "base_uri": "https://localhost:8080/"
    },
    "id": "FniLi1nElrgp",
    "outputId": "422dca88-a49d-43fc-9af4-0dea6462ec83"
   },
   "outputs": [
    {
     "data": {
      "text/plain": [
       "7"
      ]
     },
     "execution_count": 11,
     "metadata": {},
     "output_type": "execute_result"
    }
   ],
   "source": [
    "len(div_tags)"
   ]
  },
  {
   "cell_type": "markdown",
   "metadata": {
    "id": "4acfugiWlrgp"
   },
   "source": [
    "Next step to inspect the individual `<div>` tag and try to find more information. I am using \"Visual Studio Code\", but you can use any tool as simple as notepad."
   ]
  },
  {
   "cell_type": "code",
   "execution_count": 12,
   "metadata": {
    "colab": {
     "base_uri": "https://localhost:8080/"
    },
    "id": "paFm23Amlrgp",
    "outputId": "f82b9dc3-761c-49a4-d3ee-775a02382071"
   },
   "outputs": [
    {
     "data": {
      "text/plain": [
       "<div class=\"Ov(h) Pend(44px) Pstart(25px)\"><div class=\"C(#959595) Fz(11px) D(ib) Mb(6px)\">The Wall Street Journal</div><h3 class=\"Mb(5px)\"><a class=\"js-content-viewer wafer-caas Fw(b) Fz(18px) Lh(23px) LineClamp(2,46px) Fz(17px)--sm1024 Lh(19px)--sm1024 LineClamp(2,38px)--sm1024 mega-item-header-link Td(n) C(#0078ff):h C(#000) LineClamp(2,46px) LineClamp(2,38px)--sm1024 not-isInStreamVideoEnabled\" data-uuid=\"4dfbcbef-cd21-3ede-aa49-54706320e64a\" data-wf-caas-prefetch=\"1\" data-wf-caas-uuid=\"4dfbcbef-cd21-3ede-aa49-54706320e64a\" href=\"/m/4dfbcbef-cd21-3ede-aa49-54706320e64a/stock-futures-edge-up-crude.html\"><u class=\"StretchedBox\"></u>Stock Futures Edge Up, Crude Prices Extend Gains</a></h3><p class=\"Fz(14px) Lh(19px) Fz(13px)--sm1024 Lh(17px)--sm1024 LineClamp(2,38px) LineClamp(2,34px)--sm1024 M(0)\">U.S. stock futures ticked higher as the crisis in Ukraine continued to unfold, with crude prices extending their climb.</p></div>"
      ]
     },
     "execution_count": 12,
     "metadata": {},
     "output_type": "execute_result"
    }
   ],
   "source": [
    "div_tags[1]"
   ]
  },
  {
   "cell_type": "markdown",
   "metadata": {
    "id": "ZaY4rqHxlrgp"
   },
   "source": [
    "![](https://i.imgur.com/ncnfg0z.png)\n",
    "\n",
    "Luckily most of the required data points are available in this `<div>`, so we can use `find` method to grab each items."
   ]
  },
  {
   "cell_type": "code",
   "execution_count": 13,
   "metadata": {
    "colab": {
     "base_uri": "https://localhost:8080/"
    },
    "id": "Hn02jUnUlrgp",
    "outputId": "d01e1ad5-4796-46f3-a1b8-0bcc605f0322"
   },
   "outputs": [
    {
     "name": "stdout",
     "output_type": "stream",
     "text": [
      "Source:  The Wall Street Journal\n",
      "Head Line : Stock Futures Edge Up, Crude Prices Extend Gains\n"
     ]
    }
   ],
   "source": [
    "print(\"Source: \", div_tags[1].find('div').text)\n",
    "print(\"Head Line : {}\".format(div_tags[1].find('a').text))"
   ]
  },
  {
   "cell_type": "markdown",
   "metadata": {
    "id": "54ry5o3-lrgp"
   },
   "source": [
    "If any tag is not accessible directly, then you can use methods like `findParent()` or `'findChild()` to point to the required tag.\n",
    "\n",
    "![](https://i.imgur.com/OnOAtT2.png)"
   ]
  },
  {
   "cell_type": "code",
   "execution_count": 14,
   "metadata": {
    "colab": {
     "base_uri": "https://localhost:8080/"
    },
    "id": "BYm7cqy2lrgp",
    "outputId": "0560b1f3-e726-4b00-e356-ddaa6b0a0760"
   },
   "outputs": [
    {
     "name": "stdout",
     "output_type": "stream",
     "text": [
      "Image URL:  https://s.yimg.com/uu/api/res/1.2/s2hzsvGDLBalYHGbqArKDA--~B/Zmk9c3RyaW07aD0xMjM7cT04MDt3PTIyMDthcHBpZD15dGFjaHlvbg--/https://s.yimg.com/uu/api/res/1.2/D3vayOfBvCBRr8XwyaAO9g--~B/aD02NDA7dz0xMjgwO2FwcGlkPXl0YWNoeW9u/https://media.zenfs.com/en/wsj.com/b7d63ec54244236865314c8065f93ab5.cf.jpg\n"
     ]
    }
   ],
   "source": [
    "print(\"Image URL: \",div_tags[1].findParent().find('img')['src'])"
   ]
  },
  {
   "cell_type": "markdown",
   "metadata": {
    "id": "g_rZ3hP_lrgq"
   },
   "source": [
    "**Summary** : Key Takeout from this exercise is to identify the optimal tag which will provide us required information. Sometimes its straight forward, sometimes you will have to perform little more research.  "
   ]
  },
  {
   "cell_type": "markdown",
   "metadata": {
    "id": "ylJlxrEhlrgq"
   },
   "source": [
    "### 1.3 Extract & Compile the information into python list\n",
    "\n",
    "Now we've identified all required tags and information, Let's put this together in the functions."
   ]
  },
  {
   "cell_type": "code",
   "execution_count": 15,
   "metadata": {
    "id": "Ck_Buvi8lrgr"
   },
   "outputs": [],
   "source": [
    "def get_news_tags(doc):\n",
    "    \"\"\"Get the list of tags containing news information\"\"\"\n",
    "    news_class = \"Ov(h) Pend(44px) Pstart(25px)\" ## class name of div tag \n",
    "    news_list  = doc.find_all('div', {'class': news_class})\n",
    "    return news_list"
   ]
  },
  {
   "cell_type": "markdown",
   "metadata": {
    "id": "u93jXLLslrgr"
   },
   "source": [
    "sample run of the function `get_news_tags`"
   ]
  },
  {
   "cell_type": "code",
   "execution_count": 16,
   "metadata": {
    "id": "byS55R-9lrgr"
   },
   "outputs": [],
   "source": [
    "my_news_tags = get_news_tags(doc)"
   ]
  },
  {
   "cell_type": "markdown",
   "metadata": {
    "id": "UfXnnMASlrgr"
   },
   "source": [
    "we will create one more function, to parse individual `<div>` tag and return the information in dictionary form"
   ]
  },
  {
   "cell_type": "code",
   "execution_count": 17,
   "metadata": {
    "id": "bsuD1-O4lrgr"
   },
   "outputs": [],
   "source": [
    "BASE_URL = 'https://finance.yahoo.com' #Global Variable \n",
    "\n",
    "def parse_news(news_tag):\n",
    "    news_source = news_tag.find('div').text #source\n",
    "    news_headline = news_tag.find('a').text #heading\n",
    "    news_url = news_tag.find('a')['href'] #link\n",
    "    news_content = news_tag.find('p').text #content\n",
    "    news_image = news_tag.findParent().find('img')['src'] #thumb image\n",
    "    return { 'source' : news_source,\n",
    "            'headline' : news_headline,\n",
    "            'url' : BASE_URL + news_url,\n",
    "            'content' : news_content,\n",
    "            'image' : news_image\n",
    "           }"
   ]
  },
  {
   "cell_type": "markdown",
   "metadata": {
    "id": "Q88hBshllrgr"
   },
   "source": [
    "Lets test this `parse_news` function on first `<div>` tag "
   ]
  },
  {
   "cell_type": "code",
   "execution_count": 18,
   "metadata": {
    "colab": {
     "base_uri": "https://localhost:8080/"
    },
    "id": "7gO3YYf2lrgr",
    "outputId": "a0ec470a-696f-4273-8e91-e7ec371c8e39"
   },
   "outputs": [
    {
     "data": {
      "text/plain": [
       "{'source': 'Barrons.com',\n",
       " 'headline': 'Homebuilding-Related Stocks Are Beaten Down. A ‘Short Squeeze’ Could Be Next.',\n",
       " 'url': 'https://finance.yahoo.com/m/5b60548b-95eb-3a3b-b241-bb124a42659c/homebuilding-related-stocks.html',\n",
       " 'content': \"The SPDR S & P Homebuilders exchange-traded fund hold names like Lowe's, PulteGroup, and Whirlpool. It is down 19% so far this year.\",\n",
       " 'image': 'https://s.yimg.com/uu/api/res/1.2/vifZ0uWn8vEMNaW4PfzHwQ--~B/Zmk9c3RyaW07aD0xMjM7cT04MDt3PTIyMDthcHBpZD15dGFjaHlvbg--/https://s.yimg.com/uu/api/res/1.2/XLNzudG0QmEYAQ5TYccQzA--~B/aD02NDA7dz0xMjgwO2FwcGlkPXl0YWNoeW9u/https://media.zenfs.com/en/Barrons.com/04893c9ee0a1e1d19417af936d139a42.cf.jpg'}"
      ]
     },
     "execution_count": 18,
     "metadata": {},
     "output_type": "execute_result"
    }
   ],
   "source": [
    "parse_news(my_news_tags[0])"
   ]
  },
  {
   "cell_type": "markdown",
   "metadata": {
    "id": "D4Jt8PhXlrgr"
   },
   "source": [
    "**Summary** : We can use the `get_news_tags` & `parse_news` functions to pars news."
   ]
  },
  {
   "cell_type": "markdown",
   "metadata": {
    "id": "8ruE_5Q2lrgs"
   },
   "source": [
    "### 1.4 Save the extracted information to a CSV file\n",
    "\n",
    "This is the last step of this section, We are going to use Python library [`pandas`](https://pandas.pydata.org/docs/) to save the data in CSV format. Install and then Import the pandas Library."
   ]
  },
  {
   "cell_type": "code",
   "execution_count": 19,
   "metadata": {
    "id": "fFiWEPAalrgs"
   },
   "outputs": [],
   "source": [
    "!pip install pandas --upgrade --quiet"
   ]
  },
  {
   "cell_type": "code",
   "execution_count": 20,
   "metadata": {
    "id": "zMrbCInvlrgs"
   },
   "outputs": [],
   "source": [
    "import pandas as pd"
   ]
  },
  {
   "cell_type": "markdown",
   "metadata": {
    "id": "JoZJq6GTlrgs"
   },
   "source": [
    "Now we will create one final function, in this function we will use all previously created helper functions.<br>\n",
    "The `get_page` function will download HTML page,then we can pass the result in `get_news_tags` to identify list of `<div>` tags for news.<br>\n",
    "After that we will use [List Comprehension](https://www.w3schools.com/python/python_lists_comprehension.asp) technique to pars each `<div>` tag using `parse_news`, the output will be in the form of `lists` of `dictionaries`<br>\n",
    "Finally we will use `DataFrame` method to create pandas [dataframe](https://pandas.pydata.org/docs/reference/api/pandas.DataFrame.html) and use `to_csv` method to store required data in CSV format."
   ]
  },
  {
   "cell_type": "code",
   "execution_count": 21,
   "metadata": {
    "id": "8evbvhJklrgs"
   },
   "outputs": [],
   "source": [
    "def scrape_yahoo_news(url, path=None):\n",
    "    \"\"\"Get the yahoo finance market news and write them to CSV file \"\"\"\n",
    "    if path is None:\n",
    "        path = 'stock-market-news.csv'\n",
    "        \n",
    "    print('Requesting html page')\n",
    "    doc = get_page(url)\n",
    "\n",
    "    print('Extracting news tags')\n",
    "    news_list = get_news_tags(doc)\n",
    "\n",
    "    print('Parsing news tags')\n",
    "    news_data = [parse_news(news_tag) for news_tag in news_list]\n",
    "\n",
    "    print('Save the data to a CSV')\n",
    "    news_df = pd.DataFrame(news_data)\n",
    "    news_df.to_csv('stock-market-news.csv', index=None)\n",
    "    \n",
    "    #This return statement is optional, we are doing this just analyze the final output \n",
    "    return news_df "
   ]
  },
  {
   "cell_type": "markdown",
   "metadata": {
    "id": "MGYzOftflrgs"
   },
   "source": [
    "It's time to test the `scrape_yahoo_news` function "
   ]
  },
  {
   "cell_type": "code",
   "execution_count": 22,
   "metadata": {
    "colab": {
     "base_uri": "https://localhost:8080/"
    },
    "id": "0UC91K0dlrgs",
    "outputId": "4e5c2e01-77be-4d06-f851-40b15f8a3b9d"
   },
   "outputs": [
    {
     "name": "stdout",
     "output_type": "stream",
     "text": [
      "Requesting html page\n",
      "Extracting news tags\n",
      "Parsing news tags\n",
      "Save the data to a CSV\n"
     ]
    }
   ],
   "source": [
    "YAHOO_NEWS_URL = BASE_URL+'/topic/stock-market-news/'\n",
    "news_df = scrape_yahoo_news(YAHOO_NEWS_URL)"
   ]
  },
  {
   "cell_type": "markdown",
   "metadata": {
    "id": "pBD6nB50lrgs"
   },
   "source": [
    "The \"stock-market-news.csv\" should be available in File --> Open Menu, you can download the file or directly open it on browser. Please verify the file content and compare it with the actual information available on the webpage.\n",
    "\n",
    "You can also check the data by grabbing few rows form the data frame returned by the `scrape_yahoo_news` function "
   ]
  },
  {
   "cell_type": "code",
   "execution_count": 23,
   "metadata": {
    "colab": {
     "base_uri": "https://localhost:8080/",
     "height": 302
    },
    "id": "1segLgXIlrgs",
    "outputId": "f0b74462-783c-475c-9b94-32c04d708b31"
   },
   "outputs": [
    {
     "data": {
      "text/html": [
       "<div>\n",
       "<style scoped>\n",
       "    .dataframe tbody tr th:only-of-type {\n",
       "        vertical-align: middle;\n",
       "    }\n",
       "\n",
       "    .dataframe tbody tr th {\n",
       "        vertical-align: top;\n",
       "    }\n",
       "\n",
       "    .dataframe thead th {\n",
       "        text-align: right;\n",
       "    }\n",
       "</style>\n",
       "<table border=\"1\" class=\"dataframe\">\n",
       "  <thead>\n",
       "    <tr style=\"text-align: right;\">\n",
       "      <th></th>\n",
       "      <th>source</th>\n",
       "      <th>headline</th>\n",
       "      <th>url</th>\n",
       "      <th>content</th>\n",
       "      <th>image</th>\n",
       "    </tr>\n",
       "  </thead>\n",
       "  <tbody>\n",
       "    <tr>\n",
       "      <th>0</th>\n",
       "      <td>Barrons.com</td>\n",
       "      <td>Homebuilding-Related Stocks Are Beaten Down. A...</td>\n",
       "      <td>https://finance.yahoo.com/m/5b60548b-95eb-3a3b...</td>\n",
       "      <td>The SPDR S &amp; P Homebuilders exchange-traded fu...</td>\n",
       "      <td>https://s.yimg.com/uu/api/res/1.2/vifZ0uWn8vEM...</td>\n",
       "    </tr>\n",
       "    <tr>\n",
       "      <th>1</th>\n",
       "      <td>The Wall Street Journal</td>\n",
       "      <td>Stock Futures Edge Up, Crude Prices Extend Gains</td>\n",
       "      <td>https://finance.yahoo.com/m/4dfbcbef-cd21-3ede...</td>\n",
       "      <td>U.S. stock futures ticked higher as the crisis...</td>\n",
       "      <td>https://s.yimg.com/uu/api/res/1.2/s2hzsvGDLBal...</td>\n",
       "    </tr>\n",
       "    <tr>\n",
       "      <th>2</th>\n",
       "      <td>Bloomberg</td>\n",
       "      <td>U.S. Futures Rise as Europe Stocks Pare Drop: ...</td>\n",
       "      <td>https://finance.yahoo.com/news/stocks-drop-bon...</td>\n",
       "      <td>(Bloomberg) -- U.S. futures rose and European ...</td>\n",
       "      <td>https://s.yimg.com/uu/api/res/1.2/vYIFOtsagzMY...</td>\n",
       "    </tr>\n",
       "    <tr>\n",
       "      <th>3</th>\n",
       "      <td>News Direct</td>\n",
       "      <td>Freshworks alums launch Growfin targeting the ...</td>\n",
       "      <td>https://finance.yahoo.com/news/freshworks-alum...</td>\n",
       "      <td>Growfin’s AI-powered platform enables business...</td>\n",
       "      <td>https://s.yimg.com/uu/api/res/1.2/rI2S.krfLjVN...</td>\n",
       "    </tr>\n",
       "    <tr>\n",
       "      <th>4</th>\n",
       "      <td>Bloomberg</td>\n",
       "      <td>OPEC+ Sits on Market Sideline as Russian Invas...</td>\n",
       "      <td>https://finance.yahoo.com/news/opec-sits-marke...</td>\n",
       "      <td>(Bloomberg) -- OPEC+ ministers gather on Wedne...</td>\n",
       "      <td>https://s.yimg.com/uu/api/res/1.2/1dLNVZTPb81j...</td>\n",
       "    </tr>\n",
       "  </tbody>\n",
       "</table>\n",
       "</div>"
      ],
      "text/plain": [
       "                    source                                           headline  \\\n",
       "0              Barrons.com  Homebuilding-Related Stocks Are Beaten Down. A...   \n",
       "1  The Wall Street Journal   Stock Futures Edge Up, Crude Prices Extend Gains   \n",
       "2                Bloomberg  U.S. Futures Rise as Europe Stocks Pare Drop: ...   \n",
       "3              News Direct  Freshworks alums launch Growfin targeting the ...   \n",
       "4                Bloomberg  OPEC+ Sits on Market Sideline as Russian Invas...   \n",
       "\n",
       "                                                 url  \\\n",
       "0  https://finance.yahoo.com/m/5b60548b-95eb-3a3b...   \n",
       "1  https://finance.yahoo.com/m/4dfbcbef-cd21-3ede...   \n",
       "2  https://finance.yahoo.com/news/stocks-drop-bon...   \n",
       "3  https://finance.yahoo.com/news/freshworks-alum...   \n",
       "4  https://finance.yahoo.com/news/opec-sits-marke...   \n",
       "\n",
       "                                             content  \\\n",
       "0  The SPDR S & P Homebuilders exchange-traded fu...   \n",
       "1  U.S. stock futures ticked higher as the crisis...   \n",
       "2  (Bloomberg) -- U.S. futures rose and European ...   \n",
       "3  Growfin’s AI-powered platform enables business...   \n",
       "4  (Bloomberg) -- OPEC+ ministers gather on Wedne...   \n",
       "\n",
       "                                               image  \n",
       "0  https://s.yimg.com/uu/api/res/1.2/vifZ0uWn8vEM...  \n",
       "1  https://s.yimg.com/uu/api/res/1.2/s2hzsvGDLBal...  \n",
       "2  https://s.yimg.com/uu/api/res/1.2/vYIFOtsagzMY...  \n",
       "3  https://s.yimg.com/uu/api/res/1.2/rI2S.krfLjVN...  \n",
       "4  https://s.yimg.com/uu/api/res/1.2/1dLNVZTPb81j...  "
      ]
     },
     "execution_count": 23,
     "metadata": {},
     "output_type": "execute_result"
    }
   ],
   "source": [
    "news_df[:5]"
   ]
  },
  {
   "cell_type": "markdown",
   "metadata": {
    "id": "ptBKMG_Alrgt"
   },
   "source": [
    "**Summary** : Hopefully I was able to explain this simple but very powerful Python technique to scrape the yahoo finance market news. These steps can be used to scrape any web page, you just have to little research ti identify required <tags> and use relevant python methods to collect the data. "
   ]
  },
  {
   "cell_type": "code",
   "execution_count": null,
   "metadata": {
    "id": "YiML_iMllrgt"
   },
   "outputs": [],
   "source": []
  },
  {
   "cell_type": "markdown",
   "metadata": {
    "id": "gaOUKkUOlrgt"
   },
   "source": [
    "## 2. Scrape **Trending Tickers**\n",
    "\n",
    "In phase One we were able to scrape the [yahoo market news](https://finance.yahoo.com/topic/stock-market-news/) web page. However If you've noticed, as we scroll down the web page more news will appear at the bottom of the page. This is called dynamic page loading. Previous technique is a basic Python method useful to scrape static data, To scrape the dynamically loading data will required a special method that we are going to discussion in this phase."
   ]
  },
  {
   "cell_type": "markdown",
   "metadata": {
    "id": "IuViJR0Elrgt"
   },
   "source": [
    "## TODO Add image ?\n",
    "\n",
    "about selenium \n",
    "functions\n",
    "tell them about xpath \n",
    "\n",
    "https://www.browserstack.com/guide/find-element-by-xpath-in-selenium\n",
    "\n",
    "giude to find xpath -> right click copy x path chk below guide \n",
    "https://analyticsindiamag.com/comprehensive-guide-to-web-scraping-with-selenium/\n",
    "\n",
    "\n",
    "fist explain hoe to use diffetent methods \n",
    "then you can write the code "
   ]
  },
  {
   "cell_type": "markdown",
   "metadata": {
    "id": "y3PvzjWjlrgt"
   },
   "source": [
    "###  prereq\n",
    "\n",
    "for local enviornmant \n",
    "- !pip install webdriver-manager --upgrade --quiet\n",
    "- download required chromdriver and place it in the project path \n",
    "\n",
    "for colab use other method "
   ]
  },
  {
   "cell_type": "code",
   "execution_count": 24,
   "metadata": {
    "colab": {
     "base_uri": "https://localhost:8080/"
    },
    "id": "1MNZ9bGilrgt",
    "outputId": "24b4c04e-56f5-4675-f6bc-c4634af0cc68"
   },
   "outputs": [
    {
     "name": "stdout",
     "output_type": "stream",
     "text": [
      "Installation\n",
      "Not running on CoLab\n",
      "Common Installation\n"
     ]
    }
   ],
   "source": [
    "print('Installation')\n",
    "if 'google.colab' in str(get_ipython()):\n",
    "    print('Running on CoLab')\n",
    "    !apt update --quiet\n",
    "    !apt install chromium-chromedriver --quiet\n",
    "else:\n",
    "    print('Not running on CoLab')\n",
    "    !pip install webdriver-manager --upgrade --quiet\n",
    "print('Common Installation')    \n",
    "!pip install selenium --quiet"
   ]
  },
  {
   "cell_type": "code",
   "execution_count": 25,
   "metadata": {
    "colab": {
     "base_uri": "https://localhost:8080/"
    },
    "id": "Axsgec6Tlrgt",
    "outputId": "48052a2a-dfda-4782-9b9c-6c00bc357115"
   },
   "outputs": [
    {
     "name": "stdout",
     "output_type": "stream",
     "text": [
      "Library Import\n",
      "Not running on CoLab\n",
      "Common Library Import\n"
     ]
    }
   ],
   "source": [
    "print('Library Import')\n",
    "if 'google.colab' in str(get_ipython()):\n",
    "    print('Running on CoLab')\n",
    "else:\n",
    "    print('Not running on CoLab')\n",
    "    from selenium.webdriver.chrome.options import Options\n",
    "    from selenium.webdriver.chrome.service import Service\n",
    "    from webdriver_manager.chrome import ChromeDriverManager\n",
    "\n",
    "print('Common Library Import')\n",
    "from selenium import webdriver\n",
    "from selenium.webdriver.common.by import By"
   ]
  },
  {
   "cell_type": "code",
   "execution_count": 26,
   "metadata": {
    "colab": {
     "base_uri": "https://localhost:8080/"
    },
    "id": "b5MQcamTlrgt",
    "outputId": "970a47ff-edac-4f23-8de8-059674130568"
   },
   "outputs": [
    {
     "name": "stdout",
     "output_type": "stream",
     "text": [
      "Not running on CoLab\n"
     ]
    }
   ],
   "source": [
    "if 'google.colab' in str(get_ipython()):\n",
    "    print('Running on CoLab')\n",
    "    def get_driver():\n",
    "        colab_options = webdriver.ChromeOptions()\n",
    "        colab_options.add_argument('--no-sandbox')\n",
    "        colab_options.add_argument('--disable-dev-shm-usage')\n",
    "        colab_options.add_argument('--headless')\n",
    "        driver = webdriver.Chrome(options=colab_options)\n",
    "        driver.get(YAHOO_FINANCE_URL)\n",
    "        return driver\n",
    "else:\n",
    "    print('Not running on CoLab')\n",
    "    def get_driver():\n",
    "        chrome_options = Options()\n",
    "        chrome_options.add_argument('--no-sandbox')\n",
    "        chrome_options.add_argument('--disable-dev-shm-usage')\n",
    "        chrome_options.add_argument('--headless')\n",
    "        serv = Service(ChromeDriverManager().install())\n",
    "        driver = webdriver.Chrome(options=chrome_options, service=serv)\n",
    "        driver.get(YAHOO_FINANCE_URL)\n",
    "        return driver"
   ]
  },
  {
   "cell_type": "code",
   "execution_count": 27,
   "metadata": {
    "id": "S6p8idwllrgu"
   },
   "outputs": [
    {
     "data": {
      "text/plain": [
       "'\\ndef get_tickers(driver):\\n    TABLE_CLASS = \"W(100%)\"  \\n    driver.get(YAHOO_FINANCE_URL)\\n    tablerows = len(driver.find_elements(By.XPATH, value=\"//table[@class= \\'{}\\']/tbody/tr\".format(TABLE_CLASS)))\\n    return tablerows\\n'"
      ]
     },
     "execution_count": 27,
     "metadata": {},
     "output_type": "execute_result"
    }
   ],
   "source": [
    "##old code remove this \n",
    "'''\n",
    "def get_tickers(driver):\n",
    "    TABLE_CLASS = \"W(100%)\"  \n",
    "    driver.get(YAHOO_FINANCE_URL)\n",
    "    tablerows = len(driver.find_elements(By.XPATH, value=\"//table[@class= '{}']/tbody/tr\".format(TABLE_CLASS)))\n",
    "    return tablerows\n",
    "'''   "
   ]
  },
  {
   "cell_type": "code",
   "execution_count": 28,
   "metadata": {
    "id": "uxmsZmKJlrgu"
   },
   "outputs": [
    {
     "data": {
      "text/plain": [
       "'\\ndef parse_ticker(rownum, table_driver):\\n    Symbol = table_driver.find_element(By.XPATH, value=\"//tr[{}]/td[1]\".format(rownum)).text\\n    Name = table_driver.find_element(By.XPATH, value=\"//tr[{}]/td[2]\".format(rownum)).text\\n    LastPrice = table_driver.find_element(By.XPATH, value=\"//tr[{}]/td[3]\".format(rownum)).text\\n    MarketTime = table_driver.find_element(By.XPATH, value=\"//tr[{}]/td[4]\".format(rownum)).text\\n    Change = table_driver.find_element(By.XPATH, value=\"//tr[{}]/td[5]\".format(rownum)).text\\n    PercentChange = table_driver.find_element(By.XPATH, value=\"//tr[{}]/td[6]\".format(rownum)).text\\t\\n    Volume = table_driver.find_element(By.XPATH, value=\"//tr[{}]/td[7]\".format(rownum)).text\\n    MarketCap = table_driver.find_element(By.XPATH, value=\"//tr[{}]/td[8]\".format(rownum)).text\\t\\n\\n    return {\\n    \\'Symbol\\': Symbol,\\n    \\'Name\\': Name,\\n    \\'LastPrice\\': LastPrice,\\n    \\'MarketTime\\': MarketTime,\\n    \\'Change\\': Change,\\n    \\'PercentChange\\': PercentChange,\\n    \\'Volume\\': Volume,\\n    \\'MarketCap\\': MarketCap\\n    }\\n '"
      ]
     },
     "execution_count": 28,
     "metadata": {},
     "output_type": "execute_result"
    }
   ],
   "source": [
    "##old code remove this \n",
    "'''\n",
    "def parse_ticker(rownum, table_driver):\n",
    "    Symbol = table_driver.find_element(By.XPATH, value=\"//tr[{}]/td[1]\".format(rownum)).text\n",
    "    Name = table_driver.find_element(By.XPATH, value=\"//tr[{}]/td[2]\".format(rownum)).text\n",
    "    LastPrice = table_driver.find_element(By.XPATH, value=\"//tr[{}]/td[3]\".format(rownum)).text\n",
    "    MarketTime = table_driver.find_element(By.XPATH, value=\"//tr[{}]/td[4]\".format(rownum)).text\n",
    "    Change = table_driver.find_element(By.XPATH, value=\"//tr[{}]/td[5]\".format(rownum)).text\n",
    "    PercentChange = table_driver.find_element(By.XPATH, value=\"//tr[{}]/td[6]\".format(rownum)).text\t\n",
    "    Volume = table_driver.find_element(By.XPATH, value=\"//tr[{}]/td[7]\".format(rownum)).text\n",
    "    MarketCap = table_driver.find_element(By.XPATH, value=\"//tr[{}]/td[8]\".format(rownum)).text\t\n",
    "\n",
    "    return {\n",
    "    'Symbol': Symbol,\n",
    "    'Name': Name,\n",
    "    'LastPrice': LastPrice,\n",
    "    'MarketTime': MarketTime,\n",
    "    'Change': Change,\n",
    "    'PercentChange': PercentChange,\n",
    "    'Volume': Volume,\n",
    "    'MarketCap': MarketCap\n",
    "    }\n",
    " '''   "
   ]
  },
  {
   "cell_type": "code",
   "execution_count": 29,
   "metadata": {},
   "outputs": [],
   "source": [
    "def get_table_rows(driver):\n",
    "    TABLE_CLASS = \"W(100%)\"  \n",
    "    tablerows = len(driver.find_elements(By.XPATH, value=\"//table[@class= '{}']/tbody/tr\".format(TABLE_CLASS)))\n",
    "    return tablerows"
   ]
  },
  {
   "cell_type": "code",
   "execution_count": 30,
   "metadata": {},
   "outputs": [],
   "source": [
    "def get_table_header(driver):\n",
    "    header = driver.find_elements(By.TAG_NAME, value= 'th')\n",
    "    header_list = [item.text for index, item in enumerate(header) if index < 10]\n",
    "    return header_list"
   ]
  },
  {
   "cell_type": "markdown",
   "metadata": {},
   "source": [
    "use below to explain \n",
    "```\n",
    "rownum = 1\n",
    "colnum = 3\n",
    "driver.find_element(By.XPATH, value=\"//tr[{}]/td[{}]\".format(rownum,colnum)).text\n",
    "```"
   ]
  },
  {
   "cell_type": "code",
   "execution_count": 31,
   "metadata": {},
   "outputs": [],
   "source": [
    "def parse_table_rows(rownum, driver, header_list):\n",
    "    row_dictionary = {}\n",
    "    for index , item in enumerate(header_list):\n",
    "        row_dictionary[item] = driver.find_element(By.XPATH, value=\"//tr[{}]/td[{}]\".format(rownum, index+1)).text\n",
    "    return row_dictionary"
   ]
  },
  {
   "cell_type": "code",
   "execution_count": 34,
   "metadata": {},
   "outputs": [
    {
     "name": "stderr",
     "output_type": "stream",
     "text": [
      "\n",
      "\n",
      "====== WebDriver manager ======\n",
      "Current google-chrome version is 98.0.4758\n",
      "Get LATEST chromedriver version for 98.0.4758 google-chrome\n"
     ]
    },
    {
     "name": "stdout",
     "output_type": "stream",
     "text": [
      "Creating driver\n"
     ]
    },
    {
     "name": "stderr",
     "output_type": "stream",
     "text": [
      "Driver [/Users/vinoddhole/.wdm/drivers/chromedriver/mac64/98.0.4758.102/chromedriver] found in cache\n"
     ]
    }
   ],
   "source": [
    "YAHOO_FINANCE_URL = 'https://finance.yahoo.com/cryptocurrencies'#'https://finance.yahoo.com/trending-tickers'\n",
    "\n",
    "print('Creating driver')\n",
    "driver = get_driver()"
   ]
  },
  {
   "cell_type": "code",
   "execution_count": 45,
   "metadata": {},
   "outputs": [
    {
     "name": "stdout",
     "output_type": "stream",
     "text": [
      "Getting Table row count for Page : 1\n",
      "Parsing Page : 1\n",
      "Clicking Next Button\n",
      "Getting Table row count for Page : 2\n",
      "Parsing Page : 2\n",
      "Clicking Next Button\n",
      "Getting Table row count for Page : 3\n",
      "Parsing Page : 3\n",
      "Clicking Next Button\n",
      "Getting Table row count for Page : 4\n",
      "Parsing Page : 4\n",
      "Clicking Next Button\n",
      "End Parsing\n"
     ]
    }
   ],
   "source": [
    "##### need to add wait time or try catch \n",
    "TOTAL_PAGES_TO_SCRAPE = 10\n",
    "table_data = []\n",
    "next_button_class = '//*[@id=\"scr-res-table\"]/div[2]/button[3]'\n",
    "header_list = get_table_header(driver)\n",
    "\n",
    "for page in range(1, TOTAL_PAGES_TO_SCRAPE + 1):\n",
    "    page_wise_data = []\n",
    "    print('Getting Table row count for Page : {}'.format(page))\n",
    "    table_rows = get_table_rows(driver)\n",
    "    \n",
    "    print('Parsing Page : {}'.format(page))\n",
    "    page_wise_data = [parse_table_rows(i, driver, header_list) for i in range (1, table_rows + 1)]\n",
    "    table_data += page_wise_data\n",
    "    \n",
    "    print('Clicking Next Button')\n",
    "    next_button = driver.find_elements(By.XPATH, value = next_button_class)    \n",
    "    next_button[0].click()\n",
    "print(\"End Parsing\")    "
   ]
  },
  {
   "cell_type": "code",
   "execution_count": 36,
   "metadata": {},
   "outputs": [
    {
     "data": {
      "text/plain": [
       "25"
      ]
     },
     "execution_count": 36,
     "metadata": {},
     "output_type": "execute_result"
    }
   ],
   "source": [
    "len(table_data)"
   ]
  },
  {
   "cell_type": "code",
   "execution_count": 37,
   "metadata": {},
   "outputs": [],
   "source": [
    "!pip install pandas --upgrade --quiet"
   ]
  },
  {
   "cell_type": "code",
   "execution_count": 38,
   "metadata": {},
   "outputs": [],
   "source": [
    "import pandas as pd "
   ]
  },
  {
   "cell_type": "code",
   "execution_count": 39,
   "metadata": {},
   "outputs": [
    {
     "name": "stdout",
     "output_type": "stream",
     "text": [
      "Save the data to a CSV\n"
     ]
    }
   ],
   "source": [
    "print('Save the data to a CSV')\n",
    "table_df = pd.DataFrame(table_data)\n",
    "#print(table_df)\n",
    "table_df.to_csv('cryptocurrencies.csv', index=None)\n",
    "#### add timer "
   ]
  },
  {
   "cell_type": "code",
   "execution_count": 40,
   "metadata": {},
   "outputs": [
    {
     "data": {
      "text/html": [
       "<div>\n",
       "<style scoped>\n",
       "    .dataframe tbody tr th:only-of-type {\n",
       "        vertical-align: middle;\n",
       "    }\n",
       "\n",
       "    .dataframe tbody tr th {\n",
       "        vertical-align: top;\n",
       "    }\n",
       "\n",
       "    .dataframe thead th {\n",
       "        text-align: right;\n",
       "    }\n",
       "</style>\n",
       "<table border=\"1\" class=\"dataframe\">\n",
       "  <thead>\n",
       "    <tr style=\"text-align: right;\">\n",
       "      <th></th>\n",
       "      <th>Symbol</th>\n",
       "      <th>Name</th>\n",
       "      <th>Price (Intraday)</th>\n",
       "      <th>Change</th>\n",
       "      <th>% Change</th>\n",
       "      <th>Market Cap</th>\n",
       "      <th>Volume in Currency (Since 0:00 UTC)</th>\n",
       "      <th>Volume in Currency (24Hr)</th>\n",
       "      <th>Total Volume All Currencies (24Hr)</th>\n",
       "      <th>Circulating Supply</th>\n",
       "    </tr>\n",
       "  </thead>\n",
       "  <tbody>\n",
       "    <tr>\n",
       "      <th>0</th>\n",
       "      <td>BTC-USD</td>\n",
       "      <td>Bitcoin USD</td>\n",
       "      <td>43,875.73</td>\n",
       "      <td>+466.61</td>\n",
       "      <td>+1.07%</td>\n",
       "      <td>832.423B</td>\n",
       "      <td>33.312B</td>\n",
       "      <td>33.312B</td>\n",
       "      <td>33.312B</td>\n",
       "      <td>18.972M</td>\n",
       "    </tr>\n",
       "    <tr>\n",
       "      <th>1</th>\n",
       "      <td>ETH-USD</td>\n",
       "      <td>Ethereum USD</td>\n",
       "      <td>2,978.16</td>\n",
       "      <td>+59.08</td>\n",
       "      <td>+2.02%</td>\n",
       "      <td>356.757B</td>\n",
       "      <td>19.495B</td>\n",
       "      <td>19.495B</td>\n",
       "      <td>19.495B</td>\n",
       "      <td>119.791M</td>\n",
       "    </tr>\n",
       "    <tr>\n",
       "      <th>2</th>\n",
       "      <td>USDT-USD</td>\n",
       "      <td>Tether USD</td>\n",
       "      <td>1.0004</td>\n",
       "      <td>+0.0000</td>\n",
       "      <td>+0.00%</td>\n",
       "      <td>79.473B</td>\n",
       "      <td>77.514B</td>\n",
       "      <td>77.514B</td>\n",
       "      <td>77.514B</td>\n",
       "      <td>79.442B</td>\n",
       "    </tr>\n",
       "    <tr>\n",
       "      <th>3</th>\n",
       "      <td>BNB-USD</td>\n",
       "      <td>Binance Coin USD</td>\n",
       "      <td>410.46</td>\n",
       "      <td>-2.61</td>\n",
       "      <td>-0.63%</td>\n",
       "      <td>67.774B</td>\n",
       "      <td>2.597B</td>\n",
       "      <td>2.597B</td>\n",
       "      <td>2.597B</td>\n",
       "      <td>165.117M</td>\n",
       "    </tr>\n",
       "    <tr>\n",
       "      <th>4</th>\n",
       "      <td>USDC-USD</td>\n",
       "      <td>USD Coin USD</td>\n",
       "      <td>0.999564</td>\n",
       "      <td>-0.000053</td>\n",
       "      <td>-0.01%</td>\n",
       "      <td>53.593B</td>\n",
       "      <td>5.717B</td>\n",
       "      <td>5.717B</td>\n",
       "      <td>5.717B</td>\n",
       "      <td>53.617B</td>\n",
       "    </tr>\n",
       "    <tr>\n",
       "      <th>5</th>\n",
       "      <td>XRP-USD</td>\n",
       "      <td>XRP USD</td>\n",
       "      <td>0.766579</td>\n",
       "      <td>-0.004162</td>\n",
       "      <td>-0.54%</td>\n",
       "      <td>36.757B</td>\n",
       "      <td>2.933B</td>\n",
       "      <td>2.933B</td>\n",
       "      <td>2.933B</td>\n",
       "      <td>47.949B</td>\n",
       "    </tr>\n",
       "    <tr>\n",
       "      <th>6</th>\n",
       "      <td>LUNA1-USD</td>\n",
       "      <td>Terra USD</td>\n",
       "      <td>93.67</td>\n",
       "      <td>+5.43</td>\n",
       "      <td>+6.15%</td>\n",
       "      <td>35.092B</td>\n",
       "      <td>5.329B</td>\n",
       "      <td>5.329B</td>\n",
       "      <td>5.329B</td>\n",
       "      <td>374.653M</td>\n",
       "    </tr>\n",
       "    <tr>\n",
       "      <th>7</th>\n",
       "      <td>SOL-USD</td>\n",
       "      <td>Solana USD</td>\n",
       "      <td>103.44</td>\n",
       "      <td>+6.90</td>\n",
       "      <td>+7.15%</td>\n",
       "      <td>33.162B</td>\n",
       "      <td>3.768B</td>\n",
       "      <td>3.768B</td>\n",
       "      <td>3.768B</td>\n",
       "      <td>320.598M</td>\n",
       "    </tr>\n",
       "    <tr>\n",
       "      <th>8</th>\n",
       "      <td>ADA-USD</td>\n",
       "      <td>Cardano USD</td>\n",
       "      <td>0.953408</td>\n",
       "      <td>-0.013025</td>\n",
       "      <td>-1.35%</td>\n",
       "      <td>32.093B</td>\n",
       "      <td>1.705B</td>\n",
       "      <td>1.705B</td>\n",
       "      <td>1.705B</td>\n",
       "      <td>33.661B</td>\n",
       "    </tr>\n",
       "    <tr>\n",
       "      <th>9</th>\n",
       "      <td>HEX-USD</td>\n",
       "      <td>HEX USD</td>\n",
       "      <td>0.133403</td>\n",
       "      <td>-0.007781</td>\n",
       "      <td>-5.51%</td>\n",
       "      <td>23.134B</td>\n",
       "      <td>27.926M</td>\n",
       "      <td>27.926M</td>\n",
       "      <td>27.926M</td>\n",
       "      <td>173.411B</td>\n",
       "    </tr>\n",
       "    <tr>\n",
       "      <th>10</th>\n",
       "      <td>AVAX-USD</td>\n",
       "      <td>Avalanche USD</td>\n",
       "      <td>85.66</td>\n",
       "      <td>-1.05</td>\n",
       "      <td>-1.21%</td>\n",
       "      <td>21.096B</td>\n",
       "      <td>2.017B</td>\n",
       "      <td>2.017B</td>\n",
       "      <td>2.017B</td>\n",
       "      <td>246.29M</td>\n",
       "    </tr>\n",
       "    <tr>\n",
       "      <th>11</th>\n",
       "      <td>DOT-USD</td>\n",
       "      <td>Polkadot USD</td>\n",
       "      <td>18.71</td>\n",
       "      <td>-0.20</td>\n",
       "      <td>-1.04%</td>\n",
       "      <td>18.476B</td>\n",
       "      <td>1.533B</td>\n",
       "      <td>1.533B</td>\n",
       "      <td>1.533B</td>\n",
       "      <td>987.579M</td>\n",
       "    </tr>\n",
       "    <tr>\n",
       "      <th>12</th>\n",
       "      <td>BUSD-USD</td>\n",
       "      <td>Binance USD USD</td>\n",
       "      <td>1.0006</td>\n",
       "      <td>-0.0002</td>\n",
       "      <td>-0.02%</td>\n",
       "      <td>18.207B</td>\n",
       "      <td>7.209B</td>\n",
       "      <td>7.209B</td>\n",
       "      <td>7.209B</td>\n",
       "      <td>18.196B</td>\n",
       "    </tr>\n",
       "    <tr>\n",
       "      <th>13</th>\n",
       "      <td>DOGE-USD</td>\n",
       "      <td>Dogecoin USD</td>\n",
       "      <td>0.133231</td>\n",
       "      <td>+0.000581</td>\n",
       "      <td>+0.44%</td>\n",
       "      <td>17.676B</td>\n",
       "      <td>841.91M</td>\n",
       "      <td>841.91M</td>\n",
       "      <td>841.91M</td>\n",
       "      <td>132.671B</td>\n",
       "    </tr>\n",
       "    <tr>\n",
       "      <th>14</th>\n",
       "      <td>SHIB-USD</td>\n",
       "      <td>SHIBA INU USD</td>\n",
       "      <td>0.000027</td>\n",
       "      <td>+0.000000</td>\n",
       "      <td>+1.49%</td>\n",
       "      <td>14.571B</td>\n",
       "      <td>2.015B</td>\n",
       "      <td>2.015B</td>\n",
       "      <td>2.015B</td>\n",
       "      <td>549.063T</td>\n",
       "    </tr>\n",
       "    <tr>\n",
       "      <th>15</th>\n",
       "      <td>UST-USD</td>\n",
       "      <td>TerraUSD USD</td>\n",
       "      <td>1.0011</td>\n",
       "      <td>-0.0028</td>\n",
       "      <td>-0.28%</td>\n",
       "      <td>13.099B</td>\n",
       "      <td>695.843M</td>\n",
       "      <td>695.843M</td>\n",
       "      <td>695.843M</td>\n",
       "      <td>13.084B</td>\n",
       "    </tr>\n",
       "    <tr>\n",
       "      <th>16</th>\n",
       "      <td>MATIC-USD</td>\n",
       "      <td>Polygon USD</td>\n",
       "      <td>1.6286</td>\n",
       "      <td>+0.0324</td>\n",
       "      <td>+2.03%</td>\n",
       "      <td>12.309B</td>\n",
       "      <td>1.489B</td>\n",
       "      <td>1.489B</td>\n",
       "      <td>1.489B</td>\n",
       "      <td>7.558B</td>\n",
       "    </tr>\n",
       "    <tr>\n",
       "      <th>17</th>\n",
       "      <td>WBTC-USD</td>\n",
       "      <td>Wrapped Bitcoin USD</td>\n",
       "      <td>43,962.91</td>\n",
       "      <td>+619.77</td>\n",
       "      <td>+1.43%</td>\n",
       "      <td>11.53B</td>\n",
       "      <td>318.525M</td>\n",
       "      <td>318.525M</td>\n",
       "      <td>318.525M</td>\n",
       "      <td>262,262</td>\n",
       "    </tr>\n",
       "    <tr>\n",
       "      <th>18</th>\n",
       "      <td>CRO-USD</td>\n",
       "      <td>Crypto.com Coin USD</td>\n",
       "      <td>0.442958</td>\n",
       "      <td>+0.005429</td>\n",
       "      <td>+1.24%</td>\n",
       "      <td>11.19B</td>\n",
       "      <td>124.445M</td>\n",
       "      <td>124.445M</td>\n",
       "      <td>124.445M</td>\n",
       "      <td>25.263B</td>\n",
       "    </tr>\n",
       "    <tr>\n",
       "      <th>19</th>\n",
       "      <td>DAI-USD</td>\n",
       "      <td>Dai USD</td>\n",
       "      <td>0.999407</td>\n",
       "      <td>-0.000720</td>\n",
       "      <td>-0.07%</td>\n",
       "      <td>9.702B</td>\n",
       "      <td>318.448M</td>\n",
       "      <td>318.448M</td>\n",
       "      <td>318.448M</td>\n",
       "      <td>9.707B</td>\n",
       "    </tr>\n",
       "    <tr>\n",
       "      <th>20</th>\n",
       "      <td>ATOM-USD</td>\n",
       "      <td>Cosmos USD</td>\n",
       "      <td>30.71</td>\n",
       "      <td>-0.87</td>\n",
       "      <td>-2.76%</td>\n",
       "      <td>8.794B</td>\n",
       "      <td>1.284B</td>\n",
       "      <td>1.284B</td>\n",
       "      <td>1.284B</td>\n",
       "      <td>286.37M</td>\n",
       "    </tr>\n",
       "    <tr>\n",
       "      <th>21</th>\n",
       "      <td>LTC-USD</td>\n",
       "      <td>Litecoin USD</td>\n",
       "      <td>112.28</td>\n",
       "      <td>-0.23</td>\n",
       "      <td>-0.20%</td>\n",
       "      <td>7.831B</td>\n",
       "      <td>953.408M</td>\n",
       "      <td>953.408M</td>\n",
       "      <td>953.408M</td>\n",
       "      <td>69.752M</td>\n",
       "    </tr>\n",
       "    <tr>\n",
       "      <th>22</th>\n",
       "      <td>LINK-USD</td>\n",
       "      <td>Chainlink USD</td>\n",
       "      <td>15.34</td>\n",
       "      <td>+0.21</td>\n",
       "      <td>+1.41%</td>\n",
       "      <td>7.163B</td>\n",
       "      <td>930.314M</td>\n",
       "      <td>930.314M</td>\n",
       "      <td>930.314M</td>\n",
       "      <td>467.01M</td>\n",
       "    </tr>\n",
       "    <tr>\n",
       "      <th>23</th>\n",
       "      <td>NEAR-USD</td>\n",
       "      <td>NEAR Protocol USD</td>\n",
       "      <td>11.14</td>\n",
       "      <td>+0.67</td>\n",
       "      <td>+6.41%</td>\n",
       "      <td>7.158B</td>\n",
       "      <td>1.679B</td>\n",
       "      <td>1.679B</td>\n",
       "      <td>1.679B</td>\n",
       "      <td>642.738M</td>\n",
       "    </tr>\n",
       "    <tr>\n",
       "      <th>24</th>\n",
       "      <td>UNI1-USD</td>\n",
       "      <td>Uniswap USD</td>\n",
       "      <td>10.21</td>\n",
       "      <td>-0.15</td>\n",
       "      <td>-1.49%</td>\n",
       "      <td>7.005B</td>\n",
       "      <td>325.396M</td>\n",
       "      <td>325.396M</td>\n",
       "      <td>325.396M</td>\n",
       "      <td>686.372M</td>\n",
       "    </tr>\n",
       "  </tbody>\n",
       "</table>\n",
       "</div>"
      ],
      "text/plain": [
       "       Symbol                 Name Price (Intraday)     Change % Change  \\\n",
       "0     BTC-USD          Bitcoin USD        43,875.73    +466.61   +1.07%   \n",
       "1     ETH-USD         Ethereum USD         2,978.16     +59.08   +2.02%   \n",
       "2    USDT-USD           Tether USD           1.0004    +0.0000   +0.00%   \n",
       "3     BNB-USD     Binance Coin USD           410.46      -2.61   -0.63%   \n",
       "4    USDC-USD         USD Coin USD         0.999564  -0.000053   -0.01%   \n",
       "5     XRP-USD              XRP USD         0.766579  -0.004162   -0.54%   \n",
       "6   LUNA1-USD            Terra USD            93.67      +5.43   +6.15%   \n",
       "7     SOL-USD           Solana USD           103.44      +6.90   +7.15%   \n",
       "8     ADA-USD          Cardano USD         0.953408  -0.013025   -1.35%   \n",
       "9     HEX-USD              HEX USD         0.133403  -0.007781   -5.51%   \n",
       "10   AVAX-USD        Avalanche USD            85.66      -1.05   -1.21%   \n",
       "11    DOT-USD         Polkadot USD            18.71      -0.20   -1.04%   \n",
       "12   BUSD-USD      Binance USD USD           1.0006    -0.0002   -0.02%   \n",
       "13   DOGE-USD         Dogecoin USD         0.133231  +0.000581   +0.44%   \n",
       "14   SHIB-USD        SHIBA INU USD         0.000027  +0.000000   +1.49%   \n",
       "15    UST-USD         TerraUSD USD           1.0011    -0.0028   -0.28%   \n",
       "16  MATIC-USD          Polygon USD           1.6286    +0.0324   +2.03%   \n",
       "17   WBTC-USD  Wrapped Bitcoin USD        43,962.91    +619.77   +1.43%   \n",
       "18    CRO-USD  Crypto.com Coin USD         0.442958  +0.005429   +1.24%   \n",
       "19    DAI-USD              Dai USD         0.999407  -0.000720   -0.07%   \n",
       "20   ATOM-USD           Cosmos USD            30.71      -0.87   -2.76%   \n",
       "21    LTC-USD         Litecoin USD           112.28      -0.23   -0.20%   \n",
       "22   LINK-USD        Chainlink USD            15.34      +0.21   +1.41%   \n",
       "23   NEAR-USD    NEAR Protocol USD            11.14      +0.67   +6.41%   \n",
       "24   UNI1-USD          Uniswap USD            10.21      -0.15   -1.49%   \n",
       "\n",
       "   Market Cap Volume in Currency (Since 0:00 UTC) Volume in Currency (24Hr)  \\\n",
       "0    832.423B                             33.312B                   33.312B   \n",
       "1    356.757B                             19.495B                   19.495B   \n",
       "2     79.473B                             77.514B                   77.514B   \n",
       "3     67.774B                              2.597B                    2.597B   \n",
       "4     53.593B                              5.717B                    5.717B   \n",
       "5     36.757B                              2.933B                    2.933B   \n",
       "6     35.092B                              5.329B                    5.329B   \n",
       "7     33.162B                              3.768B                    3.768B   \n",
       "8     32.093B                              1.705B                    1.705B   \n",
       "9     23.134B                             27.926M                   27.926M   \n",
       "10    21.096B                              2.017B                    2.017B   \n",
       "11    18.476B                              1.533B                    1.533B   \n",
       "12    18.207B                              7.209B                    7.209B   \n",
       "13    17.676B                             841.91M                   841.91M   \n",
       "14    14.571B                              2.015B                    2.015B   \n",
       "15    13.099B                            695.843M                  695.843M   \n",
       "16    12.309B                              1.489B                    1.489B   \n",
       "17     11.53B                            318.525M                  318.525M   \n",
       "18     11.19B                            124.445M                  124.445M   \n",
       "19     9.702B                            318.448M                  318.448M   \n",
       "20     8.794B                              1.284B                    1.284B   \n",
       "21     7.831B                            953.408M                  953.408M   \n",
       "22     7.163B                            930.314M                  930.314M   \n",
       "23     7.158B                              1.679B                    1.679B   \n",
       "24     7.005B                            325.396M                  325.396M   \n",
       "\n",
       "   Total Volume All Currencies (24Hr) Circulating Supply  \n",
       "0                             33.312B            18.972M  \n",
       "1                             19.495B           119.791M  \n",
       "2                             77.514B            79.442B  \n",
       "3                              2.597B           165.117M  \n",
       "4                              5.717B            53.617B  \n",
       "5                              2.933B            47.949B  \n",
       "6                              5.329B           374.653M  \n",
       "7                              3.768B           320.598M  \n",
       "8                              1.705B            33.661B  \n",
       "9                             27.926M           173.411B  \n",
       "10                             2.017B            246.29M  \n",
       "11                             1.533B           987.579M  \n",
       "12                             7.209B            18.196B  \n",
       "13                            841.91M           132.671B  \n",
       "14                             2.015B           549.063T  \n",
       "15                           695.843M            13.084B  \n",
       "16                             1.489B             7.558B  \n",
       "17                           318.525M            262,262  \n",
       "18                           124.445M            25.263B  \n",
       "19                           318.448M             9.707B  \n",
       "20                             1.284B            286.37M  \n",
       "21                           953.408M            69.752M  \n",
       "22                           930.314M            467.01M  \n",
       "23                             1.679B           642.738M  \n",
       "24                           325.396M           686.372M  "
      ]
     },
     "execution_count": 40,
     "metadata": {},
     "output_type": "execute_result"
    }
   ],
   "source": [
    "table_df"
   ]
  },
  {
   "cell_type": "code",
   "execution_count": null,
   "metadata": {},
   "outputs": [],
   "source": []
  },
  {
   "cell_type": "code",
   "execution_count": null,
   "metadata": {},
   "outputs": [],
   "source": []
  },
  {
   "cell_type": "code",
   "execution_count": 41,
   "metadata": {
    "id": "tc6XWwf5lrgu"
   },
   "outputs": [],
   "source": [
    "header = driver.find_elements(By.TAG_NAME, value= 'th')"
   ]
  },
  {
   "cell_type": "code",
   "execution_count": 42,
   "metadata": {
    "colab": {
     "base_uri": "https://localhost:8080/",
     "height": 35
    },
    "id": "FQABvh2klrgu",
    "outputId": "444acc22-2074-4d68-8c7d-587abb0802f5"
   },
   "outputs": [
    {
     "data": {
      "text/plain": [
       "'Symbol'"
      ]
     },
     "execution_count": 42,
     "metadata": {},
     "output_type": "execute_result"
    }
   ],
   "source": [
    "header[0].text"
   ]
  },
  {
   "cell_type": "code",
   "execution_count": 43,
   "metadata": {
    "colab": {
     "base_uri": "https://localhost:8080/",
     "height": 35
    },
    "id": "LuEM88Sclrgv",
    "outputId": "bdea7d87-c323-4d46-8075-224c6ed3df25"
   },
   "outputs": [
    {
     "data": {
      "text/plain": [
       "'TRON USD'"
      ]
     },
     "execution_count": 43,
     "metadata": {},
     "output_type": "execute_result"
    }
   ],
   "source": [
    "rownum=2\n",
    "txt=driver.find_element(By.XPATH, value=\"//tr[{}]/td[2]\".format(rownum)).text\n",
    "txt"
   ]
  },
  {
   "cell_type": "code",
   "execution_count": null,
   "metadata": {
    "id": "r2dK17gZRYW4"
   },
   "outputs": [],
   "source": []
  },
  {
   "cell_type": "code",
   "execution_count": null,
   "metadata": {
    "id": "BMYdI4n3RYW4"
   },
   "outputs": [],
   "source": []
  },
  {
   "cell_type": "code",
   "execution_count": null,
   "metadata": {
    "colab": {
     "base_uri": "https://localhost:8080/"
    },
    "id": "JUaqMYcUlrgv",
    "outputId": "8ba812d1-7248-49bb-f20d-fcabac3ebd4c"
   },
   "outputs": [],
   "source": [
    "##OLD CODE REMOVE \n",
    "'''\n",
    "YAHOO_FINANCE_URL = 'https://finance.yahoo.com/trending-tickers'\n",
    "\n",
    "print('Creating driver')\n",
    "driver = get_driver()\n",
    "\n",
    "print('Fetching the page')\n",
    "table_rows = get_tickers(driver)\n",
    "\n",
    "print(f'Found {table_rows} Tickers')\n",
    "\n",
    "print('Parsing Trending tickers')\n",
    "ticker_data = [parse_ticker(i, driver) for i in range (1, table_rows + 1)]\n",
    "\n",
    "print('Save the data to a CSV')\n",
    "tickers_df = pd.DataFrame(ticker_data)\n",
    "#print(tickers_df)\n",
    "tickers_df.to_csv('trending-tickers.csv', index=None)\n",
    "'''"
   ]
  },
  {
   "cell_type": "code",
   "execution_count": null,
   "metadata": {
    "id": "wetnFwuiRYW4"
   },
   "outputs": [],
   "source": []
  },
  {
   "cell_type": "code",
   "execution_count": null,
   "metadata": {
    "id": "j5qDIT-slrgv"
   },
   "outputs": [],
   "source": []
  },
  {
   "cell_type": "code",
   "execution_count": null,
   "metadata": {
    "id": "tQw0QRuGlrgv"
   },
   "outputs": [],
   "source": []
  },
  {
   "cell_type": "code",
   "execution_count": null,
   "metadata": {
    "id": "5I5QtnERlrgv"
   },
   "outputs": [],
   "source": []
  },
  {
   "cell_type": "markdown",
   "metadata": {
    "id": "vYxdL1q6lrgv"
   },
   "source": [
    "**Installation**\n",
    "\n",
    "Anaconda: Download and install it from this link https://www.anaconda.com/ . We will be using Jupyter Notebook for writing the code\n",
    "Chromedriver — Webdriver for Chrome: Download it from this link https://chromedriver.chromium.org/downloads. No need of installing, just copy the file in the folder where we will create the python file. But before downloading, confirm that the driver‘s version matches that of the Chrome browser installed."
   ]
  },
  {
   "cell_type": "code",
   "execution_count": 46,
   "metadata": {
    "id": "7aSVLdJ1lrgw"
   },
   "outputs": [
    {
     "data": {
      "application/javascript": [
       "window.require && require([\"base/js/namespace\"],function(Jupyter){Jupyter.notebook.save_checkpoint()})"
      ],
      "text/plain": [
       "<IPython.core.display.Javascript object>"
      ]
     },
     "metadata": {},
     "output_type": "display_data"
    },
    {
     "name": "stdout",
     "output_type": "stream",
     "text": [
      "[jovian] Updating notebook \"vinodvidhole/yahoo-finance-web-scraper\" on https://jovian.ai/\u001b[0m\n",
      "[jovian] Committed successfully! https://jovian.ai/vinodvidhole/yahoo-finance-web-scraper\u001b[0m\n"
     ]
    },
    {
     "data": {
      "text/plain": [
       "'https://jovian.ai/vinodvidhole/yahoo-finance-web-scraper'"
      ]
     },
     "execution_count": 46,
     "metadata": {},
     "output_type": "execute_result"
    }
   ],
   "source": [
    "jovian.commit(project=\"yahoo-finance-web-scraper\")"
   ]
  },
  {
   "cell_type": "code",
   "execution_count": null,
   "metadata": {
    "id": "vXXLySqvlrgw"
   },
   "outputs": [],
   "source": []
  },
  {
   "cell_type": "markdown",
   "metadata": {
    "id": "JWvWtKV9lrgw"
   },
   "source": []
  },
  {
   "cell_type": "code",
   "execution_count": null,
   "metadata": {
    "id": "z9MF3oRzlrgw"
   },
   "outputs": [],
   "source": []
  },
  {
   "cell_type": "markdown",
   "metadata": {
    "id": "uBAYOrPylrgw"
   },
   "source": [
    "future \n",
    "fix timezone in market events "
   ]
  },
  {
   "cell_type": "markdown",
   "metadata": {
    "id": "74uMwVpolrgw"
   },
   "source": [
    "-do to\n",
    "\n",
    "-check above notes \n",
    "\n",
    "-testing - done normal, zero rows \n",
    "\n",
    "-comments \n",
    "\n",
    "-print statements & function doc strings  \n",
    "\n",
    "-code clean up *** is applicable \n",
    "\n",
    "-documentation"
   ]
  },
  {
   "cell_type": "markdown",
   "metadata": {
    "id": "GMk7mH11lrgw"
   },
   "source": [
    "## reference\n",
    "    https://htmldog.com/guides/html/"
   ]
  },
  {
   "cell_type": "code",
   "execution_count": null,
   "metadata": {
    "id": "g9EQk85jlrgw"
   },
   "outputs": [],
   "source": []
  },
  {
   "cell_type": "code",
   "execution_count": null,
   "metadata": {
    "id": "X-bSdX-nlrgw"
   },
   "outputs": [],
   "source": []
  }
 ],
 "metadata": {
  "colab": {
   "collapsed_sections": [
    "DvSMJZeClrgo"
   ],
   "name": "yahoo-finance-web-scraper.ipynb",
   "provenance": []
  },
  "kernelspec": {
   "display_name": "Python 3 (ipykernel)",
   "language": "python",
   "name": "python3"
  },
  "language_info": {
   "codemirror_mode": {
    "name": "ipython",
    "version": 3
   },
   "file_extension": ".py",
   "mimetype": "text/x-python",
   "name": "python",
   "nbconvert_exporter": "python",
   "pygments_lexer": "ipython3",
   "version": "3.9.7"
  }
 },
 "nbformat": 4,
 "nbformat_minor": 1
}
