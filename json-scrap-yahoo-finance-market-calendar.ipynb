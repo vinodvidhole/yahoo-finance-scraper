{
 "cells": [
  {
   "cell_type": "markdown",
   "metadata": {},
   "source": [
    "# Scraping Markets calendar & Trending Tickers from Yahoo Finance\n",
    "\n",
    "TODO  (Intro): \n",
    "- Introduction about web scraping\n",
    "- Introduction about and the problem statement\n",
    "- Mention the tools you're using (Python, requests, Beautiful Soup, Pandas)\n"
   ]
  },
  {
   "cell_type": "markdown",
   "metadata": {},
   "source": [
    "Here are the steps we'll follow:\n",
    "\n",
    "Phase 1\n",
    "- We're going to scrape following 2 websites using 2 different techniques\n",
    "\n",
    "a. https://finance.yahoo.com/calendar\n",
    "    - this page is showing date wise market events data in tabular format for Earnings , Stock Splits, Economic Events. our aim is to create script which can be run form single date and single event and grab the data and save it in csv format.\n",
    "    - if no data then just create tiles with column header , or blank based on parameter.\n",
    "    \n",
    "    \n",
    "b. https://finance.yahoo.com/trending-tickers\n",
    " - selenium method and find tag method to scrape this website \n",
    " \n",
    "Phase 2 \n",
    "\n",
    "Automate this process to get daily calendar & trending tickers in csv files\n",
    "- create daily 5 files \n",
    "- move the archive files in to archive folder with time stamp \n",
    "- delete older files files older than 2 weeks\n"
   ]
  },
  {
   "cell_type": "code",
   "execution_count": 1,
   "metadata": {},
   "outputs": [],
   "source": [
    "!pip install jovian --upgrade --quiet"
   ]
  },
  {
   "cell_type": "code",
   "execution_count": 2,
   "metadata": {},
   "outputs": [],
   "source": [
    "import jovian"
   ]
  },
  {
   "cell_type": "code",
   "execution_count": 3,
   "metadata": {},
   "outputs": [
    {
     "data": {
      "application/javascript": [
       "window.require && require([\"base/js/namespace\"],function(Jupyter){Jupyter.notebook.save_checkpoint()})"
      ],
      "text/plain": [
       "<IPython.core.display.Javascript object>"
      ]
     },
     "metadata": {},
     "output_type": "display_data"
    },
    {
     "name": "stdout",
     "output_type": "stream",
     "text": [
      "[jovian] Updating notebook \"vinodvidhole/scrap-market-calendar-trending-tickers\" on https://jovian.ai/\u001b[0m\n",
      "[jovian] Committed successfully! https://jovian.ai/vinodvidhole/scrap-market-calendar-trending-tickers\u001b[0m\n"
     ]
    },
    {
     "data": {
      "text/plain": [
       "'https://jovian.ai/vinodvidhole/scrap-market-calendar-trending-tickers'"
      ]
     },
     "execution_count": 3,
     "metadata": {},
     "output_type": "execute_result"
    }
   ],
   "source": [
    "# Execute this to save new versions of the notebook\n",
    "jovian.commit(project=\"scrap-market-calendar-trending-tickers\")"
   ]
  },
  {
   "cell_type": "code",
   "execution_count": 4,
   "metadata": {},
   "outputs": [],
   "source": [
    "import re\n",
    "import json\n",
    "import csv\n",
    "from io import StringIO\n",
    "from bs4 import BeautifulSoup\n",
    "import requests\n",
    "import pandas as pd"
   ]
  },
  {
   "cell_type": "code",
   "execution_count": 5,
   "metadata": {},
   "outputs": [],
   "source": [
    "def get_event_page(scraper_url):\n",
    "    \"\"\"add something\"\"\"\n",
    "    headers = {\n",
    "    \"User-Agent\": \"Mozilla/5.0 (Windows NT 10.0; Win64; x64) AppleWebKit/537.36\"\n",
    "                  \"(KHTML, like Gecko) Chrome/70.0.3538.102 Safari/537.36 Edge/18.19582\"\n",
    "    }\n",
    "    response = requests.get(scraper_url, headers=headers)\n",
    "    if not response.ok:\n",
    "        print('Status code:', response.status_code)\n",
    "        raise Exception('Failed to fetch web page ' + scraper_url)\n",
    "    \n",
    "    # Construct a beautiful soup document\n",
    "    doc = BeautifulSoup(response.text, 'html.parser')\n",
    "    return doc"
   ]
  },
  {
   "cell_type": "code",
   "execution_count": 6,
   "metadata": {},
   "outputs": [],
   "source": [
    "def get_json_dictionary(doc):\n",
    "    \"\"\"Add\"\"\"\n",
    "    ## Explain \n",
    "    pattern = re.compile(r'\\s--\\sData\\s--\\s')\n",
    "    script_data = doc.find('script', text=pattern).text\n",
    "    \n",
    "    ## Explain\n",
    "    start  = script_data.find('context')-2\n",
    "    json_dictionary  = script_data[start:-12]\n",
    "    \n",
    "    ##explain \n",
    "    parsed_dictionary = json.loads(json_dictionary)\n",
    "    \n",
    "    return parsed_dictionary, json_dictionary    "
   ]
  },
  {
   "cell_type": "code",
   "execution_count": 7,
   "metadata": {},
   "outputs": [],
   "source": [
    "# this function is useful during analysis \n",
    "def create_json_file(file_name,json_dictionary):\n",
    "    \"\"\"Add\"\"\"\n",
    "    with open(file_name+'.json', 'w') as file:\n",
    "        file.write(json_dictionary)"
   ]
  },
  {
   "cell_type": "code",
   "execution_count": 8,
   "metadata": {},
   "outputs": [],
   "source": [
    "def get_columns_and_total_rows(parsed_dictionary):\n",
    "    #explain \n",
    "    total_rows = parsed_dictionary['context']['dispatcher']['stores']['ScreenerResultsStore']['results']['total']\n",
    "    column_dictionary = parsed_dictionary['context']['dispatcher']['stores']['ScreenerResultsStore']['results']['columns']\n",
    "    \n",
    "    return total_rows, column_dictionary"
   ]
  },
  {
   "cell_type": "code",
   "execution_count": 9,
   "metadata": {},
   "outputs": [],
   "source": [
    "def get_page_rows(parsed_dictionary):\n",
    "    data_dictionary = parsed_dictionary['context']['dispatcher']['stores']['ScreenerResultsStore']['results']['rows']\n",
    "    \n",
    "    return len(data_dictionary), data_dictionary"
   ]
  },
  {
   "cell_type": "code",
   "execution_count": 10,
   "metadata": {},
   "outputs": [],
   "source": [
    "def scrape_all_pages(event_type, date):\n",
    "    base_url = 'https://finance.yahoo.com/calendar/{}?day={}&offset={}&size={}'\n",
    "    page_size = '100' # this indicates max rows per page \n",
    "    page_number = 1\n",
    "    pagewise_rows = 0\n",
    "    final_data_dictionary = []\n",
    "    \n",
    "    while page_number > 0:\n",
    "        #Explain : starting page 0, next page must be multiple of page_size i.e. 100\n",
    "        print(\"Pricessing page # {}\".format(page_number))\n",
    "        page_url = str((page_number - 1 ) * int(page_size))\n",
    "        scrape_url = base_url.format(event_type, date, page_url, page_size)\n",
    "        print(\"Scrape url for page {} is {}\".format(page_number,scrape_url))\n",
    "        page_doc = get_event_page(scrape_url)\n",
    "        parse_dict, json_dict = get_json_dictionary(page_doc)\n",
    "        total_row, column_dict = get_columns_and_total_rows(parse_dict)        \n",
    "        page_rows , data_dict = get_page_rows(parse_dict)\n",
    "        print(\"total rows for page {} : {}\".format(page_number,page_rows))\n",
    "        pagewise_rows += page_rows\n",
    "        final_data_dictionary += data_dict\n",
    "        if pagewise_rows >= total_row:\n",
    "            page_number = 0\n",
    "            return final_data_dictionary, column_dict\n",
    "        page_number += 1"
   ]
  },
  {
   "cell_type": "code",
   "execution_count": 11,
   "metadata": {},
   "outputs": [],
   "source": [
    "def get_dataframe_layout(filter_lists, column_dictionary):\n",
    "    \"\"\"Add\"\"\"\n",
    "    filter_columns = []\n",
    "    filter_columns_header = []\n",
    "    for i in filter_lists:\n",
    "        filter_columns.append(column_dictionary[i]['data'])\n",
    "        filter_columns_header.append(column_dictionary[i]['content'])\n",
    "    return filter_columns, filter_columns_header  "
   ]
  },
  {
   "cell_type": "code",
   "execution_count": 12,
   "metadata": {},
   "outputs": [],
   "source": [
    "def data_processing(df):\n",
    "    #data processing\n",
    "    if event_type == 'earnings':\n",
    "        df['startdatetimetype'].replace(decode_dictionary, inplace=True)\n",
    "    elif event_type == 'splits':\n",
    "        df['ratio'] = df['old_share_worth'].astype(str) + '.00 - ' + df['share_worth'].astype(str)+'.00'\n",
    "        df['optionable'].replace(decode_dictionary, inplace=True)\n",
    "        df['startdatetime'] = pd.to_datetime(df['startdatetime']).dt.strftime('%b %d, %Y')\n",
    "    elif event_type == 'economic':\n",
    "        df['startdatetime'] = pd.to_datetime(df['startdatetime']).dt.strftime('%I:%M%p')\n",
    "    return df "
   ]
  },
  {
   "cell_type": "code",
   "execution_count": 13,
   "metadata": {},
   "outputs": [],
   "source": [
    "def create_csv(data_dictionary, filter_columns, filter_columns_header):\n",
    "    \"\"\"\"\"\"\n",
    "    file_name = event_type+'_'+date_param\n",
    "    if event_type == 'splits':\n",
    "        filter_columns = csv_columnm[:-2] + ['ratio']\n",
    "        filter_columns_header = csv_header[:-2] + ['Ratio'] \n",
    "            \n",
    "    if len(data_dictionary) > 0:\n",
    "        scraped_df = pd.DataFrame(data_dictionary)\n",
    "        processed_df = data_processing(scraped_df)\n",
    "        processed_df.to_csv(file_name+'.csv',columns=filter_columns,header=filter_columns_header,index=False)\n",
    "    else:\n",
    "        processed_df=pd.DataFrame(columns=filter_columns_header)\n",
    "        processed_df.to_csv(file_name+'.csv',index=False)"
   ]
  },
  {
   "cell_type": "code",
   "execution_count": 14,
   "metadata": {},
   "outputs": [],
   "source": [
    "def set_global_variables(event_type):\n",
    "    #global variables \n",
    "    decode_dict  = {'AMC':'After Market Close',\n",
    "                          'BMO':'Before Market Open',\n",
    "                          'TAS':'Time As Supplied',\n",
    "                          'TNS':'Time Not Supplied',\n",
    "                          False:'N',\n",
    "                          True:'Y'\n",
    "                         }\n",
    "    #explan this \n",
    "    if event_type == 'earnings':\n",
    "        column_filter_id = [0,1,3,4,5,6]\n",
    "    elif event_type == 'splits':\n",
    "        column_filter_id = [0,1,2,3,4,5] \n",
    "    elif event_type == 'economic':\n",
    "        column_filter_id = [0,1,2,3,4,5,6,7] \n",
    "    return decode_dict, column_filter_id    "
   ]
  },
  {
   "cell_type": "code",
   "execution_count": 15,
   "metadata": {},
   "outputs": [
    {
     "name": "stdout",
     "output_type": "stream",
     "text": [
      "Pricessing page # 1\n",
      "Scrape url for page 1 is https://finance.yahoo.com/calendar/economic?day=2022-02-24&offset=0&size=100\n",
      "total rows for page 1 : 80\n"
     ]
    }
   ],
   "source": [
    "## create dictionary to identify webpage and technique to use \n",
    "event_type = 'earnings'\n",
    "event_type = 'splits'\n",
    "event_type = 'economic'\n",
    "\n",
    "# create a function to get default date if date is not passed \n",
    "date_param = '2022-02-24'\n",
    "\n",
    "\n",
    "# create function to showcase all techniques\n",
    "decode_dictionary, column_id = set_global_variables(event_type)\n",
    "data_dict, column_dict = scrape_all_pages(event_type, date_param)\n",
    "csv_columnm , csv_header = get_dataframe_layout(column_id, column_dict)\n",
    "create_csv(data_dict, csv_columnm, csv_header)"
   ]
  },
  {
   "cell_type": "code",
   "execution_count": null,
   "metadata": {},
   "outputs": [
    {
     "data": {
      "application/javascript": [
       "window.require && require([\"base/js/namespace\"],function(Jupyter){Jupyter.notebook.save_checkpoint()})"
      ],
      "text/plain": [
       "<IPython.core.display.Javascript object>"
      ]
     },
     "metadata": {},
     "output_type": "display_data"
    }
   ],
   "source": [
    "jovian.commit(project=\"scrap-market-calendar-trending-tickers\",git_commit=True)"
   ]
  },
  {
   "cell_type": "code",
   "execution_count": null,
   "metadata": {},
   "outputs": [],
   "source": []
  },
  {
   "cell_type": "markdown",
   "metadata": {},
   "source": [
    "future \n",
    "fix timezone in market events \n"
   ]
  },
  {
   "cell_type": "markdown",
   "metadata": {},
   "source": [
    "-do to\n",
    "\n",
    "-check above notes \n",
    "\n",
    "-testing - done normal, zero rows \n",
    "\n",
    "-comments \n",
    "\n",
    "-print statements & function doc strings  \n",
    "\n",
    "-code clean up *** is applicable \n",
    "\n",
    "-documentation"
   ]
  },
  {
   "cell_type": "code",
   "execution_count": null,
   "metadata": {},
   "outputs": [],
   "source": []
  }
 ],
 "metadata": {
  "kernelspec": {
   "display_name": "Python 3 (ipykernel)",
   "language": "python",
   "name": "python3"
  },
  "language_info": {
   "codemirror_mode": {
    "name": "ipython",
    "version": 3
   },
   "file_extension": ".py",
   "mimetype": "text/x-python",
   "name": "python",
   "nbconvert_exporter": "python",
   "pygments_lexer": "ipython3",
   "version": "3.9.7"
  }
 },
 "nbformat": 4,
 "nbformat_minor": 2
}
