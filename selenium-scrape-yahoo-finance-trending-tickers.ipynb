{
 "cells": [
  {
   "cell_type": "markdown",
   "metadata": {},
   "source": [
    "# selenium-yahoo-finance-scraper\n",
    "\n",
    "Use the \"Run\" button to execute the code."
   ]
  },
  {
   "cell_type": "markdown",
   "metadata": {},
   "source": []
  },
  {
   "cell_type": "code",
   "execution_count": 1,
   "metadata": {},
   "outputs": [],
   "source": [
    "!pip install jovian --upgrade --quiet\n",
    "!pip install selenium --upgrade --quiet"
   ]
  },
  {
   "cell_type": "markdown",
   "metadata": {},
   "source": [
    "##prereq\n",
    "\n",
    "- !pip install webdriver-manager --upgrade --quiet\n",
    "- download required chromdriver and place it in the project path "
   ]
  },
  {
   "cell_type": "markdown",
   "metadata": {},
   "source": [
    "![](https://imgur.com/caHD7Dm.png)"
   ]
  },
  {
   "cell_type": "markdown",
   "metadata": {},
   "source": [
    "![](https://imgur.com/H2LfYlh.png)\n"
   ]
  },
  {
   "cell_type": "markdown",
   "metadata": {},
   "source": [
    "![](https://imgur.com/7jMFOcE.png)\n"
   ]
  },
  {
   "cell_type": "markdown",
   "metadata": {},
   "source": [
    "![](https://media.giphy.com/media/TwLrWWtF6zcDGk5BQf/giphy.gif)"
   ]
  },
  {
   "cell_type": "code",
   "execution_count": 2,
   "metadata": {},
   "outputs": [],
   "source": [
    "import jovian"
   ]
  },
  {
   "cell_type": "code",
   "execution_count": 3,
   "metadata": {},
   "outputs": [
    {
     "data": {
      "application/javascript": [
       "window.require && require([\"base/js/namespace\"],function(Jupyter){Jupyter.notebook.save_checkpoint()})"
      ],
      "text/plain": [
       "<IPython.core.display.Javascript object>"
      ]
     },
     "metadata": {},
     "output_type": "display_data"
    },
    {
     "name": "stdout",
     "output_type": "stream",
     "text": [
      "[jovian] Updating notebook \"vinodvidhole/selenium-yahoo-finance-scraper\" on https://jovian.ai/\u001b[0m\n",
      "[jovian] Committed successfully! https://jovian.ai/vinodvidhole/selenium-yahoo-finance-scraper\u001b[0m\n"
     ]
    },
    {
     "data": {
      "text/plain": [
       "'https://jovian.ai/vinodvidhole/selenium-yahoo-finance-scraper'"
      ]
     },
     "execution_count": 3,
     "metadata": {},
     "output_type": "execute_result"
    }
   ],
   "source": [
    "# Execute this to save new versions of the notebook\n",
    "jovian.commit(project=\"selenium-yahoo-finance-scraper\")"
   ]
  },
  {
   "cell_type": "code",
   "execution_count": 4,
   "metadata": {},
   "outputs": [],
   "source": [
    "!pip install webdriver-manager --upgrade --quiet"
   ]
  },
  {
   "cell_type": "code",
   "execution_count": 5,
   "metadata": {},
   "outputs": [],
   "source": [
    "from selenium import webdriver\n",
    "from selenium.webdriver.chrome.options import Options\n",
    "from selenium.webdriver.common.by import By\n",
    "from selenium.webdriver.chrome.service import Service\n",
    "from webdriver_manager.chrome import ChromeDriverManager\n",
    "import pandas as pd "
   ]
  },
  {
   "cell_type": "code",
   "execution_count": 6,
   "metadata": {},
   "outputs": [],
   "source": [
    "def get_driver():\n",
    "    chrome_options = Options()\n",
    "    chrome_options.add_argument('--no-sandbox')\n",
    "    chrome_options.add_argument('--disable-dev-shm-usage')\n",
    "    chrome_options.add_argument('--headless')\n",
    "    serv = Service(ChromeDriverManager().install())\n",
    "    #driver = webdriver.Chrome(service=serv)\n",
    "    driver = webdriver.Chrome(options=chrome_options, service=serv)\n",
    "    driver.get(YAHOO_FINANCE_URL)\n",
    "    return driver"
   ]
  },
  {
   "cell_type": "code",
   "execution_count": 7,
   "metadata": {},
   "outputs": [],
   "source": [
    "def get_table_rows(driver):\n",
    "    TABLE_CLASS = \"W(100%)\"  \n",
    "    tablerows = len(driver.find_elements(By.XPATH, value=\"//table[@class= '{}']/tbody/tr\".format(TABLE_CLASS)))\n",
    "    return tablerows"
   ]
  },
  {
   "cell_type": "code",
   "execution_count": 8,
   "metadata": {},
   "outputs": [],
   "source": [
    "def get_table_header(driver):\n",
    "    header = driver.find_elements(By.TAG_NAME, value= 'th')\n",
    "    header_list = [item.text for index, item in enumerate(header) if index < 10]\n",
    "    return header_list"
   ]
  },
  {
   "cell_type": "code",
   "execution_count": null,
   "metadata": {},
   "outputs": [],
   "source": []
  },
  {
   "cell_type": "code",
   "execution_count": 9,
   "metadata": {},
   "outputs": [
    {
     "data": {
      "text/plain": [
       "'\\nrownum = 1\\ncolnum = 3\\ndriver.find_element(By.XPATH, value=\"//tr[{}]/td[{}]\".format(rownum,colnum)).text\\n'"
      ]
     },
     "execution_count": 9,
     "metadata": {},
     "output_type": "execute_result"
    }
   ],
   "source": [
    "'''\n",
    "rownum = 1\n",
    "colnum = 3\n",
    "driver.find_element(By.XPATH, value=\"//tr[{}]/td[{}]\".format(rownum,colnum)).text\n",
    "'''"
   ]
  },
  {
   "cell_type": "code",
   "execution_count": 10,
   "metadata": {},
   "outputs": [],
   "source": [
    "def parse_table_rows(rownum, driver, header_list):\n",
    "    row_dictionary = {}\n",
    "    for index , item in enumerate(header_list):\n",
    "        row_dictionary[item] = driver.find_element(By.XPATH, value=\"//tr[{}]/td[{}]\".format(rownum, index+1)).text\n",
    "    return row_dictionary"
   ]
  },
  {
   "cell_type": "code",
   "execution_count": 11,
   "metadata": {},
   "outputs": [
    {
     "name": "stderr",
     "output_type": "stream",
     "text": [
      "\n",
      "\n",
      "====== WebDriver manager ======\n",
      "Current google-chrome version is 98.0.4758\n",
      "Get LATEST chromedriver version for 98.0.4758 google-chrome\n"
     ]
    },
    {
     "name": "stdout",
     "output_type": "stream",
     "text": [
      "Creating driver\n"
     ]
    },
    {
     "name": "stderr",
     "output_type": "stream",
     "text": [
      "Driver [/Users/vinoddhole/.wdm/drivers/chromedriver/mac64/98.0.4758.102/chromedriver] found in cache\n"
     ]
    }
   ],
   "source": [
    "YAHOO_FINANCE_URL = 'https://finance.yahoo.com/cryptocurrencies'#'https://finance.yahoo.com/trending-tickers'\n",
    "\n",
    "print('Creating driver')\n",
    "driver = get_driver()"
   ]
  },
  {
   "cell_type": "code",
   "execution_count": 12,
   "metadata": {},
   "outputs": [],
   "source": [
    "header_list = get_table_header(driver)"
   ]
  },
  {
   "cell_type": "code",
   "execution_count": 13,
   "metadata": {},
   "outputs": [
    {
     "data": {
      "text/plain": [
       "25"
      ]
     },
     "execution_count": 13,
     "metadata": {},
     "output_type": "execute_result"
    }
   ],
   "source": [
    "table_rows = get_table_rows(driver)\n",
    "table_rows"
   ]
  },
  {
   "cell_type": "code",
   "execution_count": 14,
   "metadata": {},
   "outputs": [
    {
     "name": "stdout",
     "output_type": "stream",
     "text": [
      "Getting Table row count for Page : 1\n",
      "Parsing Page : 1\n",
      "Clicking Next Button\n",
      "Getting Table row count for Page : 2\n",
      "Parsing Page : 2\n",
      "Clicking Next Button\n",
      "Getting Table row count for Page : 3\n",
      "Parsing Page : 3\n",
      "Clicking Next Button\n",
      "Getting Table row count for Page : 4\n",
      "Parsing Page : 4\n",
      "Clicking Next Button\n",
      "Getting Table row count for Page : 5\n",
      "Parsing Page : 5\n",
      "Clicking Next Button\n",
      "Getting Table row count for Page : 6\n",
      "Parsing Page : 6\n",
      "Clicking Next Button\n",
      "Getting Table row count for Page : 7\n",
      "Parsing Page : 7\n",
      "Clicking Next Button\n",
      "Getting Table row count for Page : 8\n",
      "Parsing Page : 8\n",
      "Clicking Next Button\n",
      "Getting Table row count for Page : 9\n",
      "Parsing Page : 9\n",
      "Clicking Next Button\n",
      "Getting Table row count for Page : 10\n",
      "Parsing Page : 10\n",
      "Clicking Next Button\n"
     ]
    }
   ],
   "source": [
    "TOTAL_PAGES_TO_SCRAPE = 10\n",
    "table_data = []\n",
    "next_button_class = '//*[@id=\"scr-res-table\"]/div[2]/button[3]'\n",
    "for page in range(1, TOTAL_PAGES_TO_SCRAPE + 1):\n",
    "    \n",
    "    print('Getting Table row count for Page : {}'.format(page))\n",
    "    table_rows = get_table_rows(driver)\n",
    "    \n",
    "    print('Parsing Page : {}'.format(page))\n",
    "    table_data += [parse_table_rows(i, driver, header_list) for i in range (1, table_rows + 1)]\n",
    "    \n",
    "    print('Clicking Next Button')\n",
    "    next_button = driver.find_elements(By.XPATH, value = next_button_class)    \n",
    "    next_button[0].click()"
   ]
  },
  {
   "cell_type": "code",
   "execution_count": 15,
   "metadata": {},
   "outputs": [
    {
     "data": {
      "text/plain": [
       "250"
      ]
     },
     "execution_count": 15,
     "metadata": {},
     "output_type": "execute_result"
    }
   ],
   "source": [
    "len(table_data)"
   ]
  },
  {
   "cell_type": "code",
   "execution_count": 18,
   "metadata": {},
   "outputs": [
    {
     "name": "stdout",
     "output_type": "stream",
     "text": [
      "Save the data to a CSV\n"
     ]
    }
   ],
   "source": [
    "print('Save the data to a CSV')\n",
    "table_df = pd.DataFrame(table_data)\n",
    "#print(table_df)\n",
    "table_df.to_csv('cryptocurrencies.csv', index=None)\n",
    "#### add timer "
   ]
  },
  {
   "cell_type": "code",
   "execution_count": 19,
   "metadata": {},
   "outputs": [
    {
     "data": {
      "text/html": [
       "<div>\n",
       "<style scoped>\n",
       "    .dataframe tbody tr th:only-of-type {\n",
       "        vertical-align: middle;\n",
       "    }\n",
       "\n",
       "    .dataframe tbody tr th {\n",
       "        vertical-align: top;\n",
       "    }\n",
       "\n",
       "    .dataframe thead th {\n",
       "        text-align: right;\n",
       "    }\n",
       "</style>\n",
       "<table border=\"1\" class=\"dataframe\">\n",
       "  <thead>\n",
       "    <tr style=\"text-align: right;\">\n",
       "      <th></th>\n",
       "      <th>Symbol</th>\n",
       "      <th>Name</th>\n",
       "      <th>Price (Intraday)</th>\n",
       "      <th>Change</th>\n",
       "      <th>% Change</th>\n",
       "      <th>Market Cap</th>\n",
       "      <th>Volume in Currency (Since 0:00 UTC)</th>\n",
       "      <th>Volume in Currency (24Hr)</th>\n",
       "      <th>Total Volume All Currencies (24Hr)</th>\n",
       "      <th>Circulating Supply</th>\n",
       "    </tr>\n",
       "  </thead>\n",
       "  <tbody>\n",
       "    <tr>\n",
       "      <th>0</th>\n",
       "      <td>BTC-USD</td>\n",
       "      <td>Bitcoin USD</td>\n",
       "      <td>44,165.55</td>\n",
       "      <td>+770.16</td>\n",
       "      <td>+1.77%</td>\n",
       "      <td>837.922B</td>\n",
       "      <td>33.613B</td>\n",
       "      <td>33.613B</td>\n",
       "      <td>33.613B</td>\n",
       "      <td>18.972M</td>\n",
       "    </tr>\n",
       "    <tr>\n",
       "      <th>1</th>\n",
       "      <td>ETH-USD</td>\n",
       "      <td>Ethereum USD</td>\n",
       "      <td>2,991.80</td>\n",
       "      <td>+76.95</td>\n",
       "      <td>+2.64%</td>\n",
       "      <td>358.392B</td>\n",
       "      <td>19.529B</td>\n",
       "      <td>19.529B</td>\n",
       "      <td>19.529B</td>\n",
       "      <td>119.791M</td>\n",
       "    </tr>\n",
       "    <tr>\n",
       "      <th>2</th>\n",
       "      <td>USDT-USD</td>\n",
       "      <td>Tether USD</td>\n",
       "      <td>1.0004</td>\n",
       "      <td>+0.0001</td>\n",
       "      <td>+0.0141%</td>\n",
       "      <td>79.473B</td>\n",
       "      <td>77.781B</td>\n",
       "      <td>77.781B</td>\n",
       "      <td>77.781B</td>\n",
       "      <td>79.442B</td>\n",
       "    </tr>\n",
       "    <tr>\n",
       "      <th>3</th>\n",
       "      <td>BNB-USD</td>\n",
       "      <td>Binance Coin USD</td>\n",
       "      <td>411.61</td>\n",
       "      <td>-0.56</td>\n",
       "      <td>-0.13%</td>\n",
       "      <td>67.964B</td>\n",
       "      <td>2.754B</td>\n",
       "      <td>2.754B</td>\n",
       "      <td>2.754B</td>\n",
       "      <td>165.117M</td>\n",
       "    </tr>\n",
       "    <tr>\n",
       "      <th>4</th>\n",
       "      <td>USDC-USD</td>\n",
       "      <td>USD Coin USD</td>\n",
       "      <td>0.999800</td>\n",
       "      <td>+0.000200</td>\n",
       "      <td>+0.017300%</td>\n",
       "      <td>53.605B</td>\n",
       "      <td>5.718B</td>\n",
       "      <td>5.718B</td>\n",
       "      <td>5.718B</td>\n",
       "      <td>53.617B</td>\n",
       "    </tr>\n",
       "    <tr>\n",
       "      <th>...</th>\n",
       "      <td>...</td>\n",
       "      <td>...</td>\n",
       "      <td>...</td>\n",
       "      <td>...</td>\n",
       "      <td>...</td>\n",
       "      <td>...</td>\n",
       "      <td>...</td>\n",
       "      <td>...</td>\n",
       "      <td>...</td>\n",
       "      <td>...</td>\n",
       "    </tr>\n",
       "    <tr>\n",
       "      <th>245</th>\n",
       "      <td>JOE-USD</td>\n",
       "      <td>JOE USD</td>\n",
       "      <td>1.1367</td>\n",
       "      <td>+0.0211</td>\n",
       "      <td>+1.89%</td>\n",
       "      <td>200.201M</td>\n",
       "      <td>43.756M</td>\n",
       "      <td>43.756M</td>\n",
       "      <td>43.756M</td>\n",
       "      <td>176.124M</td>\n",
       "    </tr>\n",
       "    <tr>\n",
       "      <th>246</th>\n",
       "      <td>ACH-USD</td>\n",
       "      <td>Alchemy Pay USD</td>\n",
       "      <td>0.048609</td>\n",
       "      <td>-0.000355</td>\n",
       "      <td>-0.73%</td>\n",
       "      <td>199.76M</td>\n",
       "      <td>30.808M</td>\n",
       "      <td>30.808M</td>\n",
       "      <td>30.808M</td>\n",
       "      <td>4.109B</td>\n",
       "    </tr>\n",
       "    <tr>\n",
       "      <th>247</th>\n",
       "      <td>CFX-USD</td>\n",
       "      <td>Conflux USD</td>\n",
       "      <td>0.139340</td>\n",
       "      <td>-0.013195</td>\n",
       "      <td>-8.65%</td>\n",
       "      <td>199.572M</td>\n",
       "      <td>21.294M</td>\n",
       "      <td>21.294M</td>\n",
       "      <td>21.294M</td>\n",
       "      <td>1.432B</td>\n",
       "    </tr>\n",
       "    <tr>\n",
       "      <th>248</th>\n",
       "      <td>MVL-USD</td>\n",
       "      <td>MVL USD</td>\n",
       "      <td>0.008712</td>\n",
       "      <td>-0.000119</td>\n",
       "      <td>-1.34%</td>\n",
       "      <td>197.874M</td>\n",
       "      <td>3.081M</td>\n",
       "      <td>3.081M</td>\n",
       "      <td>3.081M</td>\n",
       "      <td>22.714B</td>\n",
       "    </tr>\n",
       "    <tr>\n",
       "      <th>249</th>\n",
       "      <td>CVC-USD</td>\n",
       "      <td>Civic USD</td>\n",
       "      <td>0.295108</td>\n",
       "      <td>-0.003507</td>\n",
       "      <td>-1.17%</td>\n",
       "      <td>197.722M</td>\n",
       "      <td>39.219M</td>\n",
       "      <td>39.219M</td>\n",
       "      <td>39.219M</td>\n",
       "      <td>670M</td>\n",
       "    </tr>\n",
       "  </tbody>\n",
       "</table>\n",
       "<p>250 rows × 10 columns</p>\n",
       "</div>"
      ],
      "text/plain": [
       "       Symbol              Name Price (Intraday)     Change    % Change  \\\n",
       "0     BTC-USD       Bitcoin USD        44,165.55    +770.16      +1.77%   \n",
       "1     ETH-USD      Ethereum USD         2,991.80     +76.95      +2.64%   \n",
       "2    USDT-USD        Tether USD           1.0004    +0.0001    +0.0141%   \n",
       "3     BNB-USD  Binance Coin USD           411.61      -0.56      -0.13%   \n",
       "4    USDC-USD      USD Coin USD         0.999800  +0.000200  +0.017300%   \n",
       "..        ...               ...              ...        ...         ...   \n",
       "245   JOE-USD           JOE USD           1.1367    +0.0211      +1.89%   \n",
       "246   ACH-USD   Alchemy Pay USD         0.048609  -0.000355      -0.73%   \n",
       "247   CFX-USD       Conflux USD         0.139340  -0.013195      -8.65%   \n",
       "248   MVL-USD           MVL USD         0.008712  -0.000119      -1.34%   \n",
       "249   CVC-USD         Civic USD         0.295108  -0.003507      -1.17%   \n",
       "\n",
       "    Market Cap Volume in Currency (Since 0:00 UTC) Volume in Currency (24Hr)  \\\n",
       "0     837.922B                             33.613B                   33.613B   \n",
       "1     358.392B                             19.529B                   19.529B   \n",
       "2      79.473B                             77.781B                   77.781B   \n",
       "3      67.964B                              2.754B                    2.754B   \n",
       "4      53.605B                              5.718B                    5.718B   \n",
       "..         ...                                 ...                       ...   \n",
       "245   200.201M                             43.756M                   43.756M   \n",
       "246    199.76M                             30.808M                   30.808M   \n",
       "247   199.572M                             21.294M                   21.294M   \n",
       "248   197.874M                              3.081M                    3.081M   \n",
       "249   197.722M                             39.219M                   39.219M   \n",
       "\n",
       "    Total Volume All Currencies (24Hr) Circulating Supply  \n",
       "0                              33.613B            18.972M  \n",
       "1                              19.529B           119.791M  \n",
       "2                              77.781B            79.442B  \n",
       "3                               2.754B           165.117M  \n",
       "4                               5.718B            53.617B  \n",
       "..                                 ...                ...  \n",
       "245                            43.756M           176.124M  \n",
       "246                            30.808M             4.109B  \n",
       "247                            21.294M             1.432B  \n",
       "248                             3.081M            22.714B  \n",
       "249                            39.219M               670M  \n",
       "\n",
       "[250 rows x 10 columns]"
      ]
     },
     "execution_count": 19,
     "metadata": {},
     "output_type": "execute_result"
    }
   ],
   "source": [
    "table_df"
   ]
  },
  {
   "cell_type": "code",
   "execution_count": null,
   "metadata": {},
   "outputs": [],
   "source": []
  },
  {
   "cell_type": "code",
   "execution_count": null,
   "metadata": {},
   "outputs": [
    {
     "data": {
      "application/javascript": [
       "window.require && require([\"base/js/namespace\"],function(Jupyter){Jupyter.notebook.save_checkpoint()})"
      ],
      "text/plain": [
       "<IPython.core.display.Javascript object>"
      ]
     },
     "metadata": {},
     "output_type": "display_data"
    }
   ],
   "source": [
    "jovian.commit(project=\"selenium-yahoo-finance-scraper\",git_commit=True)"
   ]
  },
  {
   "cell_type": "code",
   "execution_count": null,
   "metadata": {},
   "outputs": [],
   "source": []
  }
 ],
 "metadata": {
  "kernelspec": {
   "display_name": "Python 3 (ipykernel)",
   "language": "python",
   "name": "python3"
  },
  "language_info": {
   "codemirror_mode": {
    "name": "ipython",
    "version": 3
   },
   "file_extension": ".py",
   "mimetype": "text/x-python",
   "name": "python",
   "nbconvert_exporter": "python",
   "pygments_lexer": "ipython3",
   "version": "3.9.7"
  }
 },
 "nbformat": 4,
 "nbformat_minor": 2
}
