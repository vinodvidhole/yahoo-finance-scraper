{
 "cells": [
  {
   "cell_type": "markdown",
   "metadata": {},
   "source": [
    "# selenium-yahoo-finance-scraper\n",
    "\n",
    "Use the \"Run\" button to execute the code."
   ]
  },
  {
   "cell_type": "markdown",
   "metadata": {},
   "source": []
  },
  {
   "cell_type": "code",
   "execution_count": 1,
   "metadata": {},
   "outputs": [],
   "source": [
    "!pip install jovian --upgrade --quiet\n",
    "!pip install selenium --upgrade --quiet"
   ]
  },
  {
   "cell_type": "markdown",
   "metadata": {},
   "source": [
    "##prereq\n",
    "\n",
    "- !pip install webdriver-manager --upgrade --quiet\n",
    "- download required chromdriver and place it in the project path "
   ]
  },
  {
   "cell_type": "markdown",
   "metadata": {},
   "source": [
    "![](https://imgur.com/caHD7Dm.png)"
   ]
  },
  {
   "cell_type": "markdown",
   "metadata": {},
   "source": [
    "![](https://imgur.com/H2LfYlh.png)\n"
   ]
  },
  {
   "cell_type": "markdown",
   "metadata": {},
   "source": [
    "![](https://imgur.com/7jMFOcE.png)\n"
   ]
  },
  {
   "cell_type": "markdown",
   "metadata": {},
   "source": [
    "![](https://media.giphy.com/media/TwLrWWtF6zcDGk5BQf/giphy.gif)"
   ]
  },
  {
   "cell_type": "code",
   "execution_count": 2,
   "metadata": {},
   "outputs": [],
   "source": [
    "import jovian"
   ]
  },
  {
   "cell_type": "code",
   "execution_count": 3,
   "metadata": {},
   "outputs": [
    {
     "data": {
      "application/javascript": [
       "window.require && require([\"base/js/namespace\"],function(Jupyter){Jupyter.notebook.save_checkpoint()})"
      ],
      "text/plain": [
       "<IPython.core.display.Javascript object>"
      ]
     },
     "metadata": {},
     "output_type": "display_data"
    },
    {
     "name": "stdout",
     "output_type": "stream",
     "text": [
      "[jovian] Updating notebook \"vinodvidhole/selenium-yahoo-finance-scraper\" on https://jovian.ai/\u001b[0m\n",
      "[jovian] Committed successfully! https://jovian.ai/vinodvidhole/selenium-yahoo-finance-scraper\u001b[0m\n"
     ]
    },
    {
     "data": {
      "text/plain": [
       "'https://jovian.ai/vinodvidhole/selenium-yahoo-finance-scraper'"
      ]
     },
     "execution_count": 3,
     "metadata": {},
     "output_type": "execute_result"
    }
   ],
   "source": [
    "# Execute this to save new versions of the notebook\n",
    "jovian.commit(project=\"selenium-yahoo-finance-scraper\")"
   ]
  },
  {
   "cell_type": "code",
   "execution_count": 4,
   "metadata": {},
   "outputs": [],
   "source": [
    "!pip install webdriver-manager --upgrade --quiet"
   ]
  },
  {
   "cell_type": "code",
   "execution_count": 5,
   "metadata": {},
   "outputs": [],
   "source": [
    "from selenium import webdriver\n",
    "from selenium.webdriver.chrome.options import Options\n",
    "from selenium.webdriver.common.by import By\n",
    "from selenium.webdriver.chrome.service import Service\n",
    "from webdriver_manager.chrome import ChromeDriverManager\n",
    "import pandas as pd "
   ]
  },
  {
   "cell_type": "code",
   "execution_count": 6,
   "metadata": {},
   "outputs": [],
   "source": [
    "def get_driver():\n",
    "    chrome_options = Options()\n",
    "    chrome_options.add_argument('--no-sandbox')\n",
    "    chrome_options.add_argument('--disable-dev-shm-usage')\n",
    "    chrome_options.add_argument('--headless')\n",
    "    serv = Service(ChromeDriverManager().install())\n",
    "    #driver = webdriver.Chrome(service=serv)\n",
    "    driver = webdriver.Chrome(options=chrome_options, service=serv)\n",
    "    driver.get(YAHOO_FINANCE_URL)\n",
    "    return driver"
   ]
  },
  {
   "cell_type": "code",
   "execution_count": 7,
   "metadata": {},
   "outputs": [],
   "source": [
    "def get_table_rows(driver):\n",
    "    TABLE_CLASS = \"W(100%)\"  \n",
    "    tablerows = len(driver.find_elements(By.XPATH, value=\"//table[@class= '{}']/tbody/tr\".format(TABLE_CLASS)))\n",
    "    return tablerows"
   ]
  },
  {
   "cell_type": "code",
   "execution_count": 8,
   "metadata": {},
   "outputs": [],
   "source": [
    "def get_table_header(driver):\n",
    "    header = driver.find_elements(By.TAG_NAME, value= 'th')\n",
    "    header_list = [item.text for index, item in enumerate(header) if index < 10]\n",
    "    return header_list"
   ]
  },
  {
   "cell_type": "code",
   "execution_count": null,
   "metadata": {},
   "outputs": [],
   "source": []
  },
  {
   "cell_type": "code",
   "execution_count": 9,
   "metadata": {},
   "outputs": [
    {
     "data": {
      "text/plain": [
       "'\\nrownum = 1\\ncolnum = 3\\ndriver.find_element(By.XPATH, value=\"//tr[{}]/td[{}]\".format(rownum,colnum)).text\\n'"
      ]
     },
     "execution_count": 9,
     "metadata": {},
     "output_type": "execute_result"
    }
   ],
   "source": [
    "'''\n",
    "rownum = 1\n",
    "colnum = 3\n",
    "driver.find_element(By.XPATH, value=\"//tr[{}]/td[{}]\".format(rownum,colnum)).text\n",
    "'''"
   ]
  },
  {
   "cell_type": "code",
   "execution_count": 10,
   "metadata": {},
   "outputs": [],
   "source": [
    "def parse_table_rows(rownum, driver, header_list):\n",
    "    row_dictionary = {}\n",
    "    #\"//tr[{}]/td[{}]\"\n",
    "    for index , item in enumerate(header_list):\n",
    "        column_xpath = '//*[@id=\"scr-res-table\"]/div[1]/table/tbody/tr[{}]/td[{}]'.format(rownum, index+1)\n",
    "        #row_dictionary[item] = driver.find_element(By.XPATH, value='//*[@id=\"scr-res-table\"]/div[1]/table/tbody/tr[{}]/td[{}]'.format(rownum, index+1)).text\n",
    "        column_element = find_element_wait(driver, 1, (By.XPATH, column_xpath))\n",
    "        row_dictionary[item] = column_element.text\n",
    "    return row_dictionary"
   ]
  },
  {
   "cell_type": "code",
   "execution_count": 11,
   "metadata": {},
   "outputs": [],
   "source": [
    "#(By.XPATH, next_button_xpath)\n",
    "def find_element_wait(driver, wait_timer, locator):\n",
    "    element = WebDriverWait(driver, wait_timer).until(EC.presence_of_element_located(locator))\n",
    "    return element "
   ]
  },
  {
   "cell_type": "code",
   "execution_count": 12,
   "metadata": {},
   "outputs": [
    {
     "name": "stderr",
     "output_type": "stream",
     "text": [
      "\n",
      "\n",
      "====== WebDriver manager ======\n",
      "Current google-chrome version is 98.0.4758\n",
      "Get LATEST chromedriver version for 98.0.4758 google-chrome\n"
     ]
    },
    {
     "name": "stdout",
     "output_type": "stream",
     "text": [
      "Creating driver\n"
     ]
    },
    {
     "name": "stderr",
     "output_type": "stream",
     "text": [
      "Driver [/Users/vinoddhole/.wdm/drivers/chromedriver/mac64/98.0.4758.102/chromedriver] found in cache\n"
     ]
    }
   ],
   "source": [
    "YAHOO_FINANCE_URL = 'https://finance.yahoo.com/cryptocurrencies'#'https://finance.yahoo.com/trending-tickers'\n",
    "\n",
    "print('Creating driver')\n",
    "driver = get_driver()"
   ]
  },
  {
   "cell_type": "code",
   "execution_count": 13,
   "metadata": {},
   "outputs": [],
   "source": [
    "header_list = get_table_header(driver)"
   ]
  },
  {
   "cell_type": "code",
   "execution_count": 14,
   "metadata": {},
   "outputs": [],
   "source": [
    "from selenium.webdriver.support.ui import WebDriverWait\n",
    "from selenium.webdriver.support import expected_conditions as EC"
   ]
  },
  {
   "cell_type": "code",
   "execution_count": 15,
   "metadata": {},
   "outputs": [
    {
     "name": "stdout",
     "output_type": "stream",
     "text": [
      "Found 25 rows on Page : 1\n",
      "Parsing Page : 1\n",
      "Total rows scraped : 25\n",
      "Clicking Next Button\n",
      "Found 25 rows on Page : 2\n",
      "Parsing Page : 2\n",
      "Total rows scraped : 50\n",
      "Clicking Next Button\n",
      "Found 25 rows on Page : 3\n",
      "Parsing Page : 3\n",
      "Total rows scraped : 75\n",
      "Clicking Next Button\n",
      "Found 25 rows on Page : 4\n",
      "Parsing Page : 4\n",
      "Total rows scraped : 100\n",
      "Clicking Next Button\n",
      "Found 25 rows on Page : 5\n",
      "Parsing Page : 5\n",
      "Total rows scraped : 125\n",
      "Done Parsing..\n"
     ]
    }
   ],
   "source": [
    "TOTAL_CRYPTO = 100\n",
    "table_data = []\n",
    "next_button_xpath = '//*[@id=\"scr-res-table\"]/div[2]/button[3]'\n",
    "table_rows = get_table_rows(driver)\n",
    "page_num = 1\n",
    "is_scraping = True\n",
    "\n",
    "while is_scraping:\n",
    "    table_rows = get_table_rows(driver)\n",
    "    print('Found {} rows on Page : {}'.format(table_rows, page_num))\n",
    "    \n",
    "    print('Parsing Page : {}'.format(page_num))\n",
    "    table_data += [parse_table_rows(i, driver, header_list) for i in range (1, table_rows + 1)]\n",
    "    total_count = len(table_data)\n",
    "    print('Total rows scraped : {}'.format(total_count))\n",
    "    if total_count > TOTAL_CRYPTO:\n",
    "        print('Done Parsing..')\n",
    "        is_scraping = False\n",
    "    else:    \n",
    "        print('Clicking Next Button')\n",
    "        #element = WebDriverWait(driver, 10).until(EC.presence_of_element_located((By.XPATH, next_button_xpath)))\n",
    "        element = find_element_wait(driver, 10, (By.XPATH, next_button_xpath))\n",
    "        element.click() \n",
    "        page_num += 1"
   ]
  },
  {
   "cell_type": "code",
   "execution_count": 16,
   "metadata": {},
   "outputs": [
    {
     "data": {
      "text/plain": [
       "125"
      ]
     },
     "execution_count": 16,
     "metadata": {},
     "output_type": "execute_result"
    }
   ],
   "source": [
    "len(table_data)"
   ]
  },
  {
   "cell_type": "code",
   "execution_count": 17,
   "metadata": {},
   "outputs": [
    {
     "name": "stdout",
     "output_type": "stream",
     "text": [
      "Save the data to a CSV\n"
     ]
    }
   ],
   "source": [
    "print('Save the data to a CSV')\n",
    "table_df = pd.DataFrame(table_data)\n",
    "#print(table_df)\n",
    "table_df.to_csv('cryptocurrencies.csv', index=None)\n",
    "#### add timer "
   ]
  },
  {
   "cell_type": "code",
   "execution_count": 18,
   "metadata": {},
   "outputs": [
    {
     "data": {
      "text/html": [
       "<div>\n",
       "<style scoped>\n",
       "    .dataframe tbody tr th:only-of-type {\n",
       "        vertical-align: middle;\n",
       "    }\n",
       "\n",
       "    .dataframe tbody tr th {\n",
       "        vertical-align: top;\n",
       "    }\n",
       "\n",
       "    .dataframe thead th {\n",
       "        text-align: right;\n",
       "    }\n",
       "</style>\n",
       "<table border=\"1\" class=\"dataframe\">\n",
       "  <thead>\n",
       "    <tr style=\"text-align: right;\">\n",
       "      <th></th>\n",
       "      <th>Symbol</th>\n",
       "      <th>Name</th>\n",
       "      <th>Price (Intraday)</th>\n",
       "      <th>Change</th>\n",
       "      <th>% Change</th>\n",
       "      <th>Market Cap</th>\n",
       "      <th>Volume in Currency (Since 0:00 UTC)</th>\n",
       "      <th>Volume in Currency (24Hr)</th>\n",
       "      <th>Total Volume All Currencies (24Hr)</th>\n",
       "      <th>Circulating Supply</th>\n",
       "    </tr>\n",
       "  </thead>\n",
       "  <tbody>\n",
       "    <tr>\n",
       "      <th>0</th>\n",
       "      <td>BTC-USD</td>\n",
       "      <td>Bitcoin USD</td>\n",
       "      <td>43,454.28</td>\n",
       "      <td>-813.63</td>\n",
       "      <td>-1.84%</td>\n",
       "      <td>824.457B</td>\n",
       "      <td>27.905B</td>\n",
       "      <td>27.905B</td>\n",
       "      <td>27.905B</td>\n",
       "      <td>18.973M</td>\n",
       "    </tr>\n",
       "    <tr>\n",
       "      <th>1</th>\n",
       "      <td>ETH-USD</td>\n",
       "      <td>Ethereum USD</td>\n",
       "      <td>2,904.61</td>\n",
       "      <td>-95.07</td>\n",
       "      <td>-3.17%</td>\n",
       "      <td>347.979B</td>\n",
       "      <td>15.28B</td>\n",
       "      <td>15.28B</td>\n",
       "      <td>15.28B</td>\n",
       "      <td>119.802M</td>\n",
       "    </tr>\n",
       "    <tr>\n",
       "      <th>2</th>\n",
       "      <td>USDT-USD</td>\n",
       "      <td>Tether USD</td>\n",
       "      <td>1.0003</td>\n",
       "      <td>-0.0001</td>\n",
       "      <td>-0.01%</td>\n",
       "      <td>79.784B</td>\n",
       "      <td>64.919B</td>\n",
       "      <td>64.919B</td>\n",
       "      <td>64.919B</td>\n",
       "      <td>79.757B</td>\n",
       "    </tr>\n",
       "    <tr>\n",
       "      <th>3</th>\n",
       "      <td>BNB-USD</td>\n",
       "      <td>Binance Coin USD</td>\n",
       "      <td>406.13</td>\n",
       "      <td>-5.88</td>\n",
       "      <td>-1.43%</td>\n",
       "      <td>67.059B</td>\n",
       "      <td>1.865B</td>\n",
       "      <td>1.865B</td>\n",
       "      <td>1.865B</td>\n",
       "      <td>165.117M</td>\n",
       "    </tr>\n",
       "    <tr>\n",
       "      <th>4</th>\n",
       "      <td>USDC-USD</td>\n",
       "      <td>USD Coin USD</td>\n",
       "      <td>0.999648</td>\n",
       "      <td>+0.000331</td>\n",
       "      <td>+0.03%</td>\n",
       "      <td>53.438B</td>\n",
       "      <td>5.028B</td>\n",
       "      <td>5.028B</td>\n",
       "      <td>5.028B</td>\n",
       "      <td>53.457B</td>\n",
       "    </tr>\n",
       "    <tr>\n",
       "      <th>...</th>\n",
       "      <td>...</td>\n",
       "      <td>...</td>\n",
       "      <td>...</td>\n",
       "      <td>...</td>\n",
       "      <td>...</td>\n",
       "      <td>...</td>\n",
       "      <td>...</td>\n",
       "      <td>...</td>\n",
       "      <td>...</td>\n",
       "      <td>...</td>\n",
       "    </tr>\n",
       "    <tr>\n",
       "      <th>120</th>\n",
       "      <td>BNT-USD</td>\n",
       "      <td>Bancor USD</td>\n",
       "      <td>2.4399</td>\n",
       "      <td>-0.0284</td>\n",
       "      <td>-1.15%</td>\n",
       "      <td>637.247M</td>\n",
       "      <td>37.164M</td>\n",
       "      <td>37.164M</td>\n",
       "      <td>37.164M</td>\n",
       "      <td>261.181M</td>\n",
       "    </tr>\n",
       "    <tr>\n",
       "      <th>121</th>\n",
       "      <td>XDC-USD</td>\n",
       "      <td>XDC Network USD</td>\n",
       "      <td>0.051733</td>\n",
       "      <td>-0.001426</td>\n",
       "      <td>-2.68%</td>\n",
       "      <td>636.573M</td>\n",
       "      <td>9.459M</td>\n",
       "      <td>9.459M</td>\n",
       "      <td>9.459M</td>\n",
       "      <td>12.305B</td>\n",
       "    </tr>\n",
       "    <tr>\n",
       "      <th>122</th>\n",
       "      <td>TTT1-USD</td>\n",
       "      <td>The Transfer Token USD</td>\n",
       "      <td>6.0655</td>\n",
       "      <td>-0.2034</td>\n",
       "      <td>-3.24%</td>\n",
       "      <td>635.848M</td>\n",
       "      <td>490,267</td>\n",
       "      <td>490,267</td>\n",
       "      <td>490,267</td>\n",
       "      <td>104.83M</td>\n",
       "    </tr>\n",
       "    <tr>\n",
       "      <th>123</th>\n",
       "      <td>RVN-USD</td>\n",
       "      <td>Ravencoin USD</td>\n",
       "      <td>0.058675</td>\n",
       "      <td>-0.003412</td>\n",
       "      <td>-5.50%</td>\n",
       "      <td>614.525M</td>\n",
       "      <td>28.932M</td>\n",
       "      <td>28.932M</td>\n",
       "      <td>28.932M</td>\n",
       "      <td>10.473B</td>\n",
       "    </tr>\n",
       "    <tr>\n",
       "      <th>124</th>\n",
       "      <td>1INCH-USD</td>\n",
       "      <td>1inch Network USD</td>\n",
       "      <td>1.4764</td>\n",
       "      <td>-0.0416</td>\n",
       "      <td>-2.74%</td>\n",
       "      <td>613.85M</td>\n",
       "      <td>66.949M</td>\n",
       "      <td>66.949M</td>\n",
       "      <td>66.949M</td>\n",
       "      <td>415.762M</td>\n",
       "    </tr>\n",
       "  </tbody>\n",
       "</table>\n",
       "<p>125 rows × 10 columns</p>\n",
       "</div>"
      ],
      "text/plain": [
       "        Symbol                    Name Price (Intraday)     Change % Change  \\\n",
       "0      BTC-USD             Bitcoin USD        43,454.28    -813.63   -1.84%   \n",
       "1      ETH-USD            Ethereum USD         2,904.61     -95.07   -3.17%   \n",
       "2     USDT-USD              Tether USD           1.0003    -0.0001   -0.01%   \n",
       "3      BNB-USD        Binance Coin USD           406.13      -5.88   -1.43%   \n",
       "4     USDC-USD            USD Coin USD         0.999648  +0.000331   +0.03%   \n",
       "..         ...                     ...              ...        ...      ...   \n",
       "120    BNT-USD              Bancor USD           2.4399    -0.0284   -1.15%   \n",
       "121    XDC-USD         XDC Network USD         0.051733  -0.001426   -2.68%   \n",
       "122   TTT1-USD  The Transfer Token USD           6.0655    -0.2034   -3.24%   \n",
       "123    RVN-USD           Ravencoin USD         0.058675  -0.003412   -5.50%   \n",
       "124  1INCH-USD       1inch Network USD           1.4764    -0.0416   -2.74%   \n",
       "\n",
       "    Market Cap Volume in Currency (Since 0:00 UTC) Volume in Currency (24Hr)  \\\n",
       "0     824.457B                             27.905B                   27.905B   \n",
       "1     347.979B                              15.28B                    15.28B   \n",
       "2      79.784B                             64.919B                   64.919B   \n",
       "3      67.059B                              1.865B                    1.865B   \n",
       "4      53.438B                              5.028B                    5.028B   \n",
       "..         ...                                 ...                       ...   \n",
       "120   637.247M                             37.164M                   37.164M   \n",
       "121   636.573M                              9.459M                    9.459M   \n",
       "122   635.848M                             490,267                   490,267   \n",
       "123   614.525M                             28.932M                   28.932M   \n",
       "124    613.85M                             66.949M                   66.949M   \n",
       "\n",
       "    Total Volume All Currencies (24Hr) Circulating Supply  \n",
       "0                              27.905B            18.973M  \n",
       "1                               15.28B           119.802M  \n",
       "2                              64.919B            79.757B  \n",
       "3                               1.865B           165.117M  \n",
       "4                               5.028B            53.457B  \n",
       "..                                 ...                ...  \n",
       "120                            37.164M           261.181M  \n",
       "121                             9.459M            12.305B  \n",
       "122                            490,267            104.83M  \n",
       "123                            28.932M            10.473B  \n",
       "124                            66.949M           415.762M  \n",
       "\n",
       "[125 rows x 10 columns]"
      ]
     },
     "execution_count": 18,
     "metadata": {},
     "output_type": "execute_result"
    }
   ],
   "source": [
    "table_df"
   ]
  },
  {
   "cell_type": "code",
   "execution_count": null,
   "metadata": {},
   "outputs": [],
   "source": []
  },
  {
   "cell_type": "code",
   "execution_count": null,
   "metadata": {},
   "outputs": [
    {
     "data": {
      "application/javascript": [
       "window.require && require([\"base/js/namespace\"],function(Jupyter){Jupyter.notebook.save_checkpoint()})"
      ],
      "text/plain": [
       "<IPython.core.display.Javascript object>"
      ]
     },
     "metadata": {},
     "output_type": "display_data"
    }
   ],
   "source": [
    "jovian.commit(project=\"selenium-yahoo-finance-scraper\",git_commit=True)"
   ]
  },
  {
   "cell_type": "code",
   "execution_count": null,
   "metadata": {},
   "outputs": [],
   "source": []
  }
 ],
 "metadata": {
  "kernelspec": {
   "display_name": "Python 3 (ipykernel)",
   "language": "python",
   "name": "python3"
  },
  "language_info": {
   "codemirror_mode": {
    "name": "ipython",
    "version": 3
   },
   "file_extension": ".py",
   "mimetype": "text/x-python",
   "name": "python",
   "nbconvert_exporter": "python",
   "pygments_lexer": "ipython3",
   "version": "3.9.7"
  }
 },
 "nbformat": 4,
 "nbformat_minor": 2
}
