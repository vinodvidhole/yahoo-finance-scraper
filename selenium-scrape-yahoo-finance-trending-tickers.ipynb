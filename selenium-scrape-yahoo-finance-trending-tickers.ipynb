{
 "cells": [
  {
   "cell_type": "markdown",
   "metadata": {},
   "source": [
    "# selenium-yahoo-finance-scraper\n",
    "\n",
    "Use the \"Run\" button to execute the code."
   ]
  },
  {
   "cell_type": "code",
   "execution_count": null,
   "metadata": {},
   "outputs": [],
   "source": [
    "!pip install jovian --upgrade --quiet\n",
    "!pip install selenium --upgrade --quiet"
   ]
  },
  {
   "cell_type": "markdown",
   "metadata": {},
   "source": [
    "##prereq\n",
    "\n",
    "- !pip install webdriver-manager --upgrade --quiet\n",
    "- download required chromdriver and place it in the project path "
   ]
  },
  {
   "cell_type": "code",
   "execution_count": 4,
   "metadata": {},
   "outputs": [],
   "source": [
    "import jovian"
   ]
  },
  {
   "cell_type": "code",
   "execution_count": 14,
   "metadata": {},
   "outputs": [
    {
     "data": {
      "application/javascript": [
       "window.require && require([\"base/js/namespace\"],function(Jupyter){Jupyter.notebook.save_checkpoint()})"
      ],
      "text/plain": [
       "<IPython.core.display.Javascript object>"
      ]
     },
     "metadata": {},
     "output_type": "display_data"
    },
    {
     "name": "stdout",
     "output_type": "stream",
     "text": [
      "[jovian] Updating notebook \"vinodvidhole/selenium-yahoo-finance-scraper\" on https://jovian.ai/\u001b[0m\n",
      "[jovian] Committed successfully! https://jovian.ai/vinodvidhole/selenium-yahoo-finance-scraper\u001b[0m\n"
     ]
    },
    {
     "data": {
      "text/plain": [
       "'https://jovian.ai/vinodvidhole/selenium-yahoo-finance-scraper'"
      ]
     },
     "execution_count": 14,
     "metadata": {},
     "output_type": "execute_result"
    }
   ],
   "source": [
    "# Execute this to save new versions of the notebook\n",
    "jovian.commit(project=\"selenium-yahoo-finance-scraper\")"
   ]
  },
  {
   "cell_type": "code",
   "execution_count": 7,
   "metadata": {},
   "outputs": [],
   "source": [
    "!pip install webdriver-manager --upgrade --quiet"
   ]
  },
  {
   "cell_type": "code",
   "execution_count": 8,
   "metadata": {},
   "outputs": [],
   "source": [
    "from selenium import webdriver\n",
    "from selenium.webdriver.chrome.options import Options\n",
    "from selenium.webdriver.common.by import By\n",
    "from selenium.webdriver.chrome.service import Service\n",
    "from webdriver_manager.chrome import ChromeDriverManager\n",
    "import pandas as pd "
   ]
  },
  {
   "cell_type": "code",
   "execution_count": 9,
   "metadata": {},
   "outputs": [],
   "source": [
    "def get_driver():\n",
    "    chrome_options = Options()\n",
    "    chrome_options.add_argument('--no-sandbox')\n",
    "    chrome_options.add_argument('--disable-dev-shm-usage')\n",
    "    chrome_options.add_argument('--headless')\n",
    "    serv = Service(ChromeDriverManager().install())\n",
    "    #driver = webdriver.Chrome(service=serv)\n",
    "    driver = webdriver.Chrome(options=chrome_options, service=serv)\n",
    "    return driver"
   ]
  },
  {
   "cell_type": "code",
   "execution_count": 11,
   "metadata": {},
   "outputs": [],
   "source": [
    "def get_tickers(driver):\n",
    "    TABLE_CLASS = \"W(100%)\"  \n",
    "    driver.get(YAHOO_FINANCE_URL)\n",
    "    tablerows = len(driver.find_elements(By.XPATH, value=\"//table[@class= '{}']/tbody/tr\".format(TABLE_CLASS)))\n",
    "    return tablerows"
   ]
  },
  {
   "cell_type": "code",
   "execution_count": 12,
   "metadata": {},
   "outputs": [],
   "source": [
    "def parse_ticker(rownum, table_driver):\n",
    "    Symbol = table_driver.find_element(By.XPATH, value=\"//tr[{}]/td[1]\".format(rownum)).text\n",
    "    Name = table_driver.find_element(By.XPATH, value=\"//tr[{}]/td[2]\".format(rownum)).text\n",
    "    LastPrice = table_driver.find_element(By.XPATH, value=\"//tr[{}]/td[3]\".format(rownum)).text\n",
    "    MarketTime = table_driver.find_element(By.XPATH, value=\"//tr[{}]/td[4]\".format(rownum)).text\n",
    "    Change = table_driver.find_element(By.XPATH, value=\"//tr[{}]/td[5]\".format(rownum)).text\n",
    "    PercentChange = table_driver.find_element(By.XPATH, value=\"//tr[{}]/td[6]\".format(rownum)).text\t\n",
    "    Volume = table_driver.find_element(By.XPATH, value=\"//tr[{}]/td[7]\".format(rownum)).text\n",
    "    MarketCap = table_driver.find_element(By.XPATH, value=\"//tr[{}]/td[8]\".format(rownum)).text\t\n",
    "\n",
    "    return {\n",
    "    'Symbol': Symbol,\n",
    "    'Name': Name,\n",
    "    'LastPrice': LastPrice,\n",
    "    'MarketTime': MarketTime,\n",
    "    'Change': Change,\n",
    "    'PercentChange': PercentChange,\n",
    "    'Volume': Volume,\n",
    "    'MarketCap': MarketCap\n",
    "    }"
   ]
  },
  {
   "cell_type": "code",
   "execution_count": 13,
   "metadata": {},
   "outputs": [
    {
     "name": "stderr",
     "output_type": "stream",
     "text": [
      "\n",
      "\n",
      "====== WebDriver manager ======\n",
      "Current google-chrome version is 98.0.4758\n",
      "Get LATEST chromedriver version for 98.0.4758 google-chrome\n"
     ]
    },
    {
     "name": "stdout",
     "output_type": "stream",
     "text": [
      "Creating driver\n"
     ]
    },
    {
     "name": "stderr",
     "output_type": "stream",
     "text": [
      "Driver [/Users/vinoddhole/.wdm/drivers/chromedriver/mac64/98.0.4758.102/chromedriver] found in cache\n"
     ]
    },
    {
     "name": "stdout",
     "output_type": "stream",
     "text": [
      "Fetching the page\n",
      "Found 30 Tickers\n",
      "Parsing Trending tickers\n",
      "Save the data to a CSV\n"
     ]
    }
   ],
   "source": [
    "YAHOO_FINANCE_URL = 'https://finance.yahoo.com/trending-tickers'\n",
    "\n",
    "print('Creating driver')\n",
    "driver = get_driver()\n",
    "\n",
    "print('Fetching the page')\n",
    "table_rows = get_tickers(driver)\n",
    "\n",
    "print(f'Found {table_rows} Tickers')\n",
    "\n",
    "print('Parsing Trending tickers')\n",
    "ticker_data = [parse_ticker(i, driver) for i in range (1, table_rows + 1)]\n",
    "\n",
    "print('Save the data to a CSV')\n",
    "videos_df = pd.DataFrame(ticker_data)\n",
    "#print(videos_df)\n",
    "videos_df.to_csv('trending-tickers.csv', index=None)\n"
   ]
  },
  {
   "cell_type": "code",
   "execution_count": null,
   "metadata": {},
   "outputs": [],
   "source": []
  },
  {
   "cell_type": "code",
   "execution_count": 15,
   "metadata": {},
   "outputs": [
    {
     "data": {
      "application/javascript": [
       "window.require && require([\"base/js/namespace\"],function(Jupyter){Jupyter.notebook.save_checkpoint()})"
      ],
      "text/plain": [
       "<IPython.core.display.Javascript object>"
      ]
     },
     "metadata": {},
     "output_type": "display_data"
    },
    {
     "name": "stdout",
     "output_type": "stream",
     "text": [
      "[jovian] Updating notebook \"vinodvidhole/selenium-yahoo-finance-scraper\" on https://jovian.ai/\u001b[0m\n",
      "[main 2319058] jovian commit vinodvidhole/selenium-yahoo-finance-scraper v26\n",
      " 4 files changed, 313 insertions(+), 252 deletions(-)\n",
      " create mode 100755 chromedriver\n",
      " rewrite selenium-scrape-yahoo-finance-trending-tickers.ipynb (74%)\n",
      " rewrite trending-tickers.csv (61%)\n",
      "/Users/vinoddhole/desktop/vinod/datascience/webscraping/yahoo-finance-scraper\n",
      "[jovian] Git repository identified. Performing git commit...\u001b[0m\n",
      "[jovian] Attaching records (metrics, hyperparameters, dataset etc.)\u001b[0m\n",
      "[jovian] Committed successfully! https://jovian.ai/vinodvidhole/selenium-yahoo-finance-scraper\u001b[0m\n"
     ]
    },
    {
     "data": {
      "text/plain": [
       "'https://jovian.ai/vinodvidhole/selenium-yahoo-finance-scraper'"
      ]
     },
     "execution_count": 15,
     "metadata": {},
     "output_type": "execute_result"
    }
   ],
   "source": [
    "jovian.commit(project=\"selenium-yahoo-finance-scraper\",git_commit=True)"
   ]
  },
  {
   "cell_type": "code",
   "execution_count": null,
   "metadata": {},
   "outputs": [],
   "source": []
  }
 ],
 "metadata": {
  "kernelspec": {
   "display_name": "Python 3 (ipykernel)",
   "language": "python",
   "name": "python3"
  },
  "language_info": {
   "codemirror_mode": {
    "name": "ipython",
    "version": 3
   },
   "file_extension": ".py",
   "mimetype": "text/x-python",
   "name": "python",
   "nbconvert_exporter": "python",
   "pygments_lexer": "ipython3",
   "version": "3.9.7"
  }
 },
 "nbformat": 4,
 "nbformat_minor": 2
}
