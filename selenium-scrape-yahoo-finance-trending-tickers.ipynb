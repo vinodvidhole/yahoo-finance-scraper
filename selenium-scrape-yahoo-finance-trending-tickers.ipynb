{
 "cells": [
  {
   "cell_type": "markdown",
   "metadata": {},
   "source": [
    "# selenium-yahoo-finance-scraper\n",
    "\n",
    "Use the \"Run\" button to execute the code."
   ]
  },
  {
   "cell_type": "markdown",
   "metadata": {},
   "source": []
  },
  {
   "cell_type": "code",
   "execution_count": 1,
   "metadata": {},
   "outputs": [],
   "source": [
    "!pip install jovian --upgrade --quiet\n",
    "!pip install selenium --upgrade --quiet"
   ]
  },
  {
   "cell_type": "markdown",
   "metadata": {},
   "source": [
    "##prereq\n",
    "\n",
    "- !pip install webdriver-manager --upgrade --quiet\n",
    "- download required chromdriver and place it in the project path "
   ]
  },
  {
   "cell_type": "markdown",
   "metadata": {},
   "source": [
    "![](https://imgur.com/caHD7Dm.png)"
   ]
  },
  {
   "cell_type": "markdown",
   "metadata": {},
   "source": [
    "![](https://imgur.com/H2LfYlh.png)\n"
   ]
  },
  {
   "cell_type": "markdown",
   "metadata": {},
   "source": [
    "![](https://imgur.com/7jMFOcE.png)\n"
   ]
  },
  {
   "cell_type": "markdown",
   "metadata": {},
   "source": [
    "![](https://media.giphy.com/media/TwLrWWtF6zcDGk5BQf/giphy.gif)"
   ]
  },
  {
   "cell_type": "code",
   "execution_count": 2,
   "metadata": {},
   "outputs": [],
   "source": [
    "import jovian"
   ]
  },
  {
   "cell_type": "code",
   "execution_count": 3,
   "metadata": {},
   "outputs": [
    {
     "data": {
      "application/javascript": [
       "window.require && require([\"base/js/namespace\"],function(Jupyter){Jupyter.notebook.save_checkpoint()})"
      ],
      "text/plain": [
       "<IPython.core.display.Javascript object>"
      ]
     },
     "metadata": {},
     "output_type": "display_data"
    },
    {
     "name": "stdout",
     "output_type": "stream",
     "text": [
      "[jovian] Updating notebook \"vinodvidhole/selenium-yahoo-finance-scraper\" on https://jovian.ai/\u001b[0m\n",
      "[jovian] Committed successfully! https://jovian.ai/vinodvidhole/selenium-yahoo-finance-scraper\u001b[0m\n"
     ]
    },
    {
     "data": {
      "text/plain": [
       "'https://jovian.ai/vinodvidhole/selenium-yahoo-finance-scraper'"
      ]
     },
     "execution_count": 3,
     "metadata": {},
     "output_type": "execute_result"
    }
   ],
   "source": [
    "# Execute this to save new versions of the notebook\n",
    "jovian.commit(project=\"selenium-yahoo-finance-scraper\")"
   ]
  },
  {
   "cell_type": "code",
   "execution_count": 4,
   "metadata": {},
   "outputs": [],
   "source": [
    "!pip install webdriver-manager --upgrade --quiet"
   ]
  },
  {
   "cell_type": "code",
   "execution_count": 5,
   "metadata": {},
   "outputs": [],
   "source": [
    "from selenium import webdriver\n",
    "from selenium.webdriver.chrome.options import Options\n",
    "from selenium.webdriver.common.by import By\n",
    "from selenium.webdriver.chrome.service import Service\n",
    "from webdriver_manager.chrome import ChromeDriverManager\n",
    "import pandas as pd "
   ]
  },
  {
   "cell_type": "code",
   "execution_count": 6,
   "metadata": {},
   "outputs": [],
   "source": [
    "def get_driver():\n",
    "    chrome_options = Options()\n",
    "    chrome_options.add_argument('--no-sandbox')\n",
    "    chrome_options.add_argument('--disable-dev-shm-usage')\n",
    "    chrome_options.add_argument('--headless')\n",
    "    serv = Service(ChromeDriverManager().install())\n",
    "    #driver = webdriver.Chrome(service=serv)\n",
    "    driver = webdriver.Chrome(options=chrome_options, service=serv)\n",
    "    driver.get(YAHOO_FINANCE_URL)\n",
    "    return driver"
   ]
  },
  {
   "cell_type": "code",
   "execution_count": 7,
   "metadata": {},
   "outputs": [],
   "source": [
    "def get_table_rows(driver):\n",
    "    TABLE_CLASS = \"W(100%)\"  \n",
    "    tablerows = len(driver.find_elements(By.XPATH, value=\"//table[@class= '{}']/tbody/tr\".format(TABLE_CLASS)))\n",
    "    return tablerows"
   ]
  },
  {
   "cell_type": "code",
   "execution_count": 8,
   "metadata": {},
   "outputs": [],
   "source": [
    "def get_table_header(driver):\n",
    "    header = driver.find_elements(By.TAG_NAME, value= 'th')\n",
    "    header_list = [item.text for index, item in enumerate(header) if index < 10]\n",
    "    return header_list"
   ]
  },
  {
   "cell_type": "code",
   "execution_count": null,
   "metadata": {},
   "outputs": [],
   "source": []
  },
  {
   "cell_type": "code",
   "execution_count": 9,
   "metadata": {},
   "outputs": [
    {
     "data": {
      "text/plain": [
       "'\\nrownum = 1\\ncolnum = 3\\ndriver.find_element(By.XPATH, value=\"//tr[{}]/td[{}]\".format(rownum,colnum)).text\\n'"
      ]
     },
     "execution_count": 9,
     "metadata": {},
     "output_type": "execute_result"
    }
   ],
   "source": [
    "'''\n",
    "rownum = 1\n",
    "colnum = 3\n",
    "driver.find_element(By.XPATH, value=\"//tr[{}]/td[{}]\".format(rownum,colnum)).text\n",
    "'''"
   ]
  },
  {
   "cell_type": "code",
   "execution_count": 10,
   "metadata": {},
   "outputs": [],
   "source": [
    "import time"
   ]
  },
  {
   "cell_type": "code",
   "execution_count": 11,
   "metadata": {},
   "outputs": [],
   "source": [
    "def parse_table_rows(rownum, driver, header_list):\n",
    "    row_dictionary = {}\n",
    "    #\"//tr[{}]/td[{}]\"\n",
    "    time.sleep(1/3)\n",
    "    for index , item in enumerate(header_list):\n",
    "        column_xpath = '//*[@id=\"scr-res-table\"]/div[1]/table/tbody/tr[{}]/td[{}]'.format(rownum, index+1)\n",
    "        #column_element = find_element_wait(driver, 1, (By.XPATH, column_xpath))\n",
    "        #row_dictionary[item] = column_element.text\n",
    "        row_dictionary[item] = driver.find_element(By.XPATH, value=column_xpath).text\n",
    "    return row_dictionary"
   ]
  },
  {
   "cell_type": "code",
   "execution_count": 12,
   "metadata": {},
   "outputs": [],
   "source": [
    "#(By.XPATH, next_button_xpath)\n",
    "def find_element_wait(driver, wait_timer, locator):\n",
    "    element = WebDriverWait(driver, wait_timer).until(EC.presence_of_element_located(locator))\n",
    "    return element "
   ]
  },
  {
   "cell_type": "code",
   "execution_count": 13,
   "metadata": {},
   "outputs": [
    {
     "name": "stderr",
     "output_type": "stream",
     "text": [
      "\n",
      "\n",
      "====== WebDriver manager ======\n",
      "Current google-chrome version is 98.0.4758\n",
      "Get LATEST chromedriver version for 98.0.4758 google-chrome\n"
     ]
    },
    {
     "name": "stdout",
     "output_type": "stream",
     "text": [
      "Creating driver\n"
     ]
    },
    {
     "name": "stderr",
     "output_type": "stream",
     "text": [
      "Driver [/Users/vinoddhole/.wdm/drivers/chromedriver/mac64/98.0.4758.102/chromedriver] found in cache\n"
     ]
    }
   ],
   "source": [
    "YAHOO_FINANCE_URL = 'https://finance.yahoo.com/cryptocurrencies'#'https://finance.yahoo.com/trending-tickers'\n",
    "\n",
    "print('Creating driver')\n",
    "driver = get_driver()"
   ]
  },
  {
   "cell_type": "code",
   "execution_count": 14,
   "metadata": {},
   "outputs": [],
   "source": [
    "header_list = get_table_header(driver)"
   ]
  },
  {
   "cell_type": "code",
   "execution_count": 15,
   "metadata": {},
   "outputs": [],
   "source": [
    "from selenium.webdriver.support.ui import WebDriverWait\n",
    "from selenium.webdriver.support import expected_conditions as EC"
   ]
  },
  {
   "cell_type": "code",
   "execution_count": 16,
   "metadata": {},
   "outputs": [
    {
     "name": "stdout",
     "output_type": "stream",
     "text": [
      "Found 25 rows on Page : 1\n",
      "Parsing Page : 1\n",
      "Total rows scraped : 25\n",
      "Clicking Next Button\n",
      "Found 25 rows on Page : 2\n",
      "Parsing Page : 2\n",
      "Total rows scraped : 50\n",
      "Clicking Next Button\n",
      "Found 25 rows on Page : 3\n",
      "Parsing Page : 3\n",
      "Total rows scraped : 75\n",
      "Clicking Next Button\n",
      "Found 25 rows on Page : 4\n",
      "Parsing Page : 4\n",
      "Total rows scraped : 100\n",
      "Done Parsing..\n"
     ]
    }
   ],
   "source": [
    "TOTAL_CRYPTO = 100\n",
    "table_data = []\n",
    "next_button_xpath = '//*[@id=\"scr-res-table\"]/div[2]/button[3]'\n",
    "table_rows = get_table_rows(driver)\n",
    "page_num = 1\n",
    "is_scraping = True\n",
    "\n",
    "while is_scraping:\n",
    "    table_rows = get_table_rows(driver)\n",
    "    print('Found {} rows on Page : {}'.format(table_rows, page_num))\n",
    "    \n",
    "    print('Parsing Page : {}'.format(page_num))\n",
    "    table_data += [parse_table_rows(i, driver, header_list) for i in range (1, table_rows + 1)]\n",
    "    total_count = len(table_data)\n",
    "    print('Total rows scraped : {}'.format(total_count))\n",
    "    if total_count >= TOTAL_CRYPTO:\n",
    "        print('Done Parsing..')\n",
    "        is_scraping = False\n",
    "    else:    \n",
    "        print('Clicking Next Button')\n",
    "        #element = WebDriverWait(driver, 10).until(EC.presence_of_element_located((By.XPATH, next_button_xpath)))\n",
    "        element = find_element_wait(driver, 10, (By.XPATH, next_button_xpath))\n",
    "        element.click() \n",
    "        page_num += 1"
   ]
  },
  {
   "cell_type": "code",
   "execution_count": 17,
   "metadata": {},
   "outputs": [
    {
     "data": {
      "text/plain": [
       "100"
      ]
     },
     "execution_count": 17,
     "metadata": {},
     "output_type": "execute_result"
    }
   ],
   "source": [
    "len(table_data)"
   ]
  },
  {
   "cell_type": "code",
   "execution_count": 18,
   "metadata": {},
   "outputs": [
    {
     "name": "stdout",
     "output_type": "stream",
     "text": [
      "Save the data to a CSV\n"
     ]
    }
   ],
   "source": [
    "print('Save the data to a CSV')\n",
    "table_df = pd.DataFrame(table_data)\n",
    "#print(table_df)\n",
    "table_df.to_csv('cryptocurrencies.csv', index=None)\n",
    "#### add timer "
   ]
  },
  {
   "cell_type": "code",
   "execution_count": 19,
   "metadata": {},
   "outputs": [
    {
     "data": {
      "text/html": [
       "<div>\n",
       "<style scoped>\n",
       "    .dataframe tbody tr th:only-of-type {\n",
       "        vertical-align: middle;\n",
       "    }\n",
       "\n",
       "    .dataframe tbody tr th {\n",
       "        vertical-align: top;\n",
       "    }\n",
       "\n",
       "    .dataframe thead th {\n",
       "        text-align: right;\n",
       "    }\n",
       "</style>\n",
       "<table border=\"1\" class=\"dataframe\">\n",
       "  <thead>\n",
       "    <tr style=\"text-align: right;\">\n",
       "      <th></th>\n",
       "      <th>Symbol</th>\n",
       "      <th>Name</th>\n",
       "      <th>Price (Intraday)</th>\n",
       "      <th>Change</th>\n",
       "      <th>% Change</th>\n",
       "      <th>Market Cap</th>\n",
       "      <th>Volume in Currency (Since 0:00 UTC)</th>\n",
       "      <th>Volume in Currency (24Hr)</th>\n",
       "      <th>Total Volume All Currencies (24Hr)</th>\n",
       "      <th>Circulating Supply</th>\n",
       "    </tr>\n",
       "  </thead>\n",
       "  <tbody>\n",
       "    <tr>\n",
       "      <th>0</th>\n",
       "      <td>BTC-USD</td>\n",
       "      <td>Bitcoin USD</td>\n",
       "      <td>43,478.97</td>\n",
       "      <td>-774.10</td>\n",
       "      <td>-1.75%</td>\n",
       "      <td>824.926B</td>\n",
       "      <td>27.894B</td>\n",
       "      <td>27.894B</td>\n",
       "      <td>27.894B</td>\n",
       "      <td>18.973M</td>\n",
       "    </tr>\n",
       "    <tr>\n",
       "      <th>1</th>\n",
       "      <td>ETH-USD</td>\n",
       "      <td>Ethereum USD</td>\n",
       "      <td>2,909.65</td>\n",
       "      <td>-87.98</td>\n",
       "      <td>-2.94%</td>\n",
       "      <td>348.583B</td>\n",
       "      <td>15.298B</td>\n",
       "      <td>15.298B</td>\n",
       "      <td>15.298B</td>\n",
       "      <td>119.802M</td>\n",
       "    </tr>\n",
       "    <tr>\n",
       "      <th>2</th>\n",
       "      <td>USDT-USD</td>\n",
       "      <td>Tether USD</td>\n",
       "      <td>1.0005</td>\n",
       "      <td>+0.0000</td>\n",
       "      <td>+0.00%</td>\n",
       "      <td>79.796B</td>\n",
       "      <td>64.828B</td>\n",
       "      <td>64.828B</td>\n",
       "      <td>64.828B</td>\n",
       "      <td>79.757B</td>\n",
       "    </tr>\n",
       "    <tr>\n",
       "      <th>3</th>\n",
       "      <td>BNB-USD</td>\n",
       "      <td>Binance Coin USD</td>\n",
       "      <td>407.10</td>\n",
       "      <td>-4.25</td>\n",
       "      <td>-1.03%</td>\n",
       "      <td>67.218B</td>\n",
       "      <td>1.86B</td>\n",
       "      <td>1.86B</td>\n",
       "      <td>1.86B</td>\n",
       "      <td>165.117M</td>\n",
       "    </tr>\n",
       "    <tr>\n",
       "      <th>4</th>\n",
       "      <td>USDC-USD</td>\n",
       "      <td>USD Coin USD</td>\n",
       "      <td>0.999653</td>\n",
       "      <td>+0.000227</td>\n",
       "      <td>+0.02%</td>\n",
       "      <td>53.438B</td>\n",
       "      <td>5.022B</td>\n",
       "      <td>5.022B</td>\n",
       "      <td>5.022B</td>\n",
       "      <td>53.457B</td>\n",
       "    </tr>\n",
       "    <tr>\n",
       "      <th>...</th>\n",
       "      <td>...</td>\n",
       "      <td>...</td>\n",
       "      <td>...</td>\n",
       "      <td>...</td>\n",
       "      <td>...</td>\n",
       "      <td>...</td>\n",
       "      <td>...</td>\n",
       "      <td>...</td>\n",
       "      <td>...</td>\n",
       "      <td>...</td>\n",
       "    </tr>\n",
       "    <tr>\n",
       "      <th>95</th>\n",
       "      <td>ROSE-USD</td>\n",
       "      <td>Oasis Network USD</td>\n",
       "      <td>0.264409</td>\n",
       "      <td>+0.001008</td>\n",
       "      <td>+0.38%</td>\n",
       "      <td>923.586M</td>\n",
       "      <td>225.536M</td>\n",
       "      <td>225.536M</td>\n",
       "      <td>225.536M</td>\n",
       "      <td>3.493B</td>\n",
       "    </tr>\n",
       "    <tr>\n",
       "      <th>96</th>\n",
       "      <td>TFUEL-USD</td>\n",
       "      <td>Theta Fuel USD</td>\n",
       "      <td>0.165681</td>\n",
       "      <td>-0.015997</td>\n",
       "      <td>-8.80%</td>\n",
       "      <td>878.31M</td>\n",
       "      <td>77.917M</td>\n",
       "      <td>77.917M</td>\n",
       "      <td>77.917M</td>\n",
       "      <td>5.301B</td>\n",
       "    </tr>\n",
       "    <tr>\n",
       "      <th>97</th>\n",
       "      <td>SAFEMOON-USD</td>\n",
       "      <td>SafeMoon USD</td>\n",
       "      <td>0.00000149</td>\n",
       "      <td>+0.00000017</td>\n",
       "      <td>+12.59%</td>\n",
       "      <td>869.775M</td>\n",
       "      <td>60,293</td>\n",
       "      <td>60,293</td>\n",
       "      <td>60,293</td>\n",
       "      <td>585.536T</td>\n",
       "    </tr>\n",
       "    <tr>\n",
       "      <th>98</th>\n",
       "      <td>DCR-USD</td>\n",
       "      <td>Decred USD</td>\n",
       "      <td>61.72</td>\n",
       "      <td>-0.96</td>\n",
       "      <td>-1.53%</td>\n",
       "      <td>852.528M</td>\n",
       "      <td>7.484M</td>\n",
       "      <td>7.484M</td>\n",
       "      <td>7.484M</td>\n",
       "      <td>13.813M</td>\n",
       "    </tr>\n",
       "    <tr>\n",
       "      <th>99</th>\n",
       "      <td>SCRT-USD</td>\n",
       "      <td>Secret USD</td>\n",
       "      <td>5.0474</td>\n",
       "      <td>-0.2032</td>\n",
       "      <td>-3.87%</td>\n",
       "      <td>824.219M</td>\n",
       "      <td>35.338M</td>\n",
       "      <td>35.338M</td>\n",
       "      <td>35.338M</td>\n",
       "      <td>163.296M</td>\n",
       "    </tr>\n",
       "  </tbody>\n",
       "</table>\n",
       "<p>100 rows × 10 columns</p>\n",
       "</div>"
      ],
      "text/plain": [
       "          Symbol               Name Price (Intraday)       Change % Change  \\\n",
       "0        BTC-USD        Bitcoin USD        43,478.97      -774.10   -1.75%   \n",
       "1        ETH-USD       Ethereum USD         2,909.65       -87.98   -2.94%   \n",
       "2       USDT-USD         Tether USD           1.0005      +0.0000   +0.00%   \n",
       "3        BNB-USD   Binance Coin USD           407.10        -4.25   -1.03%   \n",
       "4       USDC-USD       USD Coin USD         0.999653    +0.000227   +0.02%   \n",
       "..           ...                ...              ...          ...      ...   \n",
       "95      ROSE-USD  Oasis Network USD         0.264409    +0.001008   +0.38%   \n",
       "96     TFUEL-USD     Theta Fuel USD         0.165681    -0.015997   -8.80%   \n",
       "97  SAFEMOON-USD       SafeMoon USD       0.00000149  +0.00000017  +12.59%   \n",
       "98       DCR-USD         Decred USD            61.72        -0.96   -1.53%   \n",
       "99      SCRT-USD         Secret USD           5.0474      -0.2032   -3.87%   \n",
       "\n",
       "   Market Cap Volume in Currency (Since 0:00 UTC) Volume in Currency (24Hr)  \\\n",
       "0    824.926B                             27.894B                   27.894B   \n",
       "1    348.583B                             15.298B                   15.298B   \n",
       "2     79.796B                             64.828B                   64.828B   \n",
       "3     67.218B                               1.86B                     1.86B   \n",
       "4     53.438B                              5.022B                    5.022B   \n",
       "..        ...                                 ...                       ...   \n",
       "95   923.586M                            225.536M                  225.536M   \n",
       "96    878.31M                             77.917M                   77.917M   \n",
       "97   869.775M                              60,293                    60,293   \n",
       "98   852.528M                              7.484M                    7.484M   \n",
       "99   824.219M                             35.338M                   35.338M   \n",
       "\n",
       "   Total Volume All Currencies (24Hr) Circulating Supply  \n",
       "0                             27.894B            18.973M  \n",
       "1                             15.298B           119.802M  \n",
       "2                             64.828B            79.757B  \n",
       "3                               1.86B           165.117M  \n",
       "4                              5.022B            53.457B  \n",
       "..                                ...                ...  \n",
       "95                           225.536M             3.493B  \n",
       "96                            77.917M             5.301B  \n",
       "97                             60,293           585.536T  \n",
       "98                             7.484M            13.813M  \n",
       "99                            35.338M           163.296M  \n",
       "\n",
       "[100 rows x 10 columns]"
      ]
     },
     "execution_count": 19,
     "metadata": {},
     "output_type": "execute_result"
    }
   ],
   "source": [
    "table_df"
   ]
  },
  {
   "cell_type": "code",
   "execution_count": null,
   "metadata": {},
   "outputs": [],
   "source": []
  },
  {
   "cell_type": "code",
   "execution_count": null,
   "metadata": {},
   "outputs": [
    {
     "data": {
      "application/javascript": [
       "window.require && require([\"base/js/namespace\"],function(Jupyter){Jupyter.notebook.save_checkpoint()})"
      ],
      "text/plain": [
       "<IPython.core.display.Javascript object>"
      ]
     },
     "metadata": {},
     "output_type": "display_data"
    }
   ],
   "source": [
    "jovian.commit(project=\"selenium-yahoo-finance-scraper\",git_commit=True)"
   ]
  },
  {
   "cell_type": "code",
   "execution_count": null,
   "metadata": {},
   "outputs": [],
   "source": []
  }
 ],
 "metadata": {
  "kernelspec": {
   "display_name": "Python 3 (ipykernel)",
   "language": "python",
   "name": "python3"
  },
  "language_info": {
   "codemirror_mode": {
    "name": "ipython",
    "version": 3
   },
   "file_extension": ".py",
   "mimetype": "text/x-python",
   "name": "python",
   "nbconvert_exporter": "python",
   "pygments_lexer": "ipython3",
   "version": "3.9.7"
  }
 },
 "nbformat": 4,
 "nbformat_minor": 2
}
