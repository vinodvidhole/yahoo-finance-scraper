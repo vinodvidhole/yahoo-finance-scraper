{
 "cells": [
  {
   "cell_type": "markdown",
   "metadata": {},
   "source": [
    "# selenium-yahoo-finance-scraper\n",
    "\n",
    "Use the \"Run\" button to execute the code."
   ]
  },
  {
   "cell_type": "markdown",
   "metadata": {},
   "source": []
  },
  {
   "cell_type": "code",
   "execution_count": 1,
   "metadata": {},
   "outputs": [],
   "source": [
    "!pip install jovian --upgrade --quiet\n",
    "!pip install selenium --upgrade --quiet"
   ]
  },
  {
   "cell_type": "markdown",
   "metadata": {},
   "source": [
    "##prereq\n",
    "\n",
    "- !pip install webdriver-manager --upgrade --quiet\n",
    "- download required chromdriver and place it in the project path "
   ]
  },
  {
   "cell_type": "markdown",
   "metadata": {},
   "source": [
    "![](https://imgur.com/caHD7Dm.png)"
   ]
  },
  {
   "cell_type": "markdown",
   "metadata": {},
   "source": [
    "![](https://imgur.com/H2LfYlh.png)\n"
   ]
  },
  {
   "cell_type": "markdown",
   "metadata": {},
   "source": [
    "![](https://imgur.com/7jMFOcE.png)\n"
   ]
  },
  {
   "cell_type": "markdown",
   "metadata": {},
   "source": [
    "![](https://media.giphy.com/media/TwLrWWtF6zcDGk5BQf/giphy.gif)"
   ]
  },
  {
   "cell_type": "code",
   "execution_count": 2,
   "metadata": {},
   "outputs": [],
   "source": [
    "import jovian"
   ]
  },
  {
   "cell_type": "code",
   "execution_count": 3,
   "metadata": {},
   "outputs": [
    {
     "data": {
      "application/javascript": [
       "window.require && require([\"base/js/namespace\"],function(Jupyter){Jupyter.notebook.save_checkpoint()})"
      ],
      "text/plain": [
       "<IPython.core.display.Javascript object>"
      ]
     },
     "metadata": {},
     "output_type": "display_data"
    },
    {
     "name": "stdout",
     "output_type": "stream",
     "text": [
      "[jovian] Updating notebook \"vinodvidhole/selenium-yahoo-finance-scraper\" on https://jovian.ai/\u001b[0m\n",
      "[jovian] Committed successfully! https://jovian.ai/vinodvidhole/selenium-yahoo-finance-scraper\u001b[0m\n"
     ]
    },
    {
     "data": {
      "text/plain": [
       "'https://jovian.ai/vinodvidhole/selenium-yahoo-finance-scraper'"
      ]
     },
     "execution_count": 3,
     "metadata": {},
     "output_type": "execute_result"
    }
   ],
   "source": [
    "# Execute this to save new versions of the notebook\n",
    "jovian.commit(project=\"selenium-yahoo-finance-scraper\")"
   ]
  },
  {
   "cell_type": "code",
   "execution_count": 4,
   "metadata": {},
   "outputs": [],
   "source": [
    "!pip install webdriver-manager --upgrade --quiet"
   ]
  },
  {
   "cell_type": "code",
   "execution_count": 5,
   "metadata": {},
   "outputs": [],
   "source": [
    "from selenium import webdriver\n",
    "from selenium.webdriver.chrome.options import Options\n",
    "from selenium.webdriver.common.by import By\n",
    "from selenium.webdriver.chrome.service import Service\n",
    "from webdriver_manager.chrome import ChromeDriverManager\n",
    "import pandas as pd "
   ]
  },
  {
   "cell_type": "code",
   "execution_count": 6,
   "metadata": {},
   "outputs": [],
   "source": [
    "def get_driver():\n",
    "    chrome_options = Options()\n",
    "    chrome_options.add_argument('--no-sandbox')\n",
    "    chrome_options.add_argument('--disable-dev-shm-usage')\n",
    "    chrome_options.add_argument('--headless')\n",
    "    serv = Service(ChromeDriverManager().install())\n",
    "    #driver = webdriver.Chrome(service=serv)\n",
    "    driver = webdriver.Chrome(options=chrome_options, service=serv)\n",
    "    driver.get(YAHOO_FINANCE_URL)\n",
    "    return driver"
   ]
  },
  {
   "cell_type": "code",
   "execution_count": 7,
   "metadata": {},
   "outputs": [],
   "source": [
    "def get_table_rows(driver):\n",
    "    TABLE_CLASS = \"W(100%)\"  \n",
    "    tablerows = len(driver.find_elements(By.XPATH, value=\"//table[@class= '{}']/tbody/tr\".format(TABLE_CLASS)))\n",
    "    return tablerows"
   ]
  },
  {
   "cell_type": "code",
   "execution_count": 8,
   "metadata": {},
   "outputs": [],
   "source": [
    "def get_table_header(driver):\n",
    "    header = driver.find_elements(By.TAG_NAME, value= 'th')\n",
    "    header_list = [item.text for index, item in enumerate(header) if index < 10]\n",
    "    return header_list"
   ]
  },
  {
   "cell_type": "code",
   "execution_count": null,
   "metadata": {},
   "outputs": [],
   "source": []
  },
  {
   "cell_type": "code",
   "execution_count": 9,
   "metadata": {},
   "outputs": [
    {
     "data": {
      "text/plain": [
       "'\\nrownum = 1\\ncolnum = 3\\ndriver.find_element(By.XPATH, value=\"//tr[{}]/td[{}]\".format(rownum,colnum)).text\\n'"
      ]
     },
     "execution_count": 9,
     "metadata": {},
     "output_type": "execute_result"
    }
   ],
   "source": [
    "'''\n",
    "rownum = 1\n",
    "colnum = 3\n",
    "driver.find_element(By.XPATH, value=\"//tr[{}]/td[{}]\".format(rownum,colnum)).text\n",
    "'''"
   ]
  },
  {
   "cell_type": "code",
   "execution_count": 10,
   "metadata": {},
   "outputs": [],
   "source": [
    "import time"
   ]
  },
  {
   "cell_type": "code",
   "execution_count": 11,
   "metadata": {},
   "outputs": [],
   "source": [
    "def parse_table_rows(rownum, driver, header_list):\n",
    "    row_dictionary = {}\n",
    "    #\"//tr[{}]/td[{}]\"\n",
    "    time.sleep(1/10)\n",
    "    for index , item in enumerate(header_list):\n",
    "        column_xpath = '//*[@id=\"scr-res-table\"]/div[1]/table/tbody/tr[{}]/td[{}]'.format(rownum, index+1)\n",
    "        #column_element = find_element_wait(driver, 1, (By.XPATH, column_xpath))\n",
    "        #row_dictionary[item] = column_element.text\n",
    "        row_dictionary[item] = driver.find_element(By.XPATH, value=column_xpath).text\n",
    "    return row_dictionary"
   ]
  },
  {
   "cell_type": "code",
   "execution_count": 12,
   "metadata": {},
   "outputs": [],
   "source": [
    "#(By.XPATH, next_button_xpath)\n",
    "def find_element_wait(driver, wait_timer, locator):\n",
    "    element = WebDriverWait(driver, wait_timer).until(EC.presence_of_element_located(locator))\n",
    "    return element "
   ]
  },
  {
   "cell_type": "code",
   "execution_count": 13,
   "metadata": {},
   "outputs": [
    {
     "name": "stderr",
     "output_type": "stream",
     "text": [
      "\n",
      "\n",
      "====== WebDriver manager ======\n",
      "Current google-chrome version is 98.0.4758\n",
      "Get LATEST chromedriver version for 98.0.4758 google-chrome\n"
     ]
    },
    {
     "name": "stdout",
     "output_type": "stream",
     "text": [
      "Creating driver\n"
     ]
    },
    {
     "name": "stderr",
     "output_type": "stream",
     "text": [
      "Driver [/Users/vinoddhole/.wdm/drivers/chromedriver/mac64/98.0.4758.102/chromedriver] found in cache\n"
     ]
    }
   ],
   "source": [
    "YAHOO_FINANCE_URL = 'https://finance.yahoo.com/cryptocurrencies'#'https://finance.yahoo.com/trending-tickers'\n",
    "\n",
    "print('Creating driver')\n",
    "driver = get_driver()"
   ]
  },
  {
   "cell_type": "code",
   "execution_count": 14,
   "metadata": {},
   "outputs": [],
   "source": [
    "header_list = get_table_header(driver)"
   ]
  },
  {
   "cell_type": "code",
   "execution_count": 15,
   "metadata": {},
   "outputs": [],
   "source": [
    "from selenium.webdriver.support.ui import WebDriverWait\n",
    "from selenium.webdriver.support import expected_conditions as EC"
   ]
  },
  {
   "cell_type": "code",
   "execution_count": 16,
   "metadata": {},
   "outputs": [
    {
     "name": "stdout",
     "output_type": "stream",
     "text": [
      "Found 25 rows on Page : 1\n",
      "Parsing Page : 1\n",
      "Total rows scraped : 25\n",
      "Clicking Next Button\n",
      "Found 25 rows on Page : 2\n",
      "Parsing Page : 2\n",
      "Total rows scraped : 50\n",
      "Clicking Next Button\n",
      "Found 25 rows on Page : 3\n",
      "Parsing Page : 3\n",
      "Total rows scraped : 75\n",
      "Clicking Next Button\n",
      "Found 25 rows on Page : 4\n",
      "Parsing Page : 4\n",
      "Total rows scraped : 100\n",
      "Done Parsing..\n"
     ]
    }
   ],
   "source": [
    "TOTAL_CRYPTO = 100\n",
    "table_data = []\n",
    "next_button_xpath = '//*[@id=\"scr-res-table\"]/div[2]/button[3]'\n",
    "table_rows = get_table_rows(driver)\n",
    "page_num = 1\n",
    "is_scraping = True\n",
    "\n",
    "while is_scraping:\n",
    "    table_rows = get_table_rows(driver)\n",
    "    print('Found {} rows on Page : {}'.format(table_rows, page_num))\n",
    "    \n",
    "    print('Parsing Page : {}'.format(page_num))\n",
    "    table_data += [parse_table_rows(i, driver, header_list) for i in range (1, table_rows + 1)]\n",
    "    total_count = len(table_data)\n",
    "    print('Total rows scraped : {}'.format(total_count))\n",
    "    if total_count >= TOTAL_CRYPTO:\n",
    "        print('Done Parsing..')\n",
    "        is_scraping = False\n",
    "    else:    \n",
    "        print('Clicking Next Button')\n",
    "        #element = WebDriverWait(driver, 10).until(EC.presence_of_element_located((By.XPATH, next_button_xpath)))\n",
    "        element = find_element_wait(driver, 10, (By.XPATH, next_button_xpath))\n",
    "        element.click() \n",
    "        page_num += 1"
   ]
  },
  {
   "cell_type": "code",
   "execution_count": 17,
   "metadata": {},
   "outputs": [
    {
     "data": {
      "text/plain": [
       "100"
      ]
     },
     "execution_count": 17,
     "metadata": {},
     "output_type": "execute_result"
    }
   ],
   "source": [
    "len(table_data)"
   ]
  },
  {
   "cell_type": "code",
   "execution_count": 18,
   "metadata": {},
   "outputs": [
    {
     "name": "stdout",
     "output_type": "stream",
     "text": [
      "Save the data to a CSV\n"
     ]
    }
   ],
   "source": [
    "print('Save the data to a CSV')\n",
    "table_df = pd.DataFrame(table_data)\n",
    "#print(table_df)\n",
    "table_df.to_csv('cryptocurrencies.csv', index=None)\n",
    "#### add timer "
   ]
  },
  {
   "cell_type": "code",
   "execution_count": 19,
   "metadata": {},
   "outputs": [
    {
     "data": {
      "text/html": [
       "<div>\n",
       "<style scoped>\n",
       "    .dataframe tbody tr th:only-of-type {\n",
       "        vertical-align: middle;\n",
       "    }\n",
       "\n",
       "    .dataframe tbody tr th {\n",
       "        vertical-align: top;\n",
       "    }\n",
       "\n",
       "    .dataframe thead th {\n",
       "        text-align: right;\n",
       "    }\n",
       "</style>\n",
       "<table border=\"1\" class=\"dataframe\">\n",
       "  <thead>\n",
       "    <tr style=\"text-align: right;\">\n",
       "      <th></th>\n",
       "      <th>Symbol</th>\n",
       "      <th>Name</th>\n",
       "      <th>Price (Intraday)</th>\n",
       "      <th>Change</th>\n",
       "      <th>% Change</th>\n",
       "      <th>Market Cap</th>\n",
       "      <th>Volume in Currency (Since 0:00 UTC)</th>\n",
       "      <th>Volume in Currency (24Hr)</th>\n",
       "      <th>Total Volume All Currencies (24Hr)</th>\n",
       "      <th>Circulating Supply</th>\n",
       "    </tr>\n",
       "  </thead>\n",
       "  <tbody>\n",
       "    <tr>\n",
       "      <th>0</th>\n",
       "      <td>BTC-USD</td>\n",
       "      <td>Bitcoin USD</td>\n",
       "      <td>43,478.84</td>\n",
       "      <td>-777.77</td>\n",
       "      <td>-1.76%</td>\n",
       "      <td>824.923B</td>\n",
       "      <td>27.896B</td>\n",
       "      <td>27.896B</td>\n",
       "      <td>27.896B</td>\n",
       "      <td>18.973M</td>\n",
       "    </tr>\n",
       "    <tr>\n",
       "      <th>1</th>\n",
       "      <td>ETH-USD</td>\n",
       "      <td>Ethereum USD</td>\n",
       "      <td>2,909.97</td>\n",
       "      <td>-87.50</td>\n",
       "      <td>-2.92%</td>\n",
       "      <td>348.621B</td>\n",
       "      <td>15.294B</td>\n",
       "      <td>15.294B</td>\n",
       "      <td>15.294B</td>\n",
       "      <td>119.802M</td>\n",
       "    </tr>\n",
       "    <tr>\n",
       "      <th>2</th>\n",
       "      <td>USDT-USD</td>\n",
       "      <td>Tether USD</td>\n",
       "      <td>1.0006</td>\n",
       "      <td>+0.0001</td>\n",
       "      <td>+0.0121%</td>\n",
       "      <td>79.801B</td>\n",
       "      <td>64.847B</td>\n",
       "      <td>64.847B</td>\n",
       "      <td>64.847B</td>\n",
       "      <td>79.757B</td>\n",
       "    </tr>\n",
       "    <tr>\n",
       "      <th>3</th>\n",
       "      <td>BNB-USD</td>\n",
       "      <td>Binance Coin USD</td>\n",
       "      <td>407.15</td>\n",
       "      <td>-4.83</td>\n",
       "      <td>-1.17%</td>\n",
       "      <td>67.227B</td>\n",
       "      <td>1.861B</td>\n",
       "      <td>1.861B</td>\n",
       "      <td>1.861B</td>\n",
       "      <td>165.117M</td>\n",
       "    </tr>\n",
       "    <tr>\n",
       "      <th>4</th>\n",
       "      <td>USDC-USD</td>\n",
       "      <td>USD Coin USD</td>\n",
       "      <td>0.999500</td>\n",
       "      <td>-0.000200</td>\n",
       "      <td>-0.020200%</td>\n",
       "      <td>53.432B</td>\n",
       "      <td>5.027B</td>\n",
       "      <td>5.027B</td>\n",
       "      <td>5.027B</td>\n",
       "      <td>53.457B</td>\n",
       "    </tr>\n",
       "    <tr>\n",
       "      <th>...</th>\n",
       "      <td>...</td>\n",
       "      <td>...</td>\n",
       "      <td>...</td>\n",
       "      <td>...</td>\n",
       "      <td>...</td>\n",
       "      <td>...</td>\n",
       "      <td>...</td>\n",
       "      <td>...</td>\n",
       "      <td>...</td>\n",
       "      <td>...</td>\n",
       "    </tr>\n",
       "    <tr>\n",
       "      <th>95</th>\n",
       "      <td>ROSE-USD</td>\n",
       "      <td>Oasis Network USD</td>\n",
       "      <td>0.264175</td>\n",
       "      <td>+0.000605</td>\n",
       "      <td>+0.23%</td>\n",
       "      <td>922.765M</td>\n",
       "      <td>225.58M</td>\n",
       "      <td>225.58M</td>\n",
       "      <td>225.58M</td>\n",
       "      <td>3.493B</td>\n",
       "    </tr>\n",
       "    <tr>\n",
       "      <th>96</th>\n",
       "      <td>TFUEL-USD</td>\n",
       "      <td>Theta Fuel USD</td>\n",
       "      <td>0.165718</td>\n",
       "      <td>-0.016010</td>\n",
       "      <td>-8.81%</td>\n",
       "      <td>878.506M</td>\n",
       "      <td>78.067M</td>\n",
       "      <td>78.067M</td>\n",
       "      <td>78.067M</td>\n",
       "      <td>5.301B</td>\n",
       "    </tr>\n",
       "    <tr>\n",
       "      <th>97</th>\n",
       "      <td>SAFEMOON-USD</td>\n",
       "      <td>SafeMoon USD</td>\n",
       "      <td>0.00000149</td>\n",
       "      <td>+0.00000017</td>\n",
       "      <td>+12.61%</td>\n",
       "      <td>869.779M</td>\n",
       "      <td>60,283</td>\n",
       "      <td>60,283</td>\n",
       "      <td>60,283</td>\n",
       "      <td>585.536T</td>\n",
       "    </tr>\n",
       "    <tr>\n",
       "      <th>98</th>\n",
       "      <td>DCR-USD</td>\n",
       "      <td>Decred USD</td>\n",
       "      <td>61.69</td>\n",
       "      <td>-0.99</td>\n",
       "      <td>-1.59%</td>\n",
       "      <td>852.165M</td>\n",
       "      <td>7.475M</td>\n",
       "      <td>7.475M</td>\n",
       "      <td>7.475M</td>\n",
       "      <td>13.813M</td>\n",
       "    </tr>\n",
       "    <tr>\n",
       "      <th>99</th>\n",
       "      <td>SCRT-USD</td>\n",
       "      <td>Secret USD</td>\n",
       "      <td>5.0472</td>\n",
       "      <td>-0.2027</td>\n",
       "      <td>-3.86%</td>\n",
       "      <td>824.19M</td>\n",
       "      <td>35.351M</td>\n",
       "      <td>35.351M</td>\n",
       "      <td>35.351M</td>\n",
       "      <td>163.296M</td>\n",
       "    </tr>\n",
       "  </tbody>\n",
       "</table>\n",
       "<p>100 rows × 10 columns</p>\n",
       "</div>"
      ],
      "text/plain": [
       "          Symbol               Name Price (Intraday)       Change    % Change  \\\n",
       "0        BTC-USD        Bitcoin USD        43,478.84      -777.77      -1.76%   \n",
       "1        ETH-USD       Ethereum USD         2,909.97       -87.50      -2.92%   \n",
       "2       USDT-USD         Tether USD           1.0006      +0.0001    +0.0121%   \n",
       "3        BNB-USD   Binance Coin USD           407.15        -4.83      -1.17%   \n",
       "4       USDC-USD       USD Coin USD         0.999500    -0.000200  -0.020200%   \n",
       "..           ...                ...              ...          ...         ...   \n",
       "95      ROSE-USD  Oasis Network USD         0.264175    +0.000605      +0.23%   \n",
       "96     TFUEL-USD     Theta Fuel USD         0.165718    -0.016010      -8.81%   \n",
       "97  SAFEMOON-USD       SafeMoon USD       0.00000149  +0.00000017     +12.61%   \n",
       "98       DCR-USD         Decred USD            61.69        -0.99      -1.59%   \n",
       "99      SCRT-USD         Secret USD           5.0472      -0.2027      -3.86%   \n",
       "\n",
       "   Market Cap Volume in Currency (Since 0:00 UTC) Volume in Currency (24Hr)  \\\n",
       "0    824.923B                             27.896B                   27.896B   \n",
       "1    348.621B                             15.294B                   15.294B   \n",
       "2     79.801B                             64.847B                   64.847B   \n",
       "3     67.227B                              1.861B                    1.861B   \n",
       "4     53.432B                              5.027B                    5.027B   \n",
       "..        ...                                 ...                       ...   \n",
       "95   922.765M                             225.58M                   225.58M   \n",
       "96   878.506M                             78.067M                   78.067M   \n",
       "97   869.779M                              60,283                    60,283   \n",
       "98   852.165M                              7.475M                    7.475M   \n",
       "99    824.19M                             35.351M                   35.351M   \n",
       "\n",
       "   Total Volume All Currencies (24Hr) Circulating Supply  \n",
       "0                             27.896B            18.973M  \n",
       "1                             15.294B           119.802M  \n",
       "2                             64.847B            79.757B  \n",
       "3                              1.861B           165.117M  \n",
       "4                              5.027B            53.457B  \n",
       "..                                ...                ...  \n",
       "95                            225.58M             3.493B  \n",
       "96                            78.067M             5.301B  \n",
       "97                             60,283           585.536T  \n",
       "98                             7.475M            13.813M  \n",
       "99                            35.351M           163.296M  \n",
       "\n",
       "[100 rows x 10 columns]"
      ]
     },
     "execution_count": 19,
     "metadata": {},
     "output_type": "execute_result"
    }
   ],
   "source": [
    "table_df"
   ]
  },
  {
   "cell_type": "code",
   "execution_count": null,
   "metadata": {},
   "outputs": [],
   "source": []
  },
  {
   "cell_type": "code",
   "execution_count": null,
   "metadata": {},
   "outputs": [
    {
     "data": {
      "application/javascript": [
       "window.require && require([\"base/js/namespace\"],function(Jupyter){Jupyter.notebook.save_checkpoint()})"
      ],
      "text/plain": [
       "<IPython.core.display.Javascript object>"
      ]
     },
     "metadata": {},
     "output_type": "display_data"
    }
   ],
   "source": [
    "jovian.commit(project=\"selenium-yahoo-finance-scraper\",git_commit=True)"
   ]
  },
  {
   "cell_type": "code",
   "execution_count": null,
   "metadata": {},
   "outputs": [],
   "source": []
  }
 ],
 "metadata": {
  "kernelspec": {
   "display_name": "Python 3 (ipykernel)",
   "language": "python",
   "name": "python3"
  },
  "language_info": {
   "codemirror_mode": {
    "name": "ipython",
    "version": 3
   },
   "file_extension": ".py",
   "mimetype": "text/x-python",
   "name": "python",
   "nbconvert_exporter": "python",
   "pygments_lexer": "ipython3",
   "version": "3.9.7"
  }
 },
 "nbformat": 4,
 "nbformat_minor": 2
}
