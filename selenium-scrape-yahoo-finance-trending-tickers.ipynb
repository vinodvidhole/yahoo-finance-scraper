{
 "cells": [
  {
   "cell_type": "markdown",
   "metadata": {},
   "source": [
    "# selenium-yahoo-finance-scraper\n",
    "\n",
    "Use the \"Run\" button to execute the code."
   ]
  },
  {
   "cell_type": "code",
   "execution_count": null,
   "metadata": {},
   "outputs": [],
   "source": [
    "!pip install jovian --upgrade --quiet\n",
    "!pip install selenium --upgrade --quiet"
   ]
  },
  {
   "cell_type": "code",
   "execution_count": null,
   "metadata": {},
   "outputs": [],
   "source": [
    "import jovian"
   ]
  },
  {
   "cell_type": "code",
   "execution_count": null,
   "metadata": {},
   "outputs": [],
   "source": [
    "# Execute this to save new versions of the notebook\n",
    "jovian.commit(project=\"selenium-yahoo-finance-scraper\")"
   ]
  },
  {
   "cell_type": "code",
   "execution_count": null,
   "metadata": {},
   "outputs": [],
   "source": [
    "from selenium import webdriver\n",
    "from selenium.webdriver.chrome.options import Options\n",
    "from selenium.webdriver.common.by import By\n",
    "import pandas as pd "
   ]
  },
  {
   "cell_type": "code",
   "execution_count": null,
   "metadata": {},
   "outputs": [],
   "source": [
    "def get_driver():\n",
    "    chrome_options = Options()\n",
    "    chrome_options.add_argument('--no-sandbox')\n",
    "    chrome_options.add_argument('--disable-dev-shm-usage')\n",
    "    chrome_options.add_argument('--headless')\n",
    "    driver = webdriver.Chrome(options=chrome_options)\n",
    "    return driver"
   ]
  },
  {
   "cell_type": "code",
   "execution_count": null,
   "metadata": {},
   "outputs": [],
   "source": [
    "def get_tickers(driver):\n",
    "    TABLE_CLASS = \"W(100%)\"  \n",
    "    driver.get(YAHOO_FINANCE_URL)\n",
    "    tablerows = len(driver.find_elements(By.XPATH, value=\"//table[@class= '{}']/tbody/tr\".format(TABLE_CLASS)))\n",
    "    return tablerows"
   ]
  },
  {
   "cell_type": "code",
   "execution_count": null,
   "metadata": {},
   "outputs": [],
   "source": [
    "def parse_ticker(rownum, table_driver):\n",
    "    Symbol = table_driver.find_element(By.XPATH, value=\"//tr[{}]/td[1]\".format(rownum)).text\n",
    "    Name = table_driver.find_element(By.XPATH, value=\"//tr[{}]/td[2]\".format(rownum)).text\n",
    "    LastPrice = table_driver.find_element(By.XPATH, value=\"//tr[{}]/td[3]\".format(rownum)).text\n",
    "    MarketTime = table_driver.find_element(By.XPATH, value=\"//tr[{}]/td[4]\".format(rownum)).text\n",
    "    Change = table_driver.find_element(By.XPATH, value=\"//tr[{}]/td[5]\".format(rownum)).text\n",
    "    PercentChange = table_driver.find_element(By.XPATH, value=\"//tr[{}]/td[6]\".format(rownum)).text\t\n",
    "    Volume = table_driver.find_element(By.XPATH, value=\"//tr[{}]/td[7]\".format(rownum)).text\n",
    "    MarketCap = table_driver.find_element(By.XPATH, value=\"//tr[{}]/td[8]\".format(rownum)).text\t\n",
    "\n",
    "    return {\n",
    "    'Symbol': Symbol,\n",
    "    'Name': Name,\n",
    "    'LastPrice': LastPrice,\n",
    "    'MarketTime': MarketTime,\n",
    "    'Change': Change,\n",
    "    'PercentChange': PercentChange,\n",
    "    'Volume': Volume,\n",
    "    'MarketCap': MarketCap\n",
    "    }"
   ]
  },
  {
   "cell_type": "code",
   "execution_count": null,
   "metadata": {},
   "outputs": [],
   "source": [
    "YAHOO_FINANCE_URL = 'https://finance.yahoo.com/trending-tickers'\n",
    "\n",
    "print('Creating driver')\n",
    "driver = get_driver()\n",
    "\n",
    "print('Fetching the page')\n",
    "table_rows = get_tickers(driver)\n",
    "\n",
    "print(f'Found {table_rows} Tickers')\n",
    "\n",
    "print('Parsing Trending tickers')\n",
    "ticker_data = [parse_ticker(i, driver) for i in range (1, table_rows + 1)]\n",
    "\n",
    "print('Save the data to a CSV')\n",
    "videos_df = pd.DataFrame(ticker_data)\n",
    "#print(videos_df)\n",
    "videos_df.to_csv('trending-tickers.csv', index=None)\n"
   ]
  },
  {
   "cell_type": "code",
   "execution_count": null,
   "metadata": {},
   "outputs": [],
   "source": []
  },
  {
   "cell_type": "code",
   "execution_count": null,
   "metadata": {},
   "outputs": [],
   "source": []
  },
  {
   "cell_type": "code",
   "execution_count": null,
   "metadata": {},
   "outputs": [],
   "source": []
  },
  {
   "cell_type": "code",
   "execution_count": null,
   "metadata": {},
   "outputs": [],
   "source": []
  }
 ],
 "metadata": {
  "kernelspec": {
   "display_name": "Python 3 (ipykernel)",
   "language": "python",
   "name": "python3"
  },
  "language_info": {
   "codemirror_mode": {
    "name": "ipython",
    "version": 3
   },
   "file_extension": ".py",
   "mimetype": "text/x-python",
   "name": "python",
   "nbconvert_exporter": "python",
   "pygments_lexer": "ipython3",
   "version": "3.9.6"
  }
 },
 "nbformat": 4,
 "nbformat_minor": 2
}
