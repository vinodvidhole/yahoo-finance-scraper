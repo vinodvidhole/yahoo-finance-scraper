{
 "cells": [
  {
   "cell_type": "markdown",
   "metadata": {},
   "source": [
    "# tag-scraping-yahoo-finance\n",
    "\n",
    "Use the \"Run\" button to execute the code."
   ]
  },
  {
   "cell_type": "code",
   "execution_count": 1,
   "metadata": {},
   "outputs": [],
   "source": [
    "!pip install jovian --upgrade --quiet"
   ]
  },
  {
   "cell_type": "code",
   "execution_count": 2,
   "metadata": {},
   "outputs": [],
   "source": [
    "import jovian"
   ]
  },
  {
   "cell_type": "code",
   "execution_count": 3,
   "metadata": {},
   "outputs": [
    {
     "data": {
      "application/javascript": [
       "window.require && require([\"base/js/namespace\"],function(Jupyter){Jupyter.notebook.save_checkpoint()})"
      ],
      "text/plain": [
       "<IPython.core.display.Javascript object>"
      ]
     },
     "metadata": {},
     "output_type": "display_data"
    },
    {
     "name": "stdout",
     "output_type": "stream",
     "text": [
      "[jovian] Updating notebook \"vinodvidhole/tag-scraping-yahoo-finance\" on https://jovian.ai/\u001b[0m\n",
      "[jovian] Committed successfully! https://jovian.ai/vinodvidhole/tag-scraping-yahoo-finance\u001b[0m\n"
     ]
    },
    {
     "data": {
      "text/plain": [
       "'https://jovian.ai/vinodvidhole/tag-scraping-yahoo-finance'"
      ]
     },
     "execution_count": 3,
     "metadata": {},
     "output_type": "execute_result"
    }
   ],
   "source": [
    "# Execute this to save new versions of the notebook\n",
    "jovian.commit(project=\"tag-scraping-yahoo-finance\")"
   ]
  },
  {
   "cell_type": "code",
   "execution_count": 4,
   "metadata": {},
   "outputs": [],
   "source": [
    "!pip install requests --upgrade --quiet\n",
    "!pip install bs4 --upgrade --quiet\n",
    "!pip install pandas --upgrade --quiet"
   ]
  },
  {
   "cell_type": "code",
   "execution_count": 5,
   "metadata": {},
   "outputs": [],
   "source": [
    "import requests\n",
    "from bs4 import BeautifulSoup\n",
    "import pandas as pd\n"
   ]
  },
  {
   "cell_type": "code",
   "execution_count": 6,
   "metadata": {},
   "outputs": [],
   "source": [
    "def get_news_page():\n",
    "    # TODO - add comments\n",
    "    news_url = YAHOO_NEWS_URL\n",
    "    response = requests.get(news_url)\n",
    "    if response.status_code != 200:\n",
    "        raise Exception('Failed to load page {}'.format(news_url))\n",
    "    doc = BeautifulSoup(response.text, 'html.parser')\n",
    "    return doc"
   ]
  },
  {
   "cell_type": "code",
   "execution_count": 7,
   "metadata": {},
   "outputs": [],
   "source": [
    "def get_new(doc):\n",
    "    mews_class = \"Ov(h) Pend(44px) Pstart(25px)\"\n",
    "    news_list  = doc.find_all('div', {'class': mews_class})\n",
    "    return news_list"
   ]
  },
  {
   "cell_type": "code",
   "execution_count": 8,
   "metadata": {},
   "outputs": [],
   "source": [
    "def parse_news(news_tag):\n",
    "    news_source = news_tag.find('div').text #source\n",
    "    news_headline = news_tag.find('a').text #heading\n",
    "    news_url = news_tag.find('a')['href'] #link\n",
    "    news_content = news_tag.find('p').text #content\n",
    "    news_image = news_tag.findParent().find('img')['src'] #thumb image\n",
    "    return { 'source' : news_source,\n",
    "            'headline' : news_headline,\n",
    "            'url' : BASE_URL + news_url,\n",
    "            'content' : news_content,\n",
    "            'image' : news_image\n",
    "           }"
   ]
  },
  {
   "cell_type": "code",
   "execution_count": 9,
   "metadata": {},
   "outputs": [
    {
     "name": "stdout",
     "output_type": "stream",
     "text": [
      "Requesting html page\n",
      "Extracting news tags\n",
      "Parsing news tags\n",
      "Save the data to a CSV\n"
     ]
    }
   ],
   "source": [
    "BASE_URL = 'https://finance.yahoo.com'\n",
    "YAHOO_NEWS_URL = BASE_URL+'/topic/stock-market-news/'\n",
    "\n",
    "print('Requesting html page')\n",
    "doc = get_news_page()\n",
    "\n",
    "print('Extracting news tags')\n",
    "news_list = get_new(doc)\n",
    "\n",
    "print('Parsing news tags')\n",
    "news_data = [parse_news(news_tag) for news_tag in news_list]\n",
    "\n",
    "print('Save the data to a CSV')\n",
    "news_df = pd.DataFrame(news_data)\n",
    "news_df.to_csv('stock-market-news.csv', index=None)"
   ]
  },
  {
   "cell_type": "code",
   "execution_count": 10,
   "metadata": {
    "scrolled": true
   },
   "outputs": [
    {
     "data": {
      "text/html": [
       "<div>\n",
       "<style scoped>\n",
       "    .dataframe tbody tr th:only-of-type {\n",
       "        vertical-align: middle;\n",
       "    }\n",
       "\n",
       "    .dataframe tbody tr th {\n",
       "        vertical-align: top;\n",
       "    }\n",
       "\n",
       "    .dataframe thead th {\n",
       "        text-align: right;\n",
       "    }\n",
       "</style>\n",
       "<table border=\"1\" class=\"dataframe\">\n",
       "  <thead>\n",
       "    <tr style=\"text-align: right;\">\n",
       "      <th></th>\n",
       "      <th>source</th>\n",
       "      <th>headline</th>\n",
       "      <th>url</th>\n",
       "      <th>content</th>\n",
       "      <th>image</th>\n",
       "    </tr>\n",
       "  </thead>\n",
       "  <tbody>\n",
       "    <tr>\n",
       "      <th>0</th>\n",
       "      <td>The Wall Street Journal</td>\n",
       "      <td>Lowe’s, SoFi, Carvana: Stocks That Defined the...</td>\n",
       "      <td>https://finance.yahoo.com/m/56ca456e-b1cc-32fc...</td>\n",
       "      <td>Lowe’s said its sales growth will ease this ye...</td>\n",
       "      <td>https://s.yimg.com/uu/api/res/1.2/_c2g3xjQx7fP...</td>\n",
       "    </tr>\n",
       "    <tr>\n",
       "      <th>1</th>\n",
       "      <td>The Wall Street Journal</td>\n",
       "      <td>U.S. Stocks Rally to Finish Turbulent Week</td>\n",
       "      <td>https://finance.yahoo.com/m/3c9cb324-328d-3e63...</td>\n",
       "      <td>Investors shifted bets on how the Fed will pro...</td>\n",
       "      <td>https://s.yimg.com/uu/api/res/1.2/nnkx3__qerms...</td>\n",
       "    </tr>\n",
       "    <tr>\n",
       "      <th>2</th>\n",
       "      <td>MarketWatch</td>\n",
       "      <td>Dish stock rallies to best day in nearly two y...</td>\n",
       "      <td>https://finance.yahoo.com/m/e829339e-fdac-3e13...</td>\n",
       "      <td>Shares of Dish Network Corp. extended their ra...</td>\n",
       "      <td>https://s.yimg.com/uu/api/res/1.2/pGINNkbh.xPG...</td>\n",
       "    </tr>\n",
       "    <tr>\n",
       "      <th>3</th>\n",
       "      <td>Investor's Business Daily</td>\n",
       "      <td>Dow Jones Futures: Market Rally Continues Amid...</td>\n",
       "      <td>https://finance.yahoo.com/m/5e9706a2-d66c-3d05...</td>\n",
       "      <td>A market rally attempt during Russia's Ukraine...</td>\n",
       "      <td>https://s.yimg.com/uu/api/res/1.2/JvJGBmpe0TYt...</td>\n",
       "    </tr>\n",
       "    <tr>\n",
       "      <th>4</th>\n",
       "      <td>MarketWatch</td>\n",
       "      <td>Molina Healthcare to join the S&amp;P 500 index</td>\n",
       "      <td>https://finance.yahoo.com/m/63c445aa-6bd6-3242...</td>\n",
       "      <td>S&amp;P Dow Jones Indices said late Friday that Mo...</td>\n",
       "      <td>https://s.yimg.com/uu/api/res/1.2/KVZNH4zA8LdD...</td>\n",
       "    </tr>\n",
       "    <tr>\n",
       "      <th>5</th>\n",
       "      <td>The Wall Street Journal</td>\n",
       "      <td>Why Stocks Rebounded After Russia Invaded Ukraine</td>\n",
       "      <td>https://finance.yahoo.com/m/62cfaa80-2da0-39d1...</td>\n",
       "      <td>It looks like traders are judging that Ukraine...</td>\n",
       "      <td>https://s.yimg.com/uu/api/res/1.2/cM57LYI7iQip...</td>\n",
       "    </tr>\n",
       "    <tr>\n",
       "      <th>6</th>\n",
       "      <td>Investor's Business Daily</td>\n",
       "      <td>5 Best Chinese Stocks To Buy And Watch</td>\n",
       "      <td>https://finance.yahoo.com/m/e074e541-a391-3d14...</td>\n",
       "      <td>Hundreds of Chinese companies are listed on U....</td>\n",
       "      <td>https://s.yimg.com/uu/api/res/1.2/LZOlRB.FeJ.k...</td>\n",
       "    </tr>\n",
       "    <tr>\n",
       "      <th>7</th>\n",
       "      <td>Bloomberg</td>\n",
       "      <td>Stocks Hedges Pay Off After Another Week of Wi...</td>\n",
       "      <td>https://finance.yahoo.com/news/stocks-hedges-p...</td>\n",
       "      <td>(Bloomberg) -- A tense stretch for Wall Street...</td>\n",
       "      <td>https://s.yimg.com/uu/api/res/1.2/x4TAPh6WZofu...</td>\n",
       "    </tr>\n",
       "    <tr>\n",
       "      <th>8</th>\n",
       "      <td>American City Business Journals</td>\n",
       "      <td>Denver’s office market shows strong signs of b...</td>\n",
       "      <td>https://finance.yahoo.com/m/baf74d30-3529-3062...</td>\n",
       "      <td>In CBRE's monthly office pulse report, Denver'...</td>\n",
       "      <td>https://s.yimg.com/uu/api/res/1.2/m_BDr.cl1lUc...</td>\n",
       "    </tr>\n",
       "    <tr>\n",
       "      <th>9</th>\n",
       "      <td>Investor's Business Daily</td>\n",
       "      <td>RIO Stock A Bright Spot In Ailing Market</td>\n",
       "      <td>https://finance.yahoo.com/m/d7c2ac7d-f6d7-3db1...</td>\n",
       "      <td>There haven't been many bright spots in the ma...</td>\n",
       "      <td>https://s.yimg.com/uu/api/res/1.2/pUvj.cheKWIU...</td>\n",
       "    </tr>\n",
       "  </tbody>\n",
       "</table>\n",
       "</div>"
      ],
      "text/plain": [
       "                            source  \\\n",
       "0          The Wall Street Journal   \n",
       "1          The Wall Street Journal   \n",
       "2                      MarketWatch   \n",
       "3        Investor's Business Daily   \n",
       "4                      MarketWatch   \n",
       "5          The Wall Street Journal   \n",
       "6        Investor's Business Daily   \n",
       "7                        Bloomberg   \n",
       "8  American City Business Journals   \n",
       "9        Investor's Business Daily   \n",
       "\n",
       "                                            headline  \\\n",
       "0  Lowe’s, SoFi, Carvana: Stocks That Defined the...   \n",
       "1         U.S. Stocks Rally to Finish Turbulent Week   \n",
       "2  Dish stock rallies to best day in nearly two y...   \n",
       "3  Dow Jones Futures: Market Rally Continues Amid...   \n",
       "4        Molina Healthcare to join the S&P 500 index   \n",
       "5  Why Stocks Rebounded After Russia Invaded Ukraine   \n",
       "6             5 Best Chinese Stocks To Buy And Watch   \n",
       "7  Stocks Hedges Pay Off After Another Week of Wi...   \n",
       "8  Denver’s office market shows strong signs of b...   \n",
       "9           RIO Stock A Bright Spot In Ailing Market   \n",
       "\n",
       "                                                 url  \\\n",
       "0  https://finance.yahoo.com/m/56ca456e-b1cc-32fc...   \n",
       "1  https://finance.yahoo.com/m/3c9cb324-328d-3e63...   \n",
       "2  https://finance.yahoo.com/m/e829339e-fdac-3e13...   \n",
       "3  https://finance.yahoo.com/m/5e9706a2-d66c-3d05...   \n",
       "4  https://finance.yahoo.com/m/63c445aa-6bd6-3242...   \n",
       "5  https://finance.yahoo.com/m/62cfaa80-2da0-39d1...   \n",
       "6  https://finance.yahoo.com/m/e074e541-a391-3d14...   \n",
       "7  https://finance.yahoo.com/news/stocks-hedges-p...   \n",
       "8  https://finance.yahoo.com/m/baf74d30-3529-3062...   \n",
       "9  https://finance.yahoo.com/m/d7c2ac7d-f6d7-3db1...   \n",
       "\n",
       "                                             content  \\\n",
       "0  Lowe’s said its sales growth will ease this ye...   \n",
       "1  Investors shifted bets on how the Fed will pro...   \n",
       "2  Shares of Dish Network Corp. extended their ra...   \n",
       "3  A market rally attempt during Russia's Ukraine...   \n",
       "4  S&P Dow Jones Indices said late Friday that Mo...   \n",
       "5  It looks like traders are judging that Ukraine...   \n",
       "6  Hundreds of Chinese companies are listed on U....   \n",
       "7  (Bloomberg) -- A tense stretch for Wall Street...   \n",
       "8  In CBRE's monthly office pulse report, Denver'...   \n",
       "9  There haven't been many bright spots in the ma...   \n",
       "\n",
       "                                               image  \n",
       "0  https://s.yimg.com/uu/api/res/1.2/_c2g3xjQx7fP...  \n",
       "1  https://s.yimg.com/uu/api/res/1.2/nnkx3__qerms...  \n",
       "2  https://s.yimg.com/uu/api/res/1.2/pGINNkbh.xPG...  \n",
       "3  https://s.yimg.com/uu/api/res/1.2/JvJGBmpe0TYt...  \n",
       "4  https://s.yimg.com/uu/api/res/1.2/KVZNH4zA8LdD...  \n",
       "5  https://s.yimg.com/uu/api/res/1.2/cM57LYI7iQip...  \n",
       "6  https://s.yimg.com/uu/api/res/1.2/LZOlRB.FeJ.k...  \n",
       "7  https://s.yimg.com/uu/api/res/1.2/x4TAPh6WZofu...  \n",
       "8  https://s.yimg.com/uu/api/res/1.2/m_BDr.cl1lUc...  \n",
       "9  https://s.yimg.com/uu/api/res/1.2/pUvj.cheKWIU...  "
      ]
     },
     "execution_count": 10,
     "metadata": {},
     "output_type": "execute_result"
    }
   ],
   "source": [
    "news_df"
   ]
  },
  {
   "cell_type": "code",
   "execution_count": null,
   "metadata": {},
   "outputs": [],
   "source": []
  },
  {
   "cell_type": "code",
   "execution_count": null,
   "metadata": {},
   "outputs": [
    {
     "data": {
      "application/javascript": [
       "window.require && require([\"base/js/namespace\"],function(Jupyter){Jupyter.notebook.save_checkpoint()})"
      ],
      "text/plain": [
       "<IPython.core.display.Javascript object>"
      ]
     },
     "metadata": {},
     "output_type": "display_data"
    }
   ],
   "source": [
    "jovian.commit(project=\"tag-scraping-yahoo-finance\",git_commit=True)"
   ]
  },
  {
   "cell_type": "code",
   "execution_count": null,
   "metadata": {},
   "outputs": [],
   "source": []
  },
  {
   "cell_type": "code",
   "execution_count": null,
   "metadata": {},
   "outputs": [],
   "source": []
  }
 ],
 "metadata": {
  "kernelspec": {
   "display_name": "Python 3 (ipykernel)",
   "language": "python",
   "name": "python3"
  },
  "language_info": {
   "codemirror_mode": {
    "name": "ipython",
    "version": 3
   },
   "file_extension": ".py",
   "mimetype": "text/x-python",
   "name": "python",
   "nbconvert_exporter": "python",
   "pygments_lexer": "ipython3",
   "version": "3.9.7"
  }
 },
 "nbformat": 4,
 "nbformat_minor": 2
}
