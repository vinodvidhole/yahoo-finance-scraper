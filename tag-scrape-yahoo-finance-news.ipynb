{
 "cells": [
  {
   "cell_type": "markdown",
   "metadata": {},
   "source": [
    "# tag-scraping-yahoo-finance\n",
    "\n",
    "Use the \"Run\" button to execute the code."
   ]
  },
  {
   "cell_type": "code",
   "execution_count": 3,
   "metadata": {},
   "outputs": [],
   "source": [
    "!pip install jovian --upgrade --quiet"
   ]
  },
  {
   "cell_type": "code",
   "execution_count": 4,
   "metadata": {},
   "outputs": [
    {
     "data": {
      "application/javascript": [
       "if (window.IPython && IPython.notebook.kernel) IPython.notebook.kernel.execute('jovian.utils.jupyter.get_notebook_name_saved = lambda: \"' + IPython.notebook.notebook_name + '\"')"
      ],
      "text/plain": [
       "<IPython.core.display.Javascript object>"
      ]
     },
     "metadata": {},
     "output_type": "display_data"
    }
   ],
   "source": [
    "import jovian"
   ]
  },
  {
   "cell_type": "code",
   "execution_count": 5,
   "metadata": {},
   "outputs": [
    {
     "data": {
      "application/javascript": [
       "window.require && require([\"base/js/namespace\"],function(Jupyter){Jupyter.notebook.save_checkpoint()})"
      ],
      "text/plain": [
       "<IPython.core.display.Javascript object>"
      ]
     },
     "metadata": {},
     "output_type": "display_data"
    },
    {
     "name": "stdout",
     "output_type": "stream",
     "text": [
      "[jovian] Updating notebook \"vinodvidhole/tag-scraping-yahoo-finance\" on https://jovian.ai/\u001b[0m\n",
      "[jovian] Committed successfully! https://jovian.ai/vinodvidhole/tag-scraping-yahoo-finance\u001b[0m\n"
     ]
    },
    {
     "data": {
      "text/plain": [
       "'https://jovian.ai/vinodvidhole/tag-scraping-yahoo-finance'"
      ]
     },
     "execution_count": 5,
     "metadata": {},
     "output_type": "execute_result"
    }
   ],
   "source": [
    "# Execute this to save new versions of the notebook\n",
    "jovian.commit(project=\"tag-scraping-yahoo-finance\")"
   ]
  },
  {
   "cell_type": "code",
   "execution_count": 6,
   "metadata": {},
   "outputs": [],
   "source": [
    "!pip install requests --upgrade --quiet\n",
    "!pip install bs4 --upgrade --quiet\n",
    "!pip install pandas --upgrade --quiet"
   ]
  },
  {
   "cell_type": "code",
   "execution_count": 7,
   "metadata": {},
   "outputs": [],
   "source": [
    "import requests\n",
    "from bs4 import BeautifulSoup\n",
    "import pandas as pd\n"
   ]
  },
  {
   "cell_type": "code",
   "execution_count": 8,
   "metadata": {},
   "outputs": [],
   "source": [
    "def get_news_page():\n",
    "    # TODO - add comments\n",
    "    news_url = YAHOO_NEWS_URL\n",
    "    response = requests.get(news_url)\n",
    "    if response.status_code != 200:\n",
    "        raise Exception('Failed to load page {}'.format(news_url))\n",
    "    doc = BeautifulSoup(response.text, 'html.parser')\n",
    "    return doc"
   ]
  },
  {
   "cell_type": "code",
   "execution_count": 9,
   "metadata": {},
   "outputs": [],
   "source": [
    "def get_new(doc):\n",
    "    mews_class = \"Ov(h) Pend(44px) Pstart(25px)\"\n",
    "    news_list  = doc.find_all('div', {'class': mews_class})\n",
    "    return news_list"
   ]
  },
  {
   "cell_type": "code",
   "execution_count": 10,
   "metadata": {},
   "outputs": [],
   "source": [
    "def parse_news(news_tag):\n",
    "    news_source = news_tag.find('div').text #source\n",
    "    news_headline = news_tag.find('a').text #heading\n",
    "    news_url = news_tag.find('a')['href'] #link\n",
    "    news_content = news_tag.find('p').text #content\n",
    "    news_image = news_tag.findParent().find('img')['src'] #thumb image\n",
    "    return { 'source' : news_source,\n",
    "            'headline' : news_headline,\n",
    "            'url' : BASE_URL + news_url,\n",
    "            'content' : news_content,\n",
    "            'image' : news_image\n",
    "           }"
   ]
  },
  {
   "cell_type": "code",
   "execution_count": 11,
   "metadata": {},
   "outputs": [
    {
     "name": "stdout",
     "output_type": "stream",
     "text": [
      "Requesting html page\n",
      "Extracting news tags\n",
      "Parsing news tags\n",
      "Save the data to a CSV\n"
     ]
    }
   ],
   "source": [
    "BASE_URL = 'https://finance.yahoo.com'\n",
    "YAHOO_NEWS_URL = BASE_URL+'/topic/stock-market-news/'\n",
    "\n",
    "print('Requesting html page')\n",
    "doc = get_news_page()\n",
    "\n",
    "print('Extracting news tags')\n",
    "news_list = get_new(doc)\n",
    "\n",
    "print('Parsing news tags')\n",
    "news_data = [parse_news(news_tag) for news_tag in news_list]\n",
    "\n",
    "print('Save the data to a CSV')\n",
    "news_df = pd.DataFrame(news_data)\n",
    "news_df.to_csv('stock-market-news.csv', index=None)"
   ]
  },
  {
   "cell_type": "code",
   "execution_count": 12,
   "metadata": {
    "scrolled": true
   },
   "outputs": [
    {
     "data": {
      "text/html": [
       "<div>\n",
       "<style scoped>\n",
       "    .dataframe tbody tr th:only-of-type {\n",
       "        vertical-align: middle;\n",
       "    }\n",
       "\n",
       "    .dataframe tbody tr th {\n",
       "        vertical-align: top;\n",
       "    }\n",
       "\n",
       "    .dataframe thead th {\n",
       "        text-align: right;\n",
       "    }\n",
       "</style>\n",
       "<table border=\"1\" class=\"dataframe\">\n",
       "  <thead>\n",
       "    <tr style=\"text-align: right;\">\n",
       "      <th></th>\n",
       "      <th>source</th>\n",
       "      <th>headline</th>\n",
       "      <th>url</th>\n",
       "      <th>content</th>\n",
       "      <th>image</th>\n",
       "    </tr>\n",
       "  </thead>\n",
       "  <tbody>\n",
       "    <tr>\n",
       "      <th>0</th>\n",
       "      <td>Investor's Business Daily</td>\n",
       "      <td>RIO Stock A Bright Spot In Ailing Market</td>\n",
       "      <td>https://finance.yahoo.com/m/d7c2ac7d-f6d7-3db1...</td>\n",
       "      <td>There haven't been many bright spots in the ma...</td>\n",
       "      <td>https://s.yimg.com/uu/api/res/1.2/pUvj.cheKWIU...</td>\n",
       "    </tr>\n",
       "    <tr>\n",
       "      <th>1</th>\n",
       "      <td>MarketWatch</td>\n",
       "      <td>Dow logs best day in over a year to end volati...</td>\n",
       "      <td>https://finance.yahoo.com/m/ec6bb4fb-ea7a-3983...</td>\n",
       "      <td>U.S. stock benchmarks close sharply higher Fri...</td>\n",
       "      <td>https://s.yimg.com/uu/api/res/1.2/c6rG3_BWHzDt...</td>\n",
       "    </tr>\n",
       "    <tr>\n",
       "      <th>2</th>\n",
       "      <td>Investor's Business Daily</td>\n",
       "      <td>Defense Stocks In Focus As Russian Troops Clos...</td>\n",
       "      <td>https://finance.yahoo.com/m/c97c6eba-2ed8-3e38...</td>\n",
       "      <td>Defense stocks Lockheed and Northrop rose Frid...</td>\n",
       "      <td>https://s.yimg.com/uu/api/res/1.2/m0lFIH.6M5ss...</td>\n",
       "    </tr>\n",
       "    <tr>\n",
       "      <th>3</th>\n",
       "      <td>TheStreet.com</td>\n",
       "      <td>A Wild Four Days Leaves the Market in Better S...</td>\n",
       "      <td>https://finance.yahoo.com/m/032d75e2-a767-3b40...</td>\n",
       "      <td>The market did a nice job of building on the f...</td>\n",
       "      <td>https://s.yimg.com/uu/api/res/1.2/IYd_zekpYM9U...</td>\n",
       "    </tr>\n",
       "    <tr>\n",
       "      <th>4</th>\n",
       "      <td>Investor's Business Daily</td>\n",
       "      <td>Dell Stock Tumbles After Computer Maker Misses...</td>\n",
       "      <td>https://finance.yahoo.com/m/0041b621-9919-3be5...</td>\n",
       "      <td>Computer hardware giant Dell Technologies Thur...</td>\n",
       "      <td>https://s.yimg.com/uu/api/res/1.2/jLkuvpUiqBod...</td>\n",
       "    </tr>\n",
       "    <tr>\n",
       "      <th>5</th>\n",
       "      <td>Investor's Business Daily</td>\n",
       "      <td>Intuit Stock Falls As TurboTax Maker Impacted ...</td>\n",
       "      <td>https://finance.yahoo.com/m/e5848a6a-f57f-3c4c...</td>\n",
       "      <td>Financial software firm Intuit late Thursday m...</td>\n",
       "      <td>https://s.yimg.com/uu/api/res/1.2/Bl.MVkirY8Fu...</td>\n",
       "    </tr>\n",
       "    <tr>\n",
       "      <th>6</th>\n",
       "      <td>Investor's Business Daily</td>\n",
       "      <td>Dow Jones Surges As Putin Tightens Grip On Ukr...</td>\n",
       "      <td>https://finance.yahoo.com/m/010322bd-83fb-3baf...</td>\n",
       "      <td>The Dow Jones rallied as Vladimir Putin tighte...</td>\n",
       "      <td>https://s.yimg.com/uu/api/res/1.2/X9O4YyXua.Zq...</td>\n",
       "    </tr>\n",
       "    <tr>\n",
       "      <th>7</th>\n",
       "      <td>Investor's Business Daily</td>\n",
       "      <td>Cybersecurity Stocks To Buy And Watch Amid Ukr...</td>\n",
       "      <td>https://finance.yahoo.com/m/758558ed-5483-3092...</td>\n",
       "      <td>The best cybersecurity stocks to own is changi...</td>\n",
       "      <td>https://s.yimg.com/uu/api/res/1.2/HnCgRD_hSDuu...</td>\n",
       "    </tr>\n",
       "    <tr>\n",
       "      <th>8</th>\n",
       "      <td>MarketWatch</td>\n",
       "      <td>Dow surges 835 points to log best day in over ...</td>\n",
       "      <td>https://finance.yahoo.com/m/2186e490-1f1f-3bac...</td>\n",
       "      <td>U.S. stock gauges rally sharply Friday, markin...</td>\n",
       "      <td>https://s.yimg.com/uu/api/res/1.2/KVZNH4zA8LdD...</td>\n",
       "    </tr>\n",
       "  </tbody>\n",
       "</table>\n",
       "</div>"
      ],
      "text/plain": [
       "                      source  \\\n",
       "0  Investor's Business Daily   \n",
       "1                MarketWatch   \n",
       "2  Investor's Business Daily   \n",
       "3              TheStreet.com   \n",
       "4  Investor's Business Daily   \n",
       "5  Investor's Business Daily   \n",
       "6  Investor's Business Daily   \n",
       "7  Investor's Business Daily   \n",
       "8                MarketWatch   \n",
       "\n",
       "                                            headline  \\\n",
       "0           RIO Stock A Bright Spot In Ailing Market   \n",
       "1  Dow logs best day in over a year to end volati...   \n",
       "2  Defense Stocks In Focus As Russian Troops Clos...   \n",
       "3  A Wild Four Days Leaves the Market in Better S...   \n",
       "4  Dell Stock Tumbles After Computer Maker Misses...   \n",
       "5  Intuit Stock Falls As TurboTax Maker Impacted ...   \n",
       "6  Dow Jones Surges As Putin Tightens Grip On Ukr...   \n",
       "7  Cybersecurity Stocks To Buy And Watch Amid Ukr...   \n",
       "8  Dow surges 835 points to log best day in over ...   \n",
       "\n",
       "                                                 url  \\\n",
       "0  https://finance.yahoo.com/m/d7c2ac7d-f6d7-3db1...   \n",
       "1  https://finance.yahoo.com/m/ec6bb4fb-ea7a-3983...   \n",
       "2  https://finance.yahoo.com/m/c97c6eba-2ed8-3e38...   \n",
       "3  https://finance.yahoo.com/m/032d75e2-a767-3b40...   \n",
       "4  https://finance.yahoo.com/m/0041b621-9919-3be5...   \n",
       "5  https://finance.yahoo.com/m/e5848a6a-f57f-3c4c...   \n",
       "6  https://finance.yahoo.com/m/010322bd-83fb-3baf...   \n",
       "7  https://finance.yahoo.com/m/758558ed-5483-3092...   \n",
       "8  https://finance.yahoo.com/m/2186e490-1f1f-3bac...   \n",
       "\n",
       "                                             content  \\\n",
       "0  There haven't been many bright spots in the ma...   \n",
       "1  U.S. stock benchmarks close sharply higher Fri...   \n",
       "2  Defense stocks Lockheed and Northrop rose Frid...   \n",
       "3  The market did a nice job of building on the f...   \n",
       "4  Computer hardware giant Dell Technologies Thur...   \n",
       "5  Financial software firm Intuit late Thursday m...   \n",
       "6  The Dow Jones rallied as Vladimir Putin tighte...   \n",
       "7  The best cybersecurity stocks to own is changi...   \n",
       "8  U.S. stock gauges rally sharply Friday, markin...   \n",
       "\n",
       "                                               image  \n",
       "0  https://s.yimg.com/uu/api/res/1.2/pUvj.cheKWIU...  \n",
       "1  https://s.yimg.com/uu/api/res/1.2/c6rG3_BWHzDt...  \n",
       "2  https://s.yimg.com/uu/api/res/1.2/m0lFIH.6M5ss...  \n",
       "3  https://s.yimg.com/uu/api/res/1.2/IYd_zekpYM9U...  \n",
       "4  https://s.yimg.com/uu/api/res/1.2/jLkuvpUiqBod...  \n",
       "5  https://s.yimg.com/uu/api/res/1.2/Bl.MVkirY8Fu...  \n",
       "6  https://s.yimg.com/uu/api/res/1.2/X9O4YyXua.Zq...  \n",
       "7  https://s.yimg.com/uu/api/res/1.2/HnCgRD_hSDuu...  \n",
       "8  https://s.yimg.com/uu/api/res/1.2/KVZNH4zA8LdD...  "
      ]
     },
     "execution_count": 12,
     "metadata": {},
     "output_type": "execute_result"
    }
   ],
   "source": [
    "news_df"
   ]
  },
  {
   "cell_type": "code",
   "execution_count": null,
   "metadata": {},
   "outputs": [],
   "source": []
  }
 ],
 "metadata": {
  "kernelspec": {
   "display_name": "Python 3 (ipykernel)",
   "language": "python",
   "name": "python3"
  },
  "language_info": {
   "codemirror_mode": {
    "name": "ipython",
    "version": 3
   },
   "file_extension": ".py",
   "mimetype": "text/x-python",
   "name": "python",
   "nbconvert_exporter": "python",
   "pygments_lexer": "ipython3",
   "version": "3.9.7"
  }
 },
 "nbformat": 4,
 "nbformat_minor": 2
}
